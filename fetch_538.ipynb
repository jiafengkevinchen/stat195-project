{
 "cells": [
  {
   "cell_type": "code",
   "execution_count": 5,
   "metadata": {},
   "outputs": [],
   "source": [
    "import json, requests\n",
    "\n",
    "r = requests.get('https://projects.fivethirtyeight.com/polls/polls.json')\n",
    "\n",
    "polls = json.loads(r.content)\n",
    "\n",
    "df = pd.DataFrame(polls)\n",
    "\n",
    "def parse_answers(x):\n",
    "    a = x['answers']\n",
    "    idn = x['id']\n",
    "    d = DataFrame(a)\n",
    "    d['id'] = idn\n",
    "    return d\n",
    "\n",
    "dat = pd.concat(df[['answers', 'id']].apply(parse_answers, axis=1).values, sort=False)\n",
    "\n",
    "df = df.iloc[:,1:].merge(dat, how='outer', on='id').copy()\n",
    "\n",
    "df['pct'] = df['pct'].astype(float)\n",
    "df['sampleSize'] = pd.to_numeric(df['sampleSize'])\n",
    "df['startDate'] = pd.to_datetime(df['startDate'])\n",
    "df['endDate'] = pd.to_datetime(df['endDate'])\n",
    "df['created_at'] = pd.to_datetime(df['created_at'])"
   ]
  },
  {
   "cell_type": "code",
   "execution_count": 8,
   "metadata": {},
   "outputs": [
    {
     "data": {
      "text/plain": [
       "count   1585.0000\n",
       "mean     485.3009\n",
       "std      189.5194\n",
       "min       72.0000\n",
       "25%      400.0000\n",
       "50%      495.0000\n",
       "75%      525.0000\n",
       "max     2079.0000\n",
       "Name: sampleSize, dtype: float64"
      ]
     },
     "execution_count": 8,
     "metadata": {},
     "output_type": "execute_result"
    }
   ],
   "source": [
    "house = df.query('type == \"house\"').copy()\n",
    "house['election'] = house['state'] + '-' + house['district'].astype(str)\n",
    "len(house[['district', 'state']].drop_duplicates())\n",
    "house['sampleSize'].describe()"
   ]
  },
  {
   "cell_type": "code",
   "execution_count": 10,
   "metadata": {},
   "outputs": [],
   "source": [
    "polls = house.query('party in [\"Dem\", \"Rep\"]').sort_values('party').groupby(['state','id', 'district','created_at', 'sampleSize']).apply(lambda x: x['pct'].iloc[1] / x['pct'].sum() if len(x) == 2 else np.nan).reset_index()"
   ]
  },
  {
   "cell_type": "code",
   "execution_count": 12,
   "metadata": {},
   "outputs": [],
   "source": [
    "polls.rename(columns={0:'rep_score', 'district': 'fivethirtyeight_district'}).to_feather('polls.feather')"
   ]
  },
  {
   "cell_type": "code",
   "execution_count": null,
   "metadata": {},
   "outputs": [],
   "source": []
  }
 ],
 "metadata": {
  "kernelspec": {
   "display_name": "Python 3",
   "language": "python",
   "name": "python3"
  },
  "language_info": {
   "codemirror_mode": {
    "name": "ipython",
    "version": 3
   },
   "file_extension": ".py",
   "mimetype": "text/x-python",
   "name": "python",
   "nbconvert_exporter": "python",
   "pygments_lexer": "ipython3",
   "version": "3.6.6"
  }
 },
 "nbformat": 4,
 "nbformat_minor": 2
}
