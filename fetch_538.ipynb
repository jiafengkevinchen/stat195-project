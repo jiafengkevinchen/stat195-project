{
 "cells": [
  {
   "cell_type": "code",
   "execution_count": 1,
   "metadata": {},
   "outputs": [],
   "source": [
    "import json, requests"
   ]
  },
  {
   "cell_type": "code",
   "execution_count": 2,
   "metadata": {},
   "outputs": [],
   "source": [
    "r = requests.get('https://projects.fivethirtyeight.com/polls/polls.json')\n",
    "\n",
    "polls = json.loads(r.content)\n",
    "\n",
    "df = pd.DataFrame(polls)\n",
    "\n",
    "def parse_answers(x):\n",
    "    a = x['answers']\n",
    "    idn = x['id']\n",
    "    d = DataFrame(a)\n",
    "    d['id'] = idn\n",
    "    return d\n",
    "\n",
    "dat = pd.concat(df[['answers', 'id']].apply(parse_answers, axis=1).values, sort=False)\n",
    "\n",
    "df = df.iloc[:,1:].merge(dat, how='outer', on='id').copy()\n",
    "\n",
    "df['pct'] = df['pct'].astype(float)\n",
    "df['sampleSize'] = pd.to_numeric(df['sampleSize'])\n",
    "df['startDate'] = pd.to_datetime(df['startDate'])\n",
    "df['endDate'] = pd.to_datetime(df['endDate'])\n",
    "df['created_at'] = pd.to_datetime(df['created_at'])"
   ]
  },
  {
   "cell_type": "code",
   "execution_count": 3,
   "metadata": {},
   "outputs": [],
   "source": [
    "house = df.query('type == \"house\"').copy()"
   ]
  },
  {
   "cell_type": "code",
   "execution_count": 4,
   "metadata": {},
   "outputs": [],
   "source": [
    "house['election'] = house['state'] + '-' + house['district'].astype(str)"
   ]
  },
  {
   "cell_type": "code",
   "execution_count": 8,
   "metadata": {},
   "outputs": [
    {
     "data": {
      "text/plain": [
       "count    861.0000\n",
       "mean     476.3194\n",
       "std      190.1407\n",
       "min       72.0000\n",
       "25%      400.0000\n",
       "50%      446.0000\n",
       "75%      533.0000\n",
       "max     1896.0000\n",
       "Name: sampleSize, dtype: float64"
      ]
     },
     "execution_count": 8,
     "metadata": {},
     "output_type": "execute_result"
    }
   ],
   "source": [
    "house['sampleSize'].describe()"
   ]
  },
  {
   "cell_type": "code",
   "execution_count": null,
   "metadata": {},
   "outputs": [],
   "source": []
  },
  {
   "cell_type": "code",
   "execution_count": null,
   "metadata": {},
   "outputs": [],
   "source": []
  },
  {
   "cell_type": "code",
   "execution_count": null,
   "metadata": {},
   "outputs": [],
   "source": []
  }
 ],
 "metadata": {
  "kernelspec": {
   "display_name": "Python 3",
   "language": "python",
   "name": "python3"
  },
  "language_info": {
   "codemirror_mode": {
    "name": "ipython",
    "version": 3
   },
   "file_extension": ".py",
   "mimetype": "text/x-python",
   "name": "python",
   "nbconvert_exporter": "python",
   "pygments_lexer": "ipython3",
   "version": "3.6.5"
  }
 },
 "nbformat": 4,
 "nbformat_minor": 2
}
