{
 "cells": [
  {
   "cell_type": "code",
   "execution_count": 43,
   "metadata": {},
   "outputs": [],
   "source": [
    "import us"
   ]
  },
  {
   "cell_type": "markdown",
   "metadata": {},
   "source": [
    "# 9, 8, 7, 2, 3, 5"
   ]
  },
  {
   "cell_type": "code",
   "execution_count": 153,
   "metadata": {},
   "outputs": [],
   "source": [
    "# 2 Have district results on my own, skipping\n",
    "# pd.read_csv('data/2_Puhalendran_Seltzer_district_result.docx', encoding='latin-1')\n",
    "\n",
    "# 3 I have no idea why first name popularity is relevant but ok\n",
    "# df3 = pd.read_csv('data/3_Sundar_Solai_Susan_Xu_feature.csv', encoding='latin-1')\n",
    "# df3['state'] = df3['district'].apply(lambda x : x.split(' ')[0].lower().capitalize())\n",
    "# df3['area'] = "
   ]
  },
  {
   "cell_type": "code",
   "execution_count": 154,
   "metadata": {},
   "outputs": [],
   "source": [
    "# 5 Race\n",
    "df5 = pd.read_csv('data/5_Miruna_Everett_Peter_Minority_Feature.csv', encoding='latin-1').iloc[:,1:]"
   ]
  },
  {
   "cell_type": "code",
   "execution_count": 155,
   "metadata": {},
   "outputs": [],
   "source": [
    "df5 = (df5.merge(df[['name', 'state_fips', 'district', 'congress_session']], \n",
    "                left_on='congressional_district', right_on='name', how='left')\n",
    "       .drop(['congressional_district', 'candidates','year'], axis=1))"
   ]
  },
  {
   "cell_type": "code",
   "execution_count": 229,
   "metadata": {},
   "outputs": [],
   "source": [
    "years = {'106th Congress': 1998, \n",
    " '109th Congress': 2004, \n",
    " '110th Congress': 2006, \n",
    " '111th Congress': 2008,\n",
    " '112th Congress': 2010, \n",
    " '113th Congress': 2012, \n",
    " '114th Congress': 2014, \n",
    " '115th Congress': 2016}\n",
    "df5['raceyear'] = df5['congress_session'].apply(lambda x: years[x])"
   ]
  },
  {
   "cell_type": "code",
   "execution_count": 156,
   "metadata": {},
   "outputs": [],
   "source": [
    "# 7 \n",
    "df7 = pd.read_csv('data/7_presidential approval ratings  Wanqian, Russell, Eric.csv')\n",
    "df7['state_fips'] = df7['district'].apply(lambda x : us.states.lookup(x.split('-')[0]).fips)\n",
    "df7['district'] = df7['district'].apply(lambda x : x.split('-')[1].zfill(2))\n",
    "df7['lastname'] = df7['name'].apply(lambda x : x.split(', ')[0])\n",
    "df7.columns = ['raceyear', 'cand_name', 'district', 'pres_approval', 'same_as_pres_party', 'state_fips', 'lastname']\n",
    "df7['district'] = df7['district'].astype(int)\n",
    "df7['state_fips'] = df7['state_fips'].astype(int)\n",
    "df7.loc[df7['raceyear'] == 2016, 'lastname'] = df7.loc[df7['raceyear'] == 2016, 'cand_name'].apply(lambda x : x.split(' ')[-1])"
   ]
  },
  {
   "cell_type": "code",
   "execution_count": 157,
   "metadata": {},
   "outputs": [],
   "source": [
    "reps = df[['state_fips', 'district', 'raceyear', 'repcandidate']].copy()\n",
    "reps['lastname'] = reps['repcandidate'].apply(lambda x: x.split(', ')[0] if type(x) is str else None)\n",
    "reps = reps.merge(df7, on=['raceyear', 'district', 'state_fips', 'lastname'], how='left')"
   ]
  },
  {
   "cell_type": "code",
   "execution_count": 158,
   "metadata": {},
   "outputs": [],
   "source": [
    "dems = df[['state_fips', 'district', 'raceyear', 'demcandidate']].copy()\n",
    "dems['lastname'] = dems['demcandidate'].apply(lambda x: x.split(', ')[0] if type(x) is str else None)\n",
    "dems = dems.merge(df7, on=['raceyear', 'district', 'state_fips', 'lastname'], how='left')"
   ]
  },
  {
   "cell_type": "code",
   "execution_count": 159,
   "metadata": {},
   "outputs": [],
   "source": [
    "df7 = (reps.drop(['lastname', 'cand_name'], axis=1)\n",
    " .merge(dems.drop(['lastname', 'pres_approval', 'cand_name'], axis=1), \n",
    "        on=['state_fips', 'district', 'raceyear'], suffixes=('_rep', '_dem'))).sort_values('raceyear')"
   ]
  },
  {
   "cell_type": "code",
   "execution_count": 160,
   "metadata": {},
   "outputs": [],
   "source": [
    "# 8: weird\n",
    "df8 = pd.read_csv('data/8_Daniel Qu, Theodore Liu, and Jason Ren.csv')\n",
    "df8.columns = ['raceyear', 'state', 'district', 'type']\n",
    "df8['incumbent_party'] = (df8['type'].apply(lambda x : \"R\" \n",
    "                          if x in [0,1,2] else \"D\" if x in [3,4,5] else \"I\"))\n",
    "df8 = df8[['raceyear', 'state', 'district', 'incumbent_party']].copy()"
   ]
  },
  {
   "cell_type": "code",
   "execution_count": 161,
   "metadata": {},
   "outputs": [],
   "source": [
    "# 9\n",
    "df9 = pd.read_csv('data/9_Gloria, Nick, Abhi.csv', sep='\\t', header=None).iloc[:,:5]\n",
    "df9.columns = ['raceyear', 'state', 'district', 'candidate', 'med_income']\n",
    "df9 = df9[['raceyear','state','district','med_income']].drop_duplicates()\n",
    "df9['log_med_income'] = np.log(df9['med_income'])"
   ]
  },
  {
   "cell_type": "markdown",
   "metadata": {},
   "source": [
    "## Main"
   ]
  },
  {
   "cell_type": "code",
   "execution_count": 193,
   "metadata": {},
   "outputs": [
    {
     "name": "stderr",
     "output_type": "stream",
     "text": [
      "/anaconda3/envs/py36/lib/python3.6/site-packages/pandas/io/feather_format.py:112: FutureWarning: `nthreads` argument is deprecated, pass `use_threads` instead\n",
      "  return feather.read_dataframe(path, nthreads=nthreads)\n"
     ]
    }
   ],
   "source": [
    "df = pd.read_feather('past_house.feather')"
   ]
  },
  {
   "cell_type": "code",
   "execution_count": 194,
   "metadata": {},
   "outputs": [],
   "source": [
    "# Only unopposed\n",
    "df = df[df['repcandidate'].notnull() & df['demcandidate'].notnull()]"
   ]
  },
  {
   "cell_type": "code",
   "execution_count": 195,
   "metadata": {},
   "outputs": [],
   "source": [
    "def clean_district(x):\n",
    "    lst = x.split(' ')\n",
    "    t = lst[1:]\n",
    "    if len(t) == 1: \n",
    "        try:\n",
    "            return str(int(t[0])).zfill(2)\n",
    "        except:\n",
    "            return '00'"
   ]
  },
  {
   "cell_type": "code",
   "execution_count": 196,
   "metadata": {},
   "outputs": [],
   "source": [
    "df['district'] = df['area'].apply(clean_district)"
   ]
  },
  {
   "cell_type": "code",
   "execution_count": 197,
   "metadata": {},
   "outputs": [],
   "source": [
    "cols = ['state', 'raceyear', 'district', 'repcandidate', 'repstatus', \n",
    "        'demcandidate', 'demstatus', 'pluralityparty', 'repvotesmajorpercent',\n",
    "        'demvotesmajorpercent']"
   ]
  },
  {
   "cell_type": "code",
   "execution_count": 198,
   "metadata": {},
   "outputs": [],
   "source": [
    "df = df[cols].copy()"
   ]
  },
  {
   "cell_type": "code",
   "execution_count": 199,
   "metadata": {},
   "outputs": [],
   "source": [
    "df['rep_score'] = df['repvotesmajorpercent'] / (df['repvotesmajorpercent'] + df['demvotesmajorpercent'])"
   ]
  },
  {
   "cell_type": "code",
   "execution_count": 200,
   "metadata": {},
   "outputs": [],
   "source": [
    "df['rep_incumbent'] = (df['repstatus'] == 'Incumbent')\n",
    "df['dem_incumbent'] = (df['demstatus'] == 'Incumbent')"
   ]
  },
  {
   "cell_type": "code",
   "execution_count": 201,
   "metadata": {},
   "outputs": [],
   "source": [
    "df = df.drop(['repstatus', 'demstatus', 'pluralityparty', \n",
    "         'repvotesmajorpercent', 'demvotesmajorpercent'], \n",
    "        axis=1)"
   ]
  },
  {
   "cell_type": "code",
   "execution_count": 245,
   "metadata": {},
   "outputs": [],
   "source": [
    "df['state_fips'] = df['state'].apply(lambda x: int(us.states.lookup(x).fips))"
   ]
  },
  {
   "cell_type": "code",
   "execution_count": 247,
   "metadata": {},
   "outputs": [],
   "source": [
    "df.reset_index(drop=True).to_feather('data/main.feather')"
   ]
  },
  {
   "cell_type": "code",
   "execution_count": 248,
   "metadata": {},
   "outputs": [
    {
     "name": "stderr",
     "output_type": "stream",
     "text": [
      "/anaconda3/envs/py36/lib/python3.6/site-packages/pandas/io/feather_format.py:112: FutureWarning: `nthreads` argument is deprecated, pass `use_threads` instead\n",
      "  return feather.read_dataframe(path, nthreads=nthreads)\n"
     ]
    }
   ],
   "source": [
    "df = pd.read_feather('data/main.feather')"
   ]
  },
  {
   "cell_type": "code",
   "execution_count": null,
   "metadata": {},
   "outputs": [],
   "source": []
  },
  {
   "cell_type": "code",
   "execution_count": 240,
   "metadata": {},
   "outputs": [
    {
     "data": {
      "text/html": [
       "<div>\n",
       "<style scoped>\n",
       "    .dataframe tbody tr th:only-of-type {\n",
       "        vertical-align: middle;\n",
       "    }\n",
       "\n",
       "    .dataframe tbody tr th {\n",
       "        vertical-align: top;\n",
       "    }\n",
       "\n",
       "    .dataframe thead th {\n",
       "        text-align: right;\n",
       "    }\n",
       "</style>\n",
       "<table border=\"1\" class=\"dataframe\">\n",
       "  <thead>\n",
       "    <tr style=\"text-align: right;\">\n",
       "      <th></th>\n",
       "      <th>minority_percentage</th>\n",
       "      <th>name</th>\n",
       "      <th>state_fips</th>\n",
       "      <th>district</th>\n",
       "      <th>congress_session</th>\n",
       "      <th>raceyear</th>\n",
       "    </tr>\n",
       "  </thead>\n",
       "  <tbody>\n",
       "    <tr>\n",
       "      <th>0</th>\n",
       "      <td>0.3143</td>\n",
       "      <td>Congressional District 1 (110th Congress), Ala...</td>\n",
       "      <td>1</td>\n",
       "      <td>1</td>\n",
       "      <td>110th Congress</td>\n",
       "      <td>2006</td>\n",
       "    </tr>\n",
       "    <tr>\n",
       "      <th>1</th>\n",
       "      <td>0.3419</td>\n",
       "      <td>Congressional District 2 (110th Congress), Ala...</td>\n",
       "      <td>1</td>\n",
       "      <td>2</td>\n",
       "      <td>110th Congress</td>\n",
       "      <td>2006</td>\n",
       "    </tr>\n",
       "    <tr>\n",
       "      <th>2</th>\n",
       "      <td>0.3538</td>\n",
       "      <td>Congressional District 3 (110th Congress), Ala...</td>\n",
       "      <td>1</td>\n",
       "      <td>3</td>\n",
       "      <td>110th Congress</td>\n",
       "      <td>2006</td>\n",
       "    </tr>\n",
       "    <tr>\n",
       "      <th>3</th>\n",
       "      <td>0.0830</td>\n",
       "      <td>Congressional District 4 (110th Congress), Ala...</td>\n",
       "      <td>1</td>\n",
       "      <td>4</td>\n",
       "      <td>110th Congress</td>\n",
       "      <td>2006</td>\n",
       "    </tr>\n",
       "    <tr>\n",
       "      <th>4</th>\n",
       "      <td>0.2292</td>\n",
       "      <td>Congressional District 5 (110th Congress), Ala...</td>\n",
       "      <td>1</td>\n",
       "      <td>5</td>\n",
       "      <td>110th Congress</td>\n",
       "      <td>2006</td>\n",
       "    </tr>\n",
       "  </tbody>\n",
       "</table>\n",
       "</div>"
      ],
      "text/plain": [
       "   minority_percentage                                               name  \\\n",
       "0               0.3143  Congressional District 1 (110th Congress), Ala...   \n",
       "1               0.3419  Congressional District 2 (110th Congress), Ala...   \n",
       "2               0.3538  Congressional District 3 (110th Congress), Ala...   \n",
       "3               0.0830  Congressional District 4 (110th Congress), Ala...   \n",
       "4               0.2292  Congressional District 5 (110th Congress), Ala...   \n",
       "\n",
       "   state_fips  district congress_session  raceyear  \n",
       "0           1         1   110th Congress      2006  \n",
       "1           1         2   110th Congress      2006  \n",
       "2           1         3   110th Congress      2006  \n",
       "3           1         4   110th Congress      2006  \n",
       "4           1         5   110th Congress      2006  "
      ]
     },
     "execution_count": 240,
     "metadata": {},
     "output_type": "execute_result"
    }
   ],
   "source": [
    "df5.head()"
   ]
  },
  {
   "cell_type": "code",
   "execution_count": 250,
   "metadata": {},
   "outputs": [],
   "source": [
    "df5 = df5.drop(['name','congress_session'], axis=1)\n",
    "df5['district'] = df5['district'].astype(str).str.zfill(2)"
   ]
  },
  {
   "cell_type": "code",
   "execution_count": 255,
   "metadata": {},
   "outputs": [],
   "source": [
    "df7['district'] = df7['district'].astype(str).str.zfill(2)"
   ]
  },
  {
   "cell_type": "code",
   "execution_count": 258,
   "metadata": {},
   "outputs": [],
   "source": [
    "df9['district'] = df9['district'].astype(str).str.zfill(2)"
   ]
  },
  {
   "cell_type": "code",
   "execution_count": 284,
   "metadata": {},
   "outputs": [],
   "source": [
    "(df.merge(df5.drop_duplicates(), how='left')\n",
    " .merge(df7.drop_duplicates(), how='left')\n",
    " .merge(df9.drop_duplicates().drop('med_income', axis=1), how='left')\n",
    " .sort_values('raceyear', ascending=False)\n",
    " .reset_index(drop=True)\n",
    " .to_feather('data/cleaned_train_Kevin.feather'))"
   ]
  },
  {
   "cell_type": "code",
   "execution_count": 269,
   "metadata": {},
   "outputs": [
    {
     "name": "stderr",
     "output_type": "stream",
     "text": [
      "/anaconda3/envs/py36/lib/python3.6/site-packages/pandas/io/feather_format.py:112: FutureWarning: `nthreads` argument is deprecated, pass `use_threads` instead\n",
      "  return feather.read_dataframe(path, nthreads=nthreads)\n"
     ]
    }
   ],
   "source": [
    "test = pd.read_feather('data/main_2018.feather')"
   ]
  },
  {
   "cell_type": "code",
   "execution_count": 273,
   "metadata": {},
   "outputs": [],
   "source": [
    "test['state_fips'] = test['state_fips'].astype(int)"
   ]
  },
  {
   "cell_type": "code",
   "execution_count": 276,
   "metadata": {},
   "outputs": [],
   "source": [
    "test['district'] = test['district'].astype(str).str.zfill(2)"
   ]
  },
  {
   "cell_type": "code",
   "execution_count": 297,
   "metadata": {},
   "outputs": [],
   "source": [
    "df9 = df9.query('state != \"U.S. Virgin Islands\"').copy()\n",
    "df9['state_fips'] = df9['state'].apply(lambda x : int(us.states.lookup(x).fips))"
   ]
  },
  {
   "cell_type": "code",
   "execution_count": 303,
   "metadata": {},
   "outputs": [],
   "source": [
    "# TODO get presidential approval thing\n",
    "(test.merge(df5.query('raceyear==2016')\n",
    "            .drop('raceyear', axis=1)\n",
    "            .drop_duplicates(), \n",
    "           how='left')\n",
    " .merge(df9.query('raceyear==2016').drop(['med_income', 'state','raceyear'], axis=1)\n",
    "        .drop_duplicates(),\n",
    "        how='left')\n",
    " .to_feather('data/test_cleaned_Kevin.feather'))"
   ]
  },
  {
   "cell_type": "code",
   "execution_count": null,
   "metadata": {},
   "outputs": [],
   "source": []
  }
 ],
 "metadata": {
  "kernelspec": {
   "display_name": "Python 3",
   "language": "python",
   "name": "python3"
  },
  "language_info": {
   "codemirror_mode": {
    "name": "ipython",
    "version": 3
   },
   "file_extension": ".py",
   "mimetype": "text/x-python",
   "name": "python",
   "nbconvert_exporter": "python",
   "pygments_lexer": "ipython3",
   "version": "3.6.6"
  }
 },
 "nbformat": 4,
 "nbformat_minor": 2
}
