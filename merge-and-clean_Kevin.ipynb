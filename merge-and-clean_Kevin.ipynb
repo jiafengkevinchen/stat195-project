{
 "cells": [
  {
   "cell_type": "code",
   "execution_count": 44,
   "metadata": {},
   "outputs": [],
   "source": [
    "import us"
   ]
  },
  {
   "cell_type": "markdown",
   "metadata": {},
   "source": [
    "# 9, 8, 7, 2, 3, 5"
   ]
  },
  {
   "cell_type": "code",
   "execution_count": 45,
   "metadata": {},
   "outputs": [],
   "source": [
    "df = pd.read_csv('education.csv')"
   ]
  },
  {
   "cell_type": "code",
   "execution_count": 46,
   "metadata": {},
   "outputs": [],
   "source": [
    "# 2 Have district results on my own, skipping\n",
    "# pd.read_csv('data/2_Puhalendran_Seltzer_district_result.docx', encoding='latin-1')\n",
    "\n",
    "# 3 I have no idea why first name popularity is relevant but ok\n",
    "# df3 = pd.read_csv('data/3_Sundar_Solai_Susan_Xu_feature.csv', encoding='latin-1')\n",
    "# df3['state'] = df3['district'].apply(lambda x : x.split(' ')[0].lower().capitalize())\n",
    "# df3['area'] = "
   ]
  },
  {
   "cell_type": "code",
   "execution_count": 47,
   "metadata": {},
   "outputs": [],
   "source": [
    "# 5 Race\n",
    "df5 = pd.read_csv('data/5_Miruna_Everett_Peter_Minority_Feature.csv', encoding='latin-1').iloc[:,1:]"
   ]
  },
  {
   "cell_type": "code",
   "execution_count": 48,
   "metadata": {},
   "outputs": [],
   "source": [
    "missing_race = pd.read_csv('ACS_11_5YR_S0501/ACS_11_5YR_S0501.csv')[['GEO.display-label', 'HC01_EST_VC20']]\n",
    "missing_race.columns = ['congressional_district', 'minority_percentage']\n",
    "missing_race['minority_percentage'] = 1 - missing_race['minority_percentage']/100"
   ]
  },
  {
   "cell_type": "code",
   "execution_count": 49,
   "metadata": {},
   "outputs": [],
   "source": [
    "df5 = pd.concat([df5, missing_race], axis=0, sort=False)"
   ]
  },
  {
   "cell_type": "code",
   "execution_count": 50,
   "metadata": {},
   "outputs": [],
   "source": [
    "df5 = (df5.merge(df[['name', 'state_fips', 'district', 'congress_session']], \n",
    "                left_on='congressional_district', right_on='name', how='left')\n",
    "       .drop(['congressional_district', 'candidates','year'], axis=1))"
   ]
  },
  {
   "cell_type": "code",
   "execution_count": 51,
   "metadata": {},
   "outputs": [],
   "source": [
    "years = {'106th Congress': 1998, \n",
    " '109th Congress': 2004, \n",
    " '110th Congress': 2006, \n",
    " '111th Congress': 2008,\n",
    " '112th Congress': 2010, \n",
    " '113th Congress': 2012, \n",
    " '114th Congress': 2014, \n",
    " '115th Congress': 2016}\n",
    "df5['raceyear'] = df5['congress_session'].apply(lambda x: years[x])"
   ]
  },
  {
   "cell_type": "code",
   "execution_count": 52,
   "metadata": {},
   "outputs": [],
   "source": [
    "# 7 \n",
    "df7 = pd.read_csv('data/7_presidential approval ratings  Wanqian, Russell, Eric.csv')\n",
    "df7['state_fips'] = df7['district'].apply(lambda x : us.states.lookup(x.split('-')[0]).fips)\n",
    "df7['district'] = df7['district'].apply(lambda x : x.split('-')[1].zfill(2))\n",
    "df7['lastname'] = df7['name'].apply(lambda x : x.split(', ')[0])\n",
    "df7.columns = ['raceyear', 'cand_name', 'district', 'pres_approval', 'same_as_pres_party', 'state_fips', 'lastname']\n",
    "df7['district'] = df7['district'].astype(int)\n",
    "df7['state_fips'] = df7['state_fips'].astype(int)\n",
    "df7.loc[df7['raceyear'] == 2016, 'lastname'] = df7.loc[df7['raceyear'] == 2016, 'cand_name'].apply(lambda x : x.split(' ')[-1])"
   ]
  },
  {
   "cell_type": "code",
   "execution_count": 53,
   "metadata": {},
   "outputs": [],
   "source": [
    "reps = df[['state_fips', 'district', 'raceyear', 'repcandidate']].copy()\n",
    "reps['lastname'] = reps['repcandidate'].apply(lambda x: x.split(', ')[0] if type(x) is str else None)\n",
    "reps = reps.merge(df7, on=['raceyear', 'district', 'state_fips', 'lastname'], how='left')"
   ]
  },
  {
   "cell_type": "code",
   "execution_count": 54,
   "metadata": {},
   "outputs": [],
   "source": [
    "dems = df[['state_fips', 'district', 'raceyear', 'demcandidate']].copy()\n",
    "dems['lastname'] = dems['demcandidate'].apply(lambda x: x.split(', ')[0] if type(x) is str else None)\n",
    "dems = dems.merge(df7, on=['raceyear', 'district', 'state_fips', 'lastname'], how='left')"
   ]
  },
  {
   "cell_type": "code",
   "execution_count": 55,
   "metadata": {},
   "outputs": [],
   "source": [
    "df7 = (reps.drop(['lastname', 'cand_name'], axis=1)\n",
    " .merge(dems.drop(['lastname', 'pres_approval', 'cand_name'], axis=1), \n",
    "        on=['state_fips', 'district', 'raceyear'], suffixes=('_rep', '_dem'))).sort_values('raceyear')"
   ]
  },
  {
   "cell_type": "code",
   "execution_count": 56,
   "metadata": {},
   "outputs": [],
   "source": [
    "# 8: weird\n",
    "df8 = pd.read_csv('data/8_Daniel Qu, Theodore Liu, and Jason Ren.csv')\n",
    "df8.columns = ['raceyear', 'state', 'district', 'type']\n",
    "df8['incumbent_party'] = (df8['type'].apply(lambda x : \"R\" \n",
    "                          if x in [0,1,2] else \"D\" if x in [3,4,5] else \"I\"))\n",
    "df8 = df8[['raceyear', 'state', 'district', 'incumbent_party']].copy()"
   ]
  },
  {
   "cell_type": "code",
   "execution_count": 57,
   "metadata": {},
   "outputs": [],
   "source": [
    "# 9\n",
    "df9 = pd.read_csv('data/9_Gloria, Nick, Abhi.csv', sep='\\t', header=None).iloc[:,:5]\n",
    "df9.columns = ['raceyear', 'state', 'district', 'candidate', 'med_income']\n",
    "df9 = df9[['raceyear','state','district','med_income']].drop_duplicates()\n",
    "df9['log_med_income'] = np.log(df9['med_income'])"
   ]
  },
  {
   "cell_type": "markdown",
   "metadata": {},
   "source": [
    "## Main"
   ]
  },
  {
   "cell_type": "code",
   "execution_count": 193,
   "metadata": {},
   "outputs": [
    {
     "name": "stderr",
     "output_type": "stream",
     "text": [
      "/anaconda3/envs/py36/lib/python3.6/site-packages/pandas/io/feather_format.py:112: FutureWarning: `nthreads` argument is deprecated, pass `use_threads` instead\n",
      "  return feather.read_dataframe(path, nthreads=nthreads)\n"
     ]
    }
   ],
   "source": [
    "df = pd.read_feather('past_house.feather')"
   ]
  },
  {
   "cell_type": "code",
   "execution_count": 194,
   "metadata": {},
   "outputs": [],
   "source": [
    "# Only unopposed\n",
    "df = df[df['repcandidate'].notnull() & df['demcandidate'].notnull()]"
   ]
  },
  {
   "cell_type": "code",
   "execution_count": 195,
   "metadata": {},
   "outputs": [],
   "source": [
    "def clean_district(x):\n",
    "    lst = x.split(' ')\n",
    "    t = lst[1:]\n",
    "    if len(t) == 1: \n",
    "        try:\n",
    "            return str(int(t[0])).zfill(2)\n",
    "        except:\n",
    "            return '00'"
   ]
  },
  {
   "cell_type": "code",
   "execution_count": 196,
   "metadata": {},
   "outputs": [],
   "source": [
    "df['district'] = df['area'].apply(clean_district)"
   ]
  },
  {
   "cell_type": "code",
   "execution_count": 197,
   "metadata": {},
   "outputs": [],
   "source": [
    "cols = ['state', 'raceyear', 'district', 'repcandidate', 'repstatus', \n",
    "        'demcandidate', 'demstatus', 'pluralityparty', 'repvotesmajorpercent',\n",
    "        'demvotesmajorpercent']"
   ]
  },
  {
   "cell_type": "code",
   "execution_count": 198,
   "metadata": {},
   "outputs": [],
   "source": [
    "df = df[cols].copy()"
   ]
  },
  {
   "cell_type": "code",
   "execution_count": 199,
   "metadata": {},
   "outputs": [],
   "source": [
    "df['rep_score'] = df['repvotesmajorpercent'] / (df['repvotesmajorpercent'] + df['demvotesmajorpercent'])"
   ]
  },
  {
   "cell_type": "code",
   "execution_count": 200,
   "metadata": {},
   "outputs": [],
   "source": [
    "df['rep_incumbent'] = (df['repstatus'] == 'Incumbent')\n",
    "df['dem_incumbent'] = (df['demstatus'] == 'Incumbent')"
   ]
  },
  {
   "cell_type": "code",
   "execution_count": 201,
   "metadata": {},
   "outputs": [],
   "source": [
    "df = df.drop(['repstatus', 'demstatus', 'pluralityparty', \n",
    "         'repvotesmajorpercent', 'demvotesmajorpercent'], \n",
    "        axis=1)"
   ]
  },
  {
   "cell_type": "code",
   "execution_count": 245,
   "metadata": {},
   "outputs": [],
   "source": [
    "df['state_fips'] = df['state'].apply(lambda x: int(us.states.lookup(x).fips))"
   ]
  },
  {
   "cell_type": "code",
   "execution_count": 247,
   "metadata": {},
   "outputs": [],
   "source": [
    "df.reset_index(drop=True).to_feather('data/main.feather')"
   ]
  },
  {
   "cell_type": "markdown",
   "metadata": {},
   "source": [
    "# Merge"
   ]
  },
  {
   "cell_type": "code",
   "execution_count": 59,
   "metadata": {},
   "outputs": [
    {
     "name": "stderr",
     "output_type": "stream",
     "text": [
      "/anaconda3/envs/py36/lib/python3.6/site-packages/pandas/io/feather_format.py:112: FutureWarning: `nthreads` argument is deprecated, pass `use_threads` instead\n",
      "  return feather.read_dataframe(path, nthreads=nthreads)\n"
     ]
    }
   ],
   "source": [
    "df = pd.read_feather('data/main.feather')\n",
    "\n",
    "df5.head()\n",
    "\n",
    "df5 = df5.drop(['name','congress_session'], axis=1)\n",
    "df5['district'] = df5['district'].astype(str).str.zfill(2)\n",
    "\n",
    "df7['district'] = df7['district'].astype(str).str.zfill(2)\n",
    "\n",
    "df9['district'] = df9['district'].astype(str).str.zfill(2)\n",
    "\n",
    "education = pd.read_csv('education.csv')\n",
    "\n",
    "education = education[['percent_bachelor_or_above', 'state_fips', 'district', 'raceyear']].drop_duplicates()\n",
    "\n",
    "education['district'] = education['district'].astype(str).str.zfill(2)\n",
    "\n",
    "education['percent_bachelor_or_above'] /= 100\n",
    "\n",
    "(df.merge(df5.drop_duplicates(), how='left')\n",
    " .merge(df7.drop_duplicates(), how='left')\n",
    " .merge(df9.drop_duplicates().drop('med_income', axis=1), how='left')\n",
    " .merge(education, how='left')\n",
    " .sort_values('raceyear', ascending=False)\n",
    " .reset_index(drop=True)).to_feather('data/cleaned_train_Kevin.feather')"
   ]
  },
  {
   "cell_type": "code",
   "execution_count": 324,
   "metadata": {},
   "outputs": [
    {
     "name": "stderr",
     "output_type": "stream",
     "text": [
      "/anaconda3/envs/py36/lib/python3.6/site-packages/pandas/io/feather_format.py:112: FutureWarning: `nthreads` argument is deprecated, pass `use_threads` instead\n",
      "  return feather.read_dataframe(path, nthreads=nthreads)\n"
     ]
    }
   ],
   "source": [
    "test = pd.read_feather('data/main_2018.feather')"
   ]
  },
  {
   "cell_type": "code",
   "execution_count": 325,
   "metadata": {},
   "outputs": [],
   "source": [
    "test['state_fips'] = test['state_fips'].astype(int)"
   ]
  },
  {
   "cell_type": "code",
   "execution_count": 326,
   "metadata": {},
   "outputs": [],
   "source": [
    "test['district'] = test['district'].astype(str).str.zfill(2)"
   ]
  },
  {
   "cell_type": "code",
   "execution_count": 327,
   "metadata": {},
   "outputs": [],
   "source": [
    "df9 = df9.query('state != \"U.S. Virgin Islands\"').copy()\n",
    "df9['state_fips'] = df9['state'].apply(lambda x : int(us.states.lookup(x).fips))"
   ]
  },
  {
   "cell_type": "code",
   "execution_count": 344,
   "metadata": {},
   "outputs": [],
   "source": [
    "test = (test.merge(df5.query('raceyear==2016')\n",
    "            .drop('raceyear', axis=1)\n",
    "            .drop_duplicates(), \n",
    "           how='left')\n",
    " .merge(df9.query('raceyear==2016').drop(['med_income', 'state','raceyear'], axis=1)\n",
    "        .drop_duplicates(),\n",
    "        how='left')\n",
    " .merge(education.query('raceyear==2016').drop(['raceyear'], axis=1), how='left'))\n",
    "\n",
    "approv = pd.read_csv('data/current_approv.csv', header=None).iloc[:,[0,6]]\n",
    "\n",
    "approv.columns = ['s', 'pres_approval']\n",
    "\n",
    "approv['pres_approval'] = approv['pres_approval'].apply(lambda x: float(x[:-1])/100)\n",
    "\n",
    "approv['state_fips'] = approv['s'].apply(lambda s: int(us.states.lookup(s).fips))\n",
    "\n",
    "test['same_as_pres_party_rep'] = True\n",
    "test['same_as_pres_party_dem'] = False"
   ]
  },
  {
   "cell_type": "code",
   "execution_count": 345,
   "metadata": {},
   "outputs": [],
   "source": [
    "test.merge(approv.drop('s', axis=1), how='left').to_feather('data/cleaned_test_Kevin.feather')"
   ]
  },
  {
   "cell_type": "code",
   "execution_count": null,
   "metadata": {},
   "outputs": [],
   "source": []
  },
  {
   "cell_type": "code",
   "execution_count": 60,
   "metadata": {},
   "outputs": [
    {
     "name": "stderr",
     "output_type": "stream",
     "text": [
      "/anaconda3/envs/py36/lib/python3.6/site-packages/pandas/io/feather_format.py:112: FutureWarning: `nthreads` argument is deprecated, pass `use_threads` instead\n",
      "  return feather.read_dataframe(path, nthreads=nthreads)\n"
     ]
    }
   ],
   "source": [
    "test = pd.read_feather('data/cleaned_test_Kevin.feather')\n",
    "train = pd.read_feather('data/cleaned_train_Kevin.feather')"
   ]
  },
  {
   "cell_type": "code",
   "execution_count": 66,
   "metadata": {},
   "outputs": [
    {
     "data": {
      "text/html": [
       "<div>\n",
       "<style scoped>\n",
       "    .dataframe tbody tr th:only-of-type {\n",
       "        vertical-align: middle;\n",
       "    }\n",
       "\n",
       "    .dataframe tbody tr th {\n",
       "        vertical-align: top;\n",
       "    }\n",
       "\n",
       "    .dataframe thead th {\n",
       "        text-align: right;\n",
       "    }\n",
       "</style>\n",
       "<table border=\"1\" class=\"dataframe\">\n",
       "  <thead>\n",
       "    <tr style=\"text-align: right;\">\n",
       "      <th></th>\n",
       "      <th>0</th>\n",
       "      <th>1</th>\n",
       "      <th>2</th>\n",
       "      <th>3</th>\n",
       "      <th>4</th>\n",
       "    </tr>\n",
       "  </thead>\n",
       "  <tbody>\n",
       "    <tr>\n",
       "      <th>state</th>\n",
       "      <td>Alabama</td>\n",
       "      <td>Kansas</td>\n",
       "      <td>California</td>\n",
       "      <td>California</td>\n",
       "      <td>California</td>\n",
       "    </tr>\n",
       "    <tr>\n",
       "      <th>raceyear</th>\n",
       "      <td>2016.0000</td>\n",
       "      <td>2016.0000</td>\n",
       "      <td>2016.0000</td>\n",
       "      <td>2016.0000</td>\n",
       "      <td>2016.0000</td>\n",
       "    </tr>\n",
       "    <tr>\n",
       "      <th>district</th>\n",
       "      <td>02</td>\n",
       "      <td>04</td>\n",
       "      <td>05</td>\n",
       "      <td>04</td>\n",
       "      <td>03</td>\n",
       "    </tr>\n",
       "    <tr>\n",
       "      <th>repcandidate</th>\n",
       "      <td>Roby, Martha</td>\n",
       "      <td>Pompeo, Mike</td>\n",
       "      <td>Santamaria, Carlos</td>\n",
       "      <td>McClintock, Tom</td>\n",
       "      <td>Cleek, N. Eugene</td>\n",
       "    </tr>\n",
       "    <tr>\n",
       "      <th>demcandidate</th>\n",
       "      <td>Mathis, Nathan</td>\n",
       "      <td>Giroux, Daniel B.</td>\n",
       "      <td>Thompson, Mike</td>\n",
       "      <td>Derlet, Robert W.</td>\n",
       "      <td>Garamendi, John</td>\n",
       "    </tr>\n",
       "    <tr>\n",
       "      <th>rep_score</th>\n",
       "      <td>0.5462</td>\n",
       "      <td>0.6720</td>\n",
       "      <td>0.2313</td>\n",
       "      <td>0.6272</td>\n",
       "      <td>0.4065</td>\n",
       "    </tr>\n",
       "    <tr>\n",
       "      <th>rep_incumbent</th>\n",
       "      <td>True</td>\n",
       "      <td>True</td>\n",
       "      <td>False</td>\n",
       "      <td>True</td>\n",
       "      <td>False</td>\n",
       "    </tr>\n",
       "    <tr>\n",
       "      <th>dem_incumbent</th>\n",
       "      <td>False</td>\n",
       "      <td>False</td>\n",
       "      <td>True</td>\n",
       "      <td>False</td>\n",
       "      <td>True</td>\n",
       "    </tr>\n",
       "    <tr>\n",
       "      <th>state_fips</th>\n",
       "      <td>1</td>\n",
       "      <td>20</td>\n",
       "      <td>6</td>\n",
       "      <td>6</td>\n",
       "      <td>6</td>\n",
       "    </tr>\n",
       "    <tr>\n",
       "      <th>minority_percentage</th>\n",
       "      <td>0.3698</td>\n",
       "      <td>0.1753</td>\n",
       "      <td>0.3785</td>\n",
       "      <td>0.1561</td>\n",
       "      <td>0.3347</td>\n",
       "    </tr>\n",
       "    <tr>\n",
       "      <th>pres_approval</th>\n",
       "      <td>0.4000</td>\n",
       "      <td>0.4000</td>\n",
       "      <td>0.6000</td>\n",
       "      <td>0.6000</td>\n",
       "      <td>0.6000</td>\n",
       "    </tr>\n",
       "    <tr>\n",
       "      <th>same_as_pres_party_rep</th>\n",
       "      <td>False</td>\n",
       "      <td>False</td>\n",
       "      <td>False</td>\n",
       "      <td>False</td>\n",
       "      <td>False</td>\n",
       "    </tr>\n",
       "    <tr>\n",
       "      <th>same_as_pres_party_dem</th>\n",
       "      <td>True</td>\n",
       "      <td>True</td>\n",
       "      <td>True</td>\n",
       "      <td>True</td>\n",
       "      <td>True</td>\n",
       "    </tr>\n",
       "    <tr>\n",
       "      <th>log_med_income</th>\n",
       "      <td>10.6463</td>\n",
       "      <td>10.8600</td>\n",
       "      <td>11.1983</td>\n",
       "      <td>11.2128</td>\n",
       "      <td>11.0269</td>\n",
       "    </tr>\n",
       "    <tr>\n",
       "      <th>percent_bachelor_or_above</th>\n",
       "      <td>0.2180</td>\n",
       "      <td>0.2820</td>\n",
       "      <td>0.3040</td>\n",
       "      <td>0.3220</td>\n",
       "      <td>0.2450</td>\n",
       "    </tr>\n",
       "  </tbody>\n",
       "</table>\n",
       "</div>"
      ],
      "text/plain": [
       "                                        0                  1  \\\n",
       "state                             Alabama             Kansas   \n",
       "raceyear                        2016.0000          2016.0000   \n",
       "district                               02                 04   \n",
       "repcandidate                 Roby, Martha       Pompeo, Mike   \n",
       "demcandidate               Mathis, Nathan  Giroux, Daniel B.   \n",
       "rep_score                          0.5462             0.6720   \n",
       "rep_incumbent                        True               True   \n",
       "dem_incumbent                       False              False   \n",
       "state_fips                              1                 20   \n",
       "minority_percentage                0.3698             0.1753   \n",
       "pres_approval                      0.4000             0.4000   \n",
       "same_as_pres_party_rep              False              False   \n",
       "same_as_pres_party_dem               True               True   \n",
       "log_med_income                    10.6463            10.8600   \n",
       "percent_bachelor_or_above          0.2180             0.2820   \n",
       "\n",
       "                                            2                  3  \\\n",
       "state                              California         California   \n",
       "raceyear                            2016.0000          2016.0000   \n",
       "district                                   05                 04   \n",
       "repcandidate               Santamaria, Carlos    McClintock, Tom   \n",
       "demcandidate                   Thompson, Mike  Derlet, Robert W.   \n",
       "rep_score                              0.2313             0.6272   \n",
       "rep_incumbent                           False               True   \n",
       "dem_incumbent                            True              False   \n",
       "state_fips                                  6                  6   \n",
       "minority_percentage                    0.3785             0.1561   \n",
       "pres_approval                          0.6000             0.6000   \n",
       "same_as_pres_party_rep                  False              False   \n",
       "same_as_pres_party_dem                   True               True   \n",
       "log_med_income                        11.1983            11.2128   \n",
       "percent_bachelor_or_above              0.3040             0.3220   \n",
       "\n",
       "                                          4  \n",
       "state                            California  \n",
       "raceyear                          2016.0000  \n",
       "district                                 03  \n",
       "repcandidate               Cleek, N. Eugene  \n",
       "demcandidate                Garamendi, John  \n",
       "rep_score                            0.4065  \n",
       "rep_incumbent                         False  \n",
       "dem_incumbent                          True  \n",
       "state_fips                                6  \n",
       "minority_percentage                  0.3347  \n",
       "pres_approval                        0.6000  \n",
       "same_as_pres_party_rep                False  \n",
       "same_as_pres_party_dem                 True  \n",
       "log_med_income                      11.0269  \n",
       "percent_bachelor_or_above            0.2450  "
      ]
     },
     "execution_count": 66,
     "metadata": {},
     "output_type": "execute_result"
    }
   ],
   "source": [
    "train.head().T"
   ]
  },
  {
   "cell_type": "code",
   "execution_count": 74,
   "metadata": {},
   "outputs": [],
   "source": [
    "test['raceyear'] = 2018\n",
    "test['state'] = test['state_fips'].apply(lambda x : us.states.lookup(str(x).zfill(2)).name)"
   ]
  },
  {
   "cell_type": "code",
   "execution_count": 79,
   "metadata": {},
   "outputs": [],
   "source": [
    "pd.concat([train, test], sort=False).reset_index(drop=True).to_feather('data/kevin_joint.feather')"
   ]
  },
  {
   "cell_type": "code",
   "execution_count": null,
   "metadata": {},
   "outputs": [],
   "source": []
  }
 ],
 "metadata": {
  "kernelspec": {
   "display_name": "Python 3",
   "language": "python",
   "name": "python3"
  },
  "language_info": {
   "codemirror_mode": {
    "name": "ipython",
    "version": 3
   },
   "file_extension": ".py",
   "mimetype": "text/x-python",
   "name": "python",
   "nbconvert_exporter": "python",
   "pygments_lexer": "ipython3",
   "version": "3.6.6"
  }
 },
 "nbformat": 4,
 "nbformat_minor": 2
}
