{
 "cells": [
  {
   "cell_type": "code",
   "execution_count": 43,
   "metadata": {},
   "outputs": [],
   "source": [
    "import us"
   ]
  },
  {
   "cell_type": "markdown",
   "metadata": {},
   "source": [
    "# 9, 8, 7, 2, 3, 5"
   ]
  },
  {
   "cell_type": "code",
   "execution_count": 153,
   "metadata": {},
   "outputs": [],
   "source": [
    "# 2 Have district results on my own, skipping\n",
    "# pd.read_csv('data/2_Puhalendran_Seltzer_district_result.docx', encoding='latin-1')\n",
    "\n",
    "# 3 I have no idea why first name popularity is relevant but ok\n",
    "# df3 = pd.read_csv('data/3_Sundar_Solai_Susan_Xu_feature.csv', encoding='latin-1')\n",
    "# df3['state'] = df3['district'].apply(lambda x : x.split(' ')[0].lower().capitalize())\n",
    "# df3['area'] = "
   ]
  },
  {
   "cell_type": "code",
   "execution_count": 154,
   "metadata": {},
   "outputs": [],
   "source": [
    "# 5 Race\n",
    "df5 = pd.read_csv('data/5_Miruna_Everett_Peter_Minority_Feature.csv', encoding='latin-1').iloc[:,1:]"
   ]
  },
  {
   "cell_type": "code",
   "execution_count": 155,
   "metadata": {},
   "outputs": [],
   "source": [
    "df5 = (df5.merge(df[['name', 'state_fips', 'district', 'congress_session']], \n",
    "                left_on='congressional_district', right_on='name', how='left')\n",
    "       .drop(['congressional_district', 'candidates','year'], axis=1))"
   ]
  },
  {
   "cell_type": "code",
   "execution_count": 156,
   "metadata": {},
   "outputs": [],
   "source": [
    "# 7 \n",
    "df7 = pd.read_csv('data/7_presidential approval ratings  Wanqian, Russell, Eric.csv')\n",
    "df7['state_fips'] = df7['district'].apply(lambda x : us.states.lookup(x.split('-')[0]).fips)\n",
    "df7['district'] = df7['district'].apply(lambda x : x.split('-')[1].zfill(2))\n",
    "df7['lastname'] = df7['name'].apply(lambda x : x.split(', ')[0])\n",
    "df7.columns = ['raceyear', 'cand_name', 'district', 'pres_approval', 'same_as_pres_party', 'state_fips', 'lastname']\n",
    "df7['district'] = df7['district'].astype(int)\n",
    "df7['state_fips'] = df7['state_fips'].astype(int)\n",
    "df7.loc[df7['raceyear'] == 2016, 'lastname'] = df7.loc[df7['raceyear'] == 2016, 'cand_name'].apply(lambda x : x.split(' ')[-1])"
   ]
  },
  {
   "cell_type": "code",
   "execution_count": 157,
   "metadata": {},
   "outputs": [],
   "source": [
    "reps = df[['state_fips', 'district', 'raceyear', 'repcandidate']].copy()\n",
    "reps['lastname'] = reps['repcandidate'].apply(lambda x: x.split(', ')[0] if type(x) is str else None)\n",
    "reps = reps.merge(df7, on=['raceyear', 'district', 'state_fips', 'lastname'], how='left')"
   ]
  },
  {
   "cell_type": "code",
   "execution_count": 158,
   "metadata": {},
   "outputs": [],
   "source": [
    "dems = df[['state_fips', 'district', 'raceyear', 'demcandidate']].copy()\n",
    "dems['lastname'] = dems['demcandidate'].apply(lambda x: x.split(', ')[0] if type(x) is str else None)\n",
    "dems = dems.merge(df7, on=['raceyear', 'district', 'state_fips', 'lastname'], how='left')"
   ]
  },
  {
   "cell_type": "code",
   "execution_count": 159,
   "metadata": {},
   "outputs": [],
   "source": [
    "df7 = (reps.drop(['lastname', 'cand_name'], axis=1)\n",
    " .merge(dems.drop(['lastname', 'pres_approval', 'cand_name'], axis=1), \n",
    "        on=['state_fips', 'district', 'raceyear'], suffixes=('_rep', '_dem'))).sort_values('raceyear')"
   ]
  },
  {
   "cell_type": "code",
   "execution_count": 160,
   "metadata": {},
   "outputs": [],
   "source": [
    "# 8: weird\n",
    "df8 = pd.read_csv('data/8_Daniel Qu, Theodore Liu, and Jason Ren.csv')\n",
    "df8.columns = ['raceyear', 'state', 'district', 'type']\n",
    "df8['incumbent_party'] = (df8['type'].apply(lambda x : \"R\" \n",
    "                          if x in [0,1,2] else \"D\" if x in [3,4,5] else \"I\"))\n",
    "df8 = df8[['raceyear', 'state', 'district', 'incumbent_party']].copy()"
   ]
  },
  {
   "cell_type": "code",
   "execution_count": 161,
   "metadata": {},
   "outputs": [],
   "source": [
    "# 9\n",
    "df9 = pd.read_csv('data/9_Gloria, Nick, Abhi.csv', sep='\\t', header=None).iloc[:,:5]\n",
    "df9.columns = ['raceyear', 'state', 'district', 'candidate', 'med_income']\n",
    "df9 = df9[['raceyear','state','district','med_income']].drop_duplicates()\n",
    "df9['log_med_income'] = np.log(df9['med_income'])"
   ]
  },
  {
   "cell_type": "code",
   "execution_count": null,
   "metadata": {},
   "outputs": [],
   "source": []
  },
  {
   "cell_type": "code",
   "execution_count": 193,
   "metadata": {},
   "outputs": [
    {
     "name": "stderr",
     "output_type": "stream",
     "text": [
      "/anaconda3/envs/py36/lib/python3.6/site-packages/pandas/io/feather_format.py:112: FutureWarning: `nthreads` argument is deprecated, pass `use_threads` instead\n",
      "  return feather.read_dataframe(path, nthreads=nthreads)\n"
     ]
    }
   ],
   "source": [
    "df = pd.read_feather('past_house.feather')"
   ]
  },
  {
   "cell_type": "code",
   "execution_count": 194,
   "metadata": {},
   "outputs": [],
   "source": [
    "# Only unopposed\n",
    "df = df[df['repcandidate'].notnull() & df['demcandidate'].notnull()]"
   ]
  },
  {
   "cell_type": "code",
   "execution_count": 195,
   "metadata": {},
   "outputs": [],
   "source": [
    "def clean_district(x):\n",
    "    lst = x.split(' ')\n",
    "    t = lst[1:]\n",
    "    if len(t) == 1: \n",
    "        try:\n",
    "            return str(int(t[0])).zfill(2)\n",
    "        except:\n",
    "            return '00'"
   ]
  },
  {
   "cell_type": "code",
   "execution_count": 196,
   "metadata": {},
   "outputs": [],
   "source": [
    "df['district'] = df['area'].apply(clean_district)"
   ]
  },
  {
   "cell_type": "code",
   "execution_count": 197,
   "metadata": {},
   "outputs": [],
   "source": [
    "cols = ['state', 'raceyear', 'district', 'repcandidate', 'repstatus', \n",
    "        'demcandidate', 'demstatus', 'pluralityparty', 'repvotesmajorpercent',\n",
    "        'demvotesmajorpercent']"
   ]
  },
  {
   "cell_type": "code",
   "execution_count": 198,
   "metadata": {},
   "outputs": [],
   "source": [
    "df = df[cols].copy()"
   ]
  },
  {
   "cell_type": "code",
   "execution_count": 199,
   "metadata": {},
   "outputs": [],
   "source": [
    "df['rep_score'] = df['repvotesmajorpercent'] / (df['repvotesmajorpercent'] + df['demvotesmajorpercent'])"
   ]
  },
  {
   "cell_type": "code",
   "execution_count": 200,
   "metadata": {},
   "outputs": [],
   "source": [
    "df['rep_incumbent'] = (df['repstatus'] == 'Incumbent')\n",
    "df['dem_incumbent'] = (df['demstatus'] == 'Incumbent')"
   ]
  },
  {
   "cell_type": "code",
   "execution_count": 201,
   "metadata": {},
   "outputs": [],
   "source": [
    "df = df.drop(['repstatus', 'demstatus', 'pluralityparty', \n",
    "         'repvotesmajorpercent', 'demvotesmajorpercent'], \n",
    "        axis=1)"
   ]
  },
  {
   "cell_type": "code",
   "execution_count": 207,
   "metadata": {},
   "outputs": [],
   "source": [
    "df.reset_index(drop=True).to_feather('data/main.feather')"
   ]
  },
  {
   "cell_type": "code",
   "execution_count": null,
   "metadata": {},
   "outputs": [],
   "source": []
  },
  {
   "cell_type": "code",
   "execution_count": null,
   "metadata": {},
   "outputs": [],
   "source": []
  }
 ],
 "metadata": {
  "kernelspec": {
   "display_name": "Python 3",
   "language": "python",
   "name": "python3"
  },
  "language_info": {
   "codemirror_mode": {
    "name": "ipython",
    "version": 3
   },
   "file_extension": ".py",
   "mimetype": "text/x-python",
   "name": "python",
   "nbconvert_exporter": "python",
   "pygments_lexer": "ipython3",
   "version": "3.6.6"
  }
 },
 "nbformat": 4,
 "nbformat_minor": 2
}
