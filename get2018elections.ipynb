{
 "cells": [
  {
   "cell_type": "code",
   "execution_count": 20,
   "metadata": {},
   "outputs": [],
   "source": [
    "import requests, json, us"
   ]
  },
  {
   "cell_type": "code",
   "execution_count": 2,
   "metadata": {},
   "outputs": [],
   "source": [
    "data = json.loads(requests.get('https://projects.fivethirtyeight.com/2018-midterm-election-forecast/house/home.json').content)"
   ]
  },
  {
   "cell_type": "code",
   "execution_count": 5,
   "metadata": {},
   "outputs": [],
   "source": [
    "data = data['districtForecasts']"
   ]
  },
  {
   "cell_type": "code",
   "execution_count": 34,
   "metadata": {},
   "outputs": [],
   "source": [
    "def process_district(d):\n",
    "    res = {}\n",
    "    res['state'] = d['state']\n",
    "    res['district'] = d['district']\n",
    "    for c in d['forecast']:\n",
    "        if c['party'] == 'D':\n",
    "            res['demcandidate'] = c['candidate']\n",
    "        elif c['party'] == 'R':\n",
    "            res['repcandidate'] = c['candidate']\n",
    "    res['dem_incumbent'] = False\n",
    "    res['rep_incumbent'] = False\n",
    "    for i in d['incumbents']:\n",
    "        if i['party'] == \"R\":\n",
    "            res['rep_incumbent'] = True\n",
    "        elif i['party'] == \"D\":\n",
    "            res['dem_incumbent'] = True\n",
    "    \n",
    "    return res"
   ]
  },
  {
   "cell_type": "code",
   "execution_count": 35,
   "metadata": {},
   "outputs": [],
   "source": [
    "current = pd.DataFrame([process_district(d) for d in data]).query('state != \"US\"')"
   ]
  },
  {
   "cell_type": "code",
   "execution_count": 36,
   "metadata": {},
   "outputs": [],
   "source": [
    "current['state_fips'] = current['state'].apply(lambda x : us.states.lookup(x).fips)"
   ]
  },
  {
   "cell_type": "code",
   "execution_count": 37,
   "metadata": {},
   "outputs": [],
   "source": [
    "current = current.rename(columns={'district' : 'fivethirtyeight_district'})"
   ]
  },
  {
   "cell_type": "code",
   "execution_count": 40,
   "metadata": {},
   "outputs": [],
   "source": [
    "def generate_district(x):\n",
    "    if len(x) == 1:\n",
    "        x['district'] = 0\n",
    "    else:\n",
    "        x['district'] = x['fivethirtyeight_district']\n",
    "    return x\n",
    "\n",
    "current = current.groupby('state_fips').apply(generate_district)"
   ]
  },
  {
   "cell_type": "code",
   "execution_count": 47,
   "metadata": {},
   "outputs": [],
   "source": [
    "(current.reset_index(drop=True)\n",
    " .astype({'fivethirtyeight_district':'str', 'state_fips': 'str', 'district':int})\n",
    " .drop('state', axis=1)\n",
    " .to_feather('data/main_2018.feather'))"
   ]
  },
  {
   "cell_type": "code",
   "execution_count": null,
   "metadata": {},
   "outputs": [],
   "source": []
  },
  {
   "cell_type": "code",
   "execution_count": null,
   "metadata": {},
   "outputs": [],
   "source": []
  }
 ],
 "metadata": {
  "kernelspec": {
   "display_name": "Python 3",
   "language": "python",
   "name": "python3"
  },
  "language_info": {
   "codemirror_mode": {
    "name": "ipython",
    "version": 3
   },
   "file_extension": ".py",
   "mimetype": "text/x-python",
   "name": "python",
   "nbconvert_exporter": "python",
   "pygments_lexer": "ipython3",
   "version": "3.6.6"
  }
 },
 "nbformat": 4,
 "nbformat_minor": 2
}
