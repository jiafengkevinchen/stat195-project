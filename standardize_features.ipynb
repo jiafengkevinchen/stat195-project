{
 "cells": [
  {
   "cell_type": "code",
   "execution_count": 12,
   "metadata": {},
   "outputs": [],
   "source": [
    "import us"
   ]
  },
  {
   "cell_type": "code",
   "execution_count": 2,
   "metadata": {},
   "outputs": [],
   "source": [
    "df = pd.read_csv('data/Candidate_2010_2018_sort.csv')"
   ]
  },
  {
   "cell_type": "code",
   "execution_count": 7,
   "metadata": {},
   "outputs": [],
   "source": [
    "educ = pd.read_csv('education.csv')\n",
    "educ = educ[['percent_bachelor_or_above', 'state_fips', 'district', 'year']].copy()"
   ]
  },
  {
   "cell_type": "code",
   "execution_count": 16,
   "metadata": {},
   "outputs": [
    {
     "data": {
      "text/plain": [
       "percent_bachelor_or_above    float64\n",
       "state_fips                     int64\n",
       "district                       int64\n",
       "year                           int64\n",
       "dtype: object"
      ]
     },
     "execution_count": 16,
     "metadata": {},
     "output_type": "execute_result"
    }
   ],
   "source": [
    "educ.head().dtypes"
   ]
  },
  {
   "cell_type": "code",
   "execution_count": 17,
   "metadata": {},
   "outputs": [],
   "source": [
    "df['state_fips'] = df['Cand_Office_St'].apply(lambda x : float(us.states.lookup(x).fips))"
   ]
  },
  {
   "cell_type": "code",
   "execution_count": 23,
   "metadata": {},
   "outputs": [],
   "source": [
    "ed16 = educ.query('year==2016').copy()\n",
    "ed16['year'] = 2018\n",
    "educ = pd.concat([educ, ed16])"
   ]
  },
  {
   "cell_type": "code",
   "execution_count": 29,
   "metadata": {},
   "outputs": [],
   "source": [
    "(df.merge(educ.astype(float).drop_duplicates(), left_on=['state_fips', 'Cand_Office_Dist', 'Year'], \n",
    "         right_on=['state_fips','district','year'], \n",
    "         how='left')\n",
    " .drop(['state_fips', 'year', 'district'], axis=1)\n",
    " .to_csv('education_standardized.csv'))"
   ]
  },
  {
   "cell_type": "code",
   "execution_count": null,
   "metadata": {},
   "outputs": [],
   "source": []
  }
 ],
 "metadata": {
  "kernelspec": {
   "display_name": "Python 3",
   "language": "python",
   "name": "python3"
  },
  "language_info": {
   "codemirror_mode": {
    "name": "ipython",
    "version": 3
   },
   "file_extension": ".py",
   "mimetype": "text/x-python",
   "name": "python",
   "nbconvert_exporter": "python",
   "pygments_lexer": "ipython3",
   "version": "3.6.6"
  }
 },
 "nbformat": 4,
 "nbformat_minor": 2
}
