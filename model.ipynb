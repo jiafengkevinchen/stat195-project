{
 "cells": [
  {
   "cell_type": "markdown",
   "metadata": {},
   "source": [
    "# Simple logistic model with uncertainty\n",
    "We want\n",
    "- Logistic regression \n",
    "- LASSO/Ridge regularization\n",
    "- Uncertainty quantification and prior-ification\n",
    "\n",
    "## Model\n",
    "Let $Y_{it}$ be the Republican _score_, defined as the proportion of votes Republican received over the total votes received by Republican and Democratic candidates. Let $W_{it}$ be whether the Republican wins.\n",
    "\n",
    "Assume that \n",
    "$$\n",
    "Y_{it} \\sim \\mathcal{N}(X\\beta, \\sigma^2)\n",
    "$$\n",
    "We infer $\\beta$ via a penalized logistic regression with cross-validation selection of the penalities. We infer $\\sigma^2$ by simply taking the variance of the prediction errors.\n",
    "\n",
    "On the test set, assume that polls are drawn from $\\text{Bin}(n, Y) \\approx \\mathcal{N}(nY, nY(1-Y))$. This is a normal likelihood with normal prior Bayesian model, and the posterior is easy to compute."
   ]
  },
  {
   "cell_type": "code",
   "execution_count": 160,
   "metadata": {},
   "outputs": [],
   "source": [
    "import us\n",
    "from statsmodels.distributions.empirical_distribution import ECDF\n",
    "from scipy.stats import norm"
   ]
  },
  {
   "cell_type": "code",
   "execution_count": 161,
   "metadata": {},
   "outputs": [],
   "source": [
    "import feather\n",
    "import numpy as np\n",
    "import pandas as pd\n",
    "import seaborn as sns\n",
    "from tqdm import tqdm_notebook as tqdm\n",
    "import matplotlib.pyplot as plt\n",
    "# import geopandas as gpd\n",
    "sns.set_style('white')\n",
    "plt.rcParams['figure.dpi'] = 150"
   ]
  },
  {
   "cell_type": "code",
   "execution_count": 162,
   "metadata": {},
   "outputs": [],
   "source": [
    "from sklearn.linear_model import LogisticRegressionCV, LogisticRegression, ElasticNetCV"
   ]
  },
  {
   "cell_type": "code",
   "execution_count": 163,
   "metadata": {},
   "outputs": [],
   "source": [
    "df = feather.read_dataframe('data/final_merged.feather').drop_duplicates()\n",
    "df['raceyear'] = df['year']"
   ]
  },
  {
   "cell_type": "code",
   "execution_count": 164,
   "metadata": {},
   "outputs": [],
   "source": [
    "trends = pd.read_csv('data/google_trends_3.csv').iloc[:,2:].drop_duplicates().rename(columns={'year' : 'raceyear'})"
   ]
  },
  {
   "cell_type": "code",
   "execution_count": 165,
   "metadata": {},
   "outputs": [],
   "source": [
    "trends = (trends.groupby(['raceyear', 'district', 'state_fips']).mean()\n",
    "          .reset_index()\n",
    "          .assign(\n",
    "              rep_to_tot_nov=lambda x : x['rep_cand_nov'] / (x['dem_cand_nov'] + x['rep_cand_nov']),\n",
    "              rep_to_tot_oct=lambda x : x['rep_cand_oct'] / (x['dem_cand_oct'] + x['rep_cand_oct']),\n",
    "          ))"
   ]
  },
  {
   "cell_type": "code",
   "execution_count": 166,
   "metadata": {},
   "outputs": [],
   "source": [
    "df = (df.merge(trends[['raceyear', 'district', 'state_fips', 'rep_cand_nov', \n",
    "                       'dem_cand_nov','rep_to_tot_nov', 'rep_to_tot_oct']], how='left',))"
   ]
  },
  {
   "cell_type": "code",
   "execution_count": 167,
   "metadata": {},
   "outputs": [],
   "source": [
    "cols = ['rep_incumbent', 'dem_incumbent', 'dem_is_female', 'rep_is_female',\n",
    "       'dem_percent', 'minority_percentage', 'pres_approval', 'same_as_pres_party_rep',\n",
    "       'same_as_pres_party_dem', 'log_med_income', 'percent_bachelor_or_above',\n",
    "        'rep_to_tot_oct', 'rep_to_tot_nov']\n",
    "#        'rep_cand_oct', #'rep_cand_nov', \n",
    "#         'dem_cand_oct', #'dem_cand_nov', 'rep_to_tot_nov', \n",
    "#         'rep_to_tot_oct']\n",
    "\n",
    "for year in df['raceyear'].unique():\n",
    "    df.loc[df['raceyear'] == year, cols] = (df.loc[df['raceyear'] == year, cols]\n",
    "                                        .fillna(df.loc[df['raceyear'] == year, cols]\n",
    "                                                .mean()))"
   ]
  },
  {
   "cell_type": "code",
   "execution_count": 168,
   "metadata": {},
   "outputs": [],
   "source": [
    "state = pd.get_dummies(df['state']).iloc[:,:-1]"
   ]
  },
  {
   "cell_type": "code",
   "execution_count": 169,
   "metadata": {},
   "outputs": [],
   "source": [
    "df = pd.concat([df, state], axis=1, sort=False)"
   ]
  },
  {
   "cell_type": "code",
   "execution_count": 170,
   "metadata": {},
   "outputs": [],
   "source": [
    "# fill na stuff\n",
    "not_failing = (df[cols].isnull().sum(axis=1) <= 3) & (df['raceyear'] < 2018)\n",
    "df.loc[not_failing, cols] = df.loc[not_failing, cols].fillna(df.loc[not_failing, cols].mean())"
   ]
  },
  {
   "cell_type": "code",
   "execution_count": 171,
   "metadata": {},
   "outputs": [],
   "source": [
    "non_dummies = ['rep_score'] + cols\n",
    "covariate_cols = non_dummies + list(state.columns)\n",
    "x_cols = covariate_cols[1:]"
   ]
  },
  {
   "cell_type": "code",
   "execution_count": 172,
   "metadata": {},
   "outputs": [],
   "source": [
    "interaction = []\n",
    "for i, x1 in enumerate(x_cols):\n",
    "    for x2 in x_cols[i:]:\n",
    "        col1 = df[x1].astype(float) \n",
    "        col2 = df[x2].astype(float)\n",
    "        interact = col1 * col2\n",
    "        \n",
    "        # Prevent simple collinearity\n",
    "        if (interact != col1).any() and  (interact != col2).any() and (interact != 0).any():\n",
    "            df[f'{x1}_x_{x2}'] = interact\n",
    "            interaction.append(f'{x1}_x_{x2}')"
   ]
  },
  {
   "cell_type": "code",
   "execution_count": 173,
   "metadata": {},
   "outputs": [],
   "source": [
    "data = df[['raceyear'] + covariate_cols + interaction].copy().astype(float)"
   ]
  },
  {
   "cell_type": "code",
   "execution_count": 174,
   "metadata": {},
   "outputs": [],
   "source": [
    "train = data.query('raceyear < 2018').drop('raceyear', axis=1).dropna().drop_duplicates()\n",
    "test = data.query('raceyear == 2018').drop('raceyear', axis=1)"
   ]
  },
  {
   "cell_type": "code",
   "execution_count": 175,
   "metadata": {},
   "outputs": [],
   "source": [
    "# we don't predict uncontested races\n",
    "uncontest = df.query('raceyear==2018')\n",
    "uncontest_index = uncontest[uncontest['dem_uncontested'] | uncontest['rep_uncontested']].index\n",
    "test_contest = test[~test.index.isin(uncontest_index)].copy()\n",
    "test_uncontest = test[test.index.isin(uncontest_index)].copy()"
   ]
  },
  {
   "cell_type": "code",
   "execution_count": 176,
   "metadata": {},
   "outputs": [
    {
     "name": "stderr",
     "output_type": "stream",
     "text": [
      "/anaconda3/envs/py36/lib/python3.6/site-packages/ipykernel_launcher.py:3: FutureWarning: \n",
      "Passing list-likes to .loc or [] with any missing label will raise\n",
      "KeyError in the future, you can use .reindex() as an alternative.\n",
      "\n",
      "See the documentation here:\n",
      "https://pandas.pydata.org/pandas-docs/stable/indexing.html#deprecate-loc-reindex-listlike\n",
      "  This is separate from the ipykernel package so we can avoid doing imports until\n"
     ]
    }
   ],
   "source": [
    "# info := basic identifiers of district\n",
    "test_info = df.loc[test_contest.index, ['state', 'state_fips','district','fivethirtyeight_district']].copy()\n",
    "train_info = df.loc[train.index, ['state', 'state_fips','district', 'raceyear','total_votes']].copy()"
   ]
  },
  {
   "cell_type": "code",
   "execution_count": 177,
   "metadata": {},
   "outputs": [],
   "source": [
    "# weigh election results by number of votes, CLT\n",
    "# w = (train_info['total_votes'].fillna(train_info['total_votes'].mean())) ** .5\n",
    "# w /= w.sum()"
   ]
  },
  {
   "cell_type": "code",
   "execution_count": 178,
   "metadata": {
    "scrolled": true
   },
   "outputs": [],
   "source": [
    "y = train['rep_score']\n",
    "X = train.loc[:, 'rep_incumbent':].astype(float)"
   ]
  },
  {
   "cell_type": "code",
   "execution_count": 179,
   "metadata": {
    "scrolled": true
   },
   "outputs": [
    {
     "name": "stderr",
     "output_type": "stream",
     "text": [
      "/anaconda3/envs/py36/lib/python3.6/site-packages/sklearn/linear_model/coordinate_descent.py:491: ConvergenceWarning: Objective did not converge. You might want to increase the number of iterations. Fitting data with very small alpha may cause precision problems.\n",
      "  ConvergenceWarning)\n",
      "/anaconda3/envs/py36/lib/python3.6/site-packages/sklearn/linear_model/coordinate_descent.py:491: ConvergenceWarning: Objective did not converge. You might want to increase the number of iterations. Fitting data with very small alpha may cause precision problems.\n",
      "  ConvergenceWarning)\n",
      "/anaconda3/envs/py36/lib/python3.6/site-packages/sklearn/linear_model/coordinate_descent.py:491: ConvergenceWarning: Objective did not converge. You might want to increase the number of iterations. Fitting data with very small alpha may cause precision problems.\n",
      "  ConvergenceWarning)\n",
      "/anaconda3/envs/py36/lib/python3.6/site-packages/sklearn/linear_model/coordinate_descent.py:491: ConvergenceWarning: Objective did not converge. You might want to increase the number of iterations. Fitting data with very small alpha may cause precision problems.\n",
      "  ConvergenceWarning)\n",
      "/anaconda3/envs/py36/lib/python3.6/site-packages/sklearn/linear_model/coordinate_descent.py:491: ConvergenceWarning: Objective did not converge. You might want to increase the number of iterations. Fitting data with very small alpha may cause precision problems.\n",
      "  ConvergenceWarning)\n",
      "/anaconda3/envs/py36/lib/python3.6/site-packages/sklearn/linear_model/coordinate_descent.py:491: ConvergenceWarning: Objective did not converge. You might want to increase the number of iterations. Fitting data with very small alpha may cause precision problems.\n",
      "  ConvergenceWarning)\n",
      "/anaconda3/envs/py36/lib/python3.6/site-packages/sklearn/linear_model/coordinate_descent.py:491: ConvergenceWarning: Objective did not converge. You might want to increase the number of iterations. Fitting data with very small alpha may cause precision problems.\n",
      "  ConvergenceWarning)\n",
      "/anaconda3/envs/py36/lib/python3.6/site-packages/sklearn/linear_model/coordinate_descent.py:491: ConvergenceWarning: Objective did not converge. You might want to increase the number of iterations. Fitting data with very small alpha may cause precision problems.\n",
      "  ConvergenceWarning)\n",
      "/anaconda3/envs/py36/lib/python3.6/site-packages/sklearn/linear_model/coordinate_descent.py:491: ConvergenceWarning: Objective did not converge. You might want to increase the number of iterations. Fitting data with very small alpha may cause precision problems.\n",
      "  ConvergenceWarning)\n",
      "/anaconda3/envs/py36/lib/python3.6/site-packages/sklearn/linear_model/coordinate_descent.py:491: ConvergenceWarning: Objective did not converge. You might want to increase the number of iterations. Fitting data with very small alpha may cause precision problems.\n",
      "  ConvergenceWarning)\n",
      "/anaconda3/envs/py36/lib/python3.6/site-packages/sklearn/linear_model/coordinate_descent.py:491: ConvergenceWarning: Objective did not converge. You might want to increase the number of iterations. Fitting data with very small alpha may cause precision problems.\n",
      "  ConvergenceWarning)\n",
      "/anaconda3/envs/py36/lib/python3.6/site-packages/sklearn/linear_model/coordinate_descent.py:491: ConvergenceWarning: Objective did not converge. You might want to increase the number of iterations. Fitting data with very small alpha may cause precision problems.\n",
      "  ConvergenceWarning)\n",
      "/anaconda3/envs/py36/lib/python3.6/site-packages/sklearn/linear_model/coordinate_descent.py:491: ConvergenceWarning: Objective did not converge. You might want to increase the number of iterations. Fitting data with very small alpha may cause precision problems.\n",
      "  ConvergenceWarning)\n",
      "/anaconda3/envs/py36/lib/python3.6/site-packages/sklearn/linear_model/coordinate_descent.py:491: ConvergenceWarning: Objective did not converge. You might want to increase the number of iterations. Fitting data with very small alpha may cause precision problems.\n",
      "  ConvergenceWarning)\n",
      "/anaconda3/envs/py36/lib/python3.6/site-packages/sklearn/linear_model/coordinate_descent.py:491: ConvergenceWarning: Objective did not converge. You might want to increase the number of iterations. Fitting data with very small alpha may cause precision problems.\n",
      "  ConvergenceWarning)\n",
      "/anaconda3/envs/py36/lib/python3.6/site-packages/sklearn/linear_model/coordinate_descent.py:491: ConvergenceWarning: Objective did not converge. You might want to increase the number of iterations. Fitting data with very small alpha may cause precision problems.\n",
      "  ConvergenceWarning)\n",
      "/anaconda3/envs/py36/lib/python3.6/site-packages/sklearn/linear_model/coordinate_descent.py:491: ConvergenceWarning: Objective did not converge. You might want to increase the number of iterations. Fitting data with very small alpha may cause precision problems.\n",
      "  ConvergenceWarning)\n",
      "/anaconda3/envs/py36/lib/python3.6/site-packages/sklearn/linear_model/coordinate_descent.py:491: ConvergenceWarning: Objective did not converge. You might want to increase the number of iterations. Fitting data with very small alpha may cause precision problems.\n",
      "  ConvergenceWarning)\n",
      "/anaconda3/envs/py36/lib/python3.6/site-packages/sklearn/linear_model/coordinate_descent.py:491: ConvergenceWarning: Objective did not converge. You might want to increase the number of iterations. Fitting data with very small alpha may cause precision problems.\n",
      "  ConvergenceWarning)\n",
      "/anaconda3/envs/py36/lib/python3.6/site-packages/sklearn/linear_model/coordinate_descent.py:491: ConvergenceWarning: Objective did not converge. You might want to increase the number of iterations. Fitting data with very small alpha may cause precision problems.\n",
      "  ConvergenceWarning)\n",
      "/anaconda3/envs/py36/lib/python3.6/site-packages/sklearn/linear_model/coordinate_descent.py:491: ConvergenceWarning: Objective did not converge. You might want to increase the number of iterations. Fitting data with very small alpha may cause precision problems.\n",
      "  ConvergenceWarning)\n",
      "/anaconda3/envs/py36/lib/python3.6/site-packages/sklearn/linear_model/coordinate_descent.py:491: ConvergenceWarning: Objective did not converge. You might want to increase the number of iterations. Fitting data with very small alpha may cause precision problems.\n",
      "  ConvergenceWarning)\n",
      "/anaconda3/envs/py36/lib/python3.6/site-packages/sklearn/linear_model/coordinate_descent.py:491: ConvergenceWarning: Objective did not converge. You might want to increase the number of iterations. Fitting data with very small alpha may cause precision problems.\n",
      "  ConvergenceWarning)\n",
      "/anaconda3/envs/py36/lib/python3.6/site-packages/sklearn/linear_model/coordinate_descent.py:491: ConvergenceWarning: Objective did not converge. You might want to increase the number of iterations. Fitting data with very small alpha may cause precision problems.\n",
      "  ConvergenceWarning)\n",
      "/anaconda3/envs/py36/lib/python3.6/site-packages/sklearn/linear_model/coordinate_descent.py:491: ConvergenceWarning: Objective did not converge. You might want to increase the number of iterations. Fitting data with very small alpha may cause precision problems.\n",
      "  ConvergenceWarning)\n",
      "/anaconda3/envs/py36/lib/python3.6/site-packages/sklearn/linear_model/coordinate_descent.py:491: ConvergenceWarning: Objective did not converge. You might want to increase the number of iterations. Fitting data with very small alpha may cause precision problems.\n",
      "  ConvergenceWarning)\n",
      "/anaconda3/envs/py36/lib/python3.6/site-packages/sklearn/linear_model/coordinate_descent.py:491: ConvergenceWarning: Objective did not converge. You might want to increase the number of iterations. Fitting data with very small alpha may cause precision problems.\n",
      "  ConvergenceWarning)\n",
      "/anaconda3/envs/py36/lib/python3.6/site-packages/sklearn/linear_model/coordinate_descent.py:491: ConvergenceWarning: Objective did not converge. You might want to increase the number of iterations. Fitting data with very small alpha may cause precision problems.\n",
      "  ConvergenceWarning)\n",
      "/anaconda3/envs/py36/lib/python3.6/site-packages/sklearn/linear_model/coordinate_descent.py:491: ConvergenceWarning: Objective did not converge. You might want to increase the number of iterations. Fitting data with very small alpha may cause precision problems.\n",
      "  ConvergenceWarning)\n",
      "/anaconda3/envs/py36/lib/python3.6/site-packages/sklearn/linear_model/coordinate_descent.py:491: ConvergenceWarning: Objective did not converge. You might want to increase the number of iterations. Fitting data with very small alpha may cause precision problems.\n",
      "  ConvergenceWarning)\n",
      "/anaconda3/envs/py36/lib/python3.6/site-packages/sklearn/linear_model/coordinate_descent.py:491: ConvergenceWarning: Objective did not converge. You might want to increase the number of iterations. Fitting data with very small alpha may cause precision problems.\n",
      "  ConvergenceWarning)\n",
      "/anaconda3/envs/py36/lib/python3.6/site-packages/sklearn/linear_model/coordinate_descent.py:491: ConvergenceWarning: Objective did not converge. You might want to increase the number of iterations. Fitting data with very small alpha may cause precision problems.\n",
      "  ConvergenceWarning)\n",
      "/anaconda3/envs/py36/lib/python3.6/site-packages/sklearn/linear_model/coordinate_descent.py:491: ConvergenceWarning: Objective did not converge. You might want to increase the number of iterations. Fitting data with very small alpha may cause precision problems.\n",
      "  ConvergenceWarning)\n",
      "/anaconda3/envs/py36/lib/python3.6/site-packages/sklearn/linear_model/coordinate_descent.py:491: ConvergenceWarning: Objective did not converge. You might want to increase the number of iterations. Fitting data with very small alpha may cause precision problems.\n",
      "  ConvergenceWarning)\n",
      "/anaconda3/envs/py36/lib/python3.6/site-packages/sklearn/linear_model/coordinate_descent.py:491: ConvergenceWarning: Objective did not converge. You might want to increase the number of iterations. Fitting data with very small alpha may cause precision problems.\n",
      "  ConvergenceWarning)\n",
      "/anaconda3/envs/py36/lib/python3.6/site-packages/sklearn/linear_model/coordinate_descent.py:491: ConvergenceWarning: Objective did not converge. You might want to increase the number of iterations. Fitting data with very small alpha may cause precision problems.\n",
      "  ConvergenceWarning)\n",
      "/anaconda3/envs/py36/lib/python3.6/site-packages/sklearn/linear_model/coordinate_descent.py:491: ConvergenceWarning: Objective did not converge. You might want to increase the number of iterations. Fitting data with very small alpha may cause precision problems.\n",
      "  ConvergenceWarning)\n",
      "/anaconda3/envs/py36/lib/python3.6/site-packages/sklearn/linear_model/coordinate_descent.py:491: ConvergenceWarning: Objective did not converge. You might want to increase the number of iterations. Fitting data with very small alpha may cause precision problems.\n",
      "  ConvergenceWarning)\n",
      "/anaconda3/envs/py36/lib/python3.6/site-packages/sklearn/linear_model/coordinate_descent.py:491: ConvergenceWarning: Objective did not converge. You might want to increase the number of iterations. Fitting data with very small alpha may cause precision problems.\n",
      "  ConvergenceWarning)\n",
      "/anaconda3/envs/py36/lib/python3.6/site-packages/sklearn/linear_model/coordinate_descent.py:491: ConvergenceWarning: Objective did not converge. You might want to increase the number of iterations. Fitting data with very small alpha may cause precision problems.\n",
      "  ConvergenceWarning)\n",
      "/anaconda3/envs/py36/lib/python3.6/site-packages/sklearn/linear_model/coordinate_descent.py:491: ConvergenceWarning: Objective did not converge. You might want to increase the number of iterations. Fitting data with very small alpha may cause precision problems.\n",
      "  ConvergenceWarning)\n",
      "/anaconda3/envs/py36/lib/python3.6/site-packages/sklearn/linear_model/coordinate_descent.py:491: ConvergenceWarning: Objective did not converge. You might want to increase the number of iterations. Fitting data with very small alpha may cause precision problems.\n",
      "  ConvergenceWarning)\n",
      "/anaconda3/envs/py36/lib/python3.6/site-packages/sklearn/linear_model/coordinate_descent.py:491: ConvergenceWarning: Objective did not converge. You might want to increase the number of iterations. Fitting data with very small alpha may cause precision problems.\n",
      "  ConvergenceWarning)\n",
      "/anaconda3/envs/py36/lib/python3.6/site-packages/sklearn/linear_model/coordinate_descent.py:491: ConvergenceWarning: Objective did not converge. You might want to increase the number of iterations. Fitting data with very small alpha may cause precision problems.\n",
      "  ConvergenceWarning)\n",
      "/anaconda3/envs/py36/lib/python3.6/site-packages/sklearn/linear_model/coordinate_descent.py:491: ConvergenceWarning: Objective did not converge. You might want to increase the number of iterations. Fitting data with very small alpha may cause precision problems.\n",
      "  ConvergenceWarning)\n",
      "/anaconda3/envs/py36/lib/python3.6/site-packages/sklearn/linear_model/coordinate_descent.py:491: ConvergenceWarning: Objective did not converge. You might want to increase the number of iterations. Fitting data with very small alpha may cause precision problems.\n",
      "  ConvergenceWarning)\n",
      "/anaconda3/envs/py36/lib/python3.6/site-packages/sklearn/linear_model/coordinate_descent.py:491: ConvergenceWarning: Objective did not converge. You might want to increase the number of iterations. Fitting data with very small alpha may cause precision problems.\n",
      "  ConvergenceWarning)\n",
      "/anaconda3/envs/py36/lib/python3.6/site-packages/sklearn/linear_model/coordinate_descent.py:491: ConvergenceWarning: Objective did not converge. You might want to increase the number of iterations. Fitting data with very small alpha may cause precision problems.\n",
      "  ConvergenceWarning)\n",
      "/anaconda3/envs/py36/lib/python3.6/site-packages/sklearn/linear_model/coordinate_descent.py:491: ConvergenceWarning: Objective did not converge. You might want to increase the number of iterations. Fitting data with very small alpha may cause precision problems.\n",
      "  ConvergenceWarning)\n",
      "/anaconda3/envs/py36/lib/python3.6/site-packages/sklearn/linear_model/coordinate_descent.py:491: ConvergenceWarning: Objective did not converge. You might want to increase the number of iterations. Fitting data with very small alpha may cause precision problems.\n",
      "  ConvergenceWarning)\n",
      "/anaconda3/envs/py36/lib/python3.6/site-packages/sklearn/linear_model/coordinate_descent.py:491: ConvergenceWarning: Objective did not converge. You might want to increase the number of iterations. Fitting data with very small alpha may cause precision problems.\n",
      "  ConvergenceWarning)\n",
      "/anaconda3/envs/py36/lib/python3.6/site-packages/sklearn/linear_model/coordinate_descent.py:491: ConvergenceWarning: Objective did not converge. You might want to increase the number of iterations. Fitting data with very small alpha may cause precision problems.\n",
      "  ConvergenceWarning)\n",
      "/anaconda3/envs/py36/lib/python3.6/site-packages/sklearn/linear_model/coordinate_descent.py:491: ConvergenceWarning: Objective did not converge. You might want to increase the number of iterations. Fitting data with very small alpha may cause precision problems.\n",
      "  ConvergenceWarning)\n",
      "/anaconda3/envs/py36/lib/python3.6/site-packages/sklearn/linear_model/coordinate_descent.py:491: ConvergenceWarning: Objective did not converge. You might want to increase the number of iterations. Fitting data with very small alpha may cause precision problems.\n",
      "  ConvergenceWarning)\n",
      "/anaconda3/envs/py36/lib/python3.6/site-packages/sklearn/linear_model/coordinate_descent.py:491: ConvergenceWarning: Objective did not converge. You might want to increase the number of iterations. Fitting data with very small alpha may cause precision problems.\n",
      "  ConvergenceWarning)\n",
      "/anaconda3/envs/py36/lib/python3.6/site-packages/sklearn/linear_model/coordinate_descent.py:491: ConvergenceWarning: Objective did not converge. You might want to increase the number of iterations. Fitting data with very small alpha may cause precision problems.\n",
      "  ConvergenceWarning)\n",
      "/anaconda3/envs/py36/lib/python3.6/site-packages/sklearn/linear_model/coordinate_descent.py:491: ConvergenceWarning: Objective did not converge. You might want to increase the number of iterations. Fitting data with very small alpha may cause precision problems.\n",
      "  ConvergenceWarning)\n",
      "/anaconda3/envs/py36/lib/python3.6/site-packages/sklearn/linear_model/coordinate_descent.py:491: ConvergenceWarning: Objective did not converge. You might want to increase the number of iterations. Fitting data with very small alpha may cause precision problems.\n",
      "  ConvergenceWarning)\n",
      "/anaconda3/envs/py36/lib/python3.6/site-packages/sklearn/linear_model/coordinate_descent.py:491: ConvergenceWarning: Objective did not converge. You might want to increase the number of iterations. Fitting data with very small alpha may cause precision problems.\n",
      "  ConvergenceWarning)\n",
      "/anaconda3/envs/py36/lib/python3.6/site-packages/sklearn/linear_model/coordinate_descent.py:491: ConvergenceWarning: Objective did not converge. You might want to increase the number of iterations. Fitting data with very small alpha may cause precision problems.\n",
      "  ConvergenceWarning)\n",
      "/anaconda3/envs/py36/lib/python3.6/site-packages/sklearn/linear_model/coordinate_descent.py:491: ConvergenceWarning: Objective did not converge. You might want to increase the number of iterations. Fitting data with very small alpha may cause precision problems.\n",
      "  ConvergenceWarning)\n",
      "/anaconda3/envs/py36/lib/python3.6/site-packages/sklearn/linear_model/coordinate_descent.py:491: ConvergenceWarning: Objective did not converge. You might want to increase the number of iterations. Fitting data with very small alpha may cause precision problems.\n",
      "  ConvergenceWarning)\n",
      "/anaconda3/envs/py36/lib/python3.6/site-packages/sklearn/linear_model/coordinate_descent.py:491: ConvergenceWarning: Objective did not converge. You might want to increase the number of iterations. Fitting data with very small alpha may cause precision problems.\n",
      "  ConvergenceWarning)\n",
      "/anaconda3/envs/py36/lib/python3.6/site-packages/sklearn/linear_model/coordinate_descent.py:491: ConvergenceWarning: Objective did not converge. You might want to increase the number of iterations. Fitting data with very small alpha may cause precision problems.\n",
      "  ConvergenceWarning)\n",
      "/anaconda3/envs/py36/lib/python3.6/site-packages/sklearn/linear_model/coordinate_descent.py:491: ConvergenceWarning: Objective did not converge. You might want to increase the number of iterations. Fitting data with very small alpha may cause precision problems.\n",
      "  ConvergenceWarning)\n",
      "/anaconda3/envs/py36/lib/python3.6/site-packages/sklearn/linear_model/coordinate_descent.py:491: ConvergenceWarning: Objective did not converge. You might want to increase the number of iterations. Fitting data with very small alpha may cause precision problems.\n",
      "  ConvergenceWarning)\n",
      "/anaconda3/envs/py36/lib/python3.6/site-packages/sklearn/linear_model/coordinate_descent.py:491: ConvergenceWarning: Objective did not converge. You might want to increase the number of iterations. Fitting data with very small alpha may cause precision problems.\n",
      "  ConvergenceWarning)\n",
      "/anaconda3/envs/py36/lib/python3.6/site-packages/sklearn/linear_model/coordinate_descent.py:491: ConvergenceWarning: Objective did not converge. You might want to increase the number of iterations. Fitting data with very small alpha may cause precision problems.\n",
      "  ConvergenceWarning)\n",
      "/anaconda3/envs/py36/lib/python3.6/site-packages/sklearn/linear_model/coordinate_descent.py:491: ConvergenceWarning: Objective did not converge. You might want to increase the number of iterations. Fitting data with very small alpha may cause precision problems.\n",
      "  ConvergenceWarning)\n",
      "/anaconda3/envs/py36/lib/python3.6/site-packages/sklearn/linear_model/coordinate_descent.py:491: ConvergenceWarning: Objective did not converge. You might want to increase the number of iterations. Fitting data with very small alpha may cause precision problems.\n",
      "  ConvergenceWarning)\n",
      "/anaconda3/envs/py36/lib/python3.6/site-packages/sklearn/linear_model/coordinate_descent.py:491: ConvergenceWarning: Objective did not converge. You might want to increase the number of iterations. Fitting data with very small alpha may cause precision problems.\n",
      "  ConvergenceWarning)\n",
      "/anaconda3/envs/py36/lib/python3.6/site-packages/sklearn/linear_model/coordinate_descent.py:491: ConvergenceWarning: Objective did not converge. You might want to increase the number of iterations. Fitting data with very small alpha may cause precision problems.\n",
      "  ConvergenceWarning)\n",
      "/anaconda3/envs/py36/lib/python3.6/site-packages/sklearn/linear_model/coordinate_descent.py:491: ConvergenceWarning: Objective did not converge. You might want to increase the number of iterations. Fitting data with very small alpha may cause precision problems.\n",
      "  ConvergenceWarning)\n",
      "/anaconda3/envs/py36/lib/python3.6/site-packages/sklearn/linear_model/coordinate_descent.py:491: ConvergenceWarning: Objective did not converge. You might want to increase the number of iterations. Fitting data with very small alpha may cause precision problems.\n",
      "  ConvergenceWarning)\n",
      "/anaconda3/envs/py36/lib/python3.6/site-packages/sklearn/linear_model/coordinate_descent.py:491: ConvergenceWarning: Objective did not converge. You might want to increase the number of iterations. Fitting data with very small alpha may cause precision problems.\n",
      "  ConvergenceWarning)\n",
      "/anaconda3/envs/py36/lib/python3.6/site-packages/sklearn/linear_model/coordinate_descent.py:491: ConvergenceWarning: Objective did not converge. You might want to increase the number of iterations. Fitting data with very small alpha may cause precision problems.\n",
      "  ConvergenceWarning)\n",
      "/anaconda3/envs/py36/lib/python3.6/site-packages/sklearn/linear_model/coordinate_descent.py:491: ConvergenceWarning: Objective did not converge. You might want to increase the number of iterations. Fitting data with very small alpha may cause precision problems.\n",
      "  ConvergenceWarning)\n",
      "/anaconda3/envs/py36/lib/python3.6/site-packages/sklearn/linear_model/coordinate_descent.py:491: ConvergenceWarning: Objective did not converge. You might want to increase the number of iterations. Fitting data with very small alpha may cause precision problems.\n",
      "  ConvergenceWarning)\n",
      "/anaconda3/envs/py36/lib/python3.6/site-packages/sklearn/linear_model/coordinate_descent.py:491: ConvergenceWarning: Objective did not converge. You might want to increase the number of iterations. Fitting data with very small alpha may cause precision problems.\n",
      "  ConvergenceWarning)\n",
      "/anaconda3/envs/py36/lib/python3.6/site-packages/sklearn/linear_model/coordinate_descent.py:491: ConvergenceWarning: Objective did not converge. You might want to increase the number of iterations. Fitting data with very small alpha may cause precision problems.\n",
      "  ConvergenceWarning)\n",
      "/anaconda3/envs/py36/lib/python3.6/site-packages/sklearn/linear_model/coordinate_descent.py:491: ConvergenceWarning: Objective did not converge. You might want to increase the number of iterations. Fitting data with very small alpha may cause precision problems.\n",
      "  ConvergenceWarning)\n",
      "/anaconda3/envs/py36/lib/python3.6/site-packages/sklearn/linear_model/coordinate_descent.py:491: ConvergenceWarning: Objective did not converge. You might want to increase the number of iterations. Fitting data with very small alpha may cause precision problems.\n",
      "  ConvergenceWarning)\n",
      "/anaconda3/envs/py36/lib/python3.6/site-packages/sklearn/linear_model/coordinate_descent.py:491: ConvergenceWarning: Objective did not converge. You might want to increase the number of iterations. Fitting data with very small alpha may cause precision problems.\n",
      "  ConvergenceWarning)\n",
      "/anaconda3/envs/py36/lib/python3.6/site-packages/sklearn/linear_model/coordinate_descent.py:491: ConvergenceWarning: Objective did not converge. You might want to increase the number of iterations. Fitting data with very small alpha may cause precision problems.\n",
      "  ConvergenceWarning)\n",
      "/anaconda3/envs/py36/lib/python3.6/site-packages/sklearn/linear_model/coordinate_descent.py:491: ConvergenceWarning: Objective did not converge. You might want to increase the number of iterations. Fitting data with very small alpha may cause precision problems.\n",
      "  ConvergenceWarning)\n",
      "/anaconda3/envs/py36/lib/python3.6/site-packages/sklearn/linear_model/coordinate_descent.py:491: ConvergenceWarning: Objective did not converge. You might want to increase the number of iterations. Fitting data with very small alpha may cause precision problems.\n",
      "  ConvergenceWarning)\n",
      "/anaconda3/envs/py36/lib/python3.6/site-packages/sklearn/linear_model/coordinate_descent.py:491: ConvergenceWarning: Objective did not converge. You might want to increase the number of iterations. Fitting data with very small alpha may cause precision problems.\n",
      "  ConvergenceWarning)\n",
      "/anaconda3/envs/py36/lib/python3.6/site-packages/sklearn/linear_model/coordinate_descent.py:491: ConvergenceWarning: Objective did not converge. You might want to increase the number of iterations. Fitting data with very small alpha may cause precision problems.\n",
      "  ConvergenceWarning)\n",
      "/anaconda3/envs/py36/lib/python3.6/site-packages/sklearn/linear_model/coordinate_descent.py:491: ConvergenceWarning: Objective did not converge. You might want to increase the number of iterations. Fitting data with very small alpha may cause precision problems.\n",
      "  ConvergenceWarning)\n",
      "/anaconda3/envs/py36/lib/python3.6/site-packages/sklearn/linear_model/coordinate_descent.py:491: ConvergenceWarning: Objective did not converge. You might want to increase the number of iterations. Fitting data with very small alpha may cause precision problems.\n",
      "  ConvergenceWarning)\n",
      "/anaconda3/envs/py36/lib/python3.6/site-packages/sklearn/linear_model/coordinate_descent.py:491: ConvergenceWarning: Objective did not converge. You might want to increase the number of iterations. Fitting data with very small alpha may cause precision problems.\n",
      "  ConvergenceWarning)\n",
      "/anaconda3/envs/py36/lib/python3.6/site-packages/sklearn/linear_model/coordinate_descent.py:491: ConvergenceWarning: Objective did not converge. You might want to increase the number of iterations. Fitting data with very small alpha may cause precision problems.\n",
      "  ConvergenceWarning)\n",
      "/anaconda3/envs/py36/lib/python3.6/site-packages/sklearn/linear_model/coordinate_descent.py:491: ConvergenceWarning: Objective did not converge. You might want to increase the number of iterations. Fitting data with very small alpha may cause precision problems.\n",
      "  ConvergenceWarning)\n",
      "/anaconda3/envs/py36/lib/python3.6/site-packages/sklearn/linear_model/coordinate_descent.py:491: ConvergenceWarning: Objective did not converge. You might want to increase the number of iterations. Fitting data with very small alpha may cause precision problems.\n",
      "  ConvergenceWarning)\n",
      "/anaconda3/envs/py36/lib/python3.6/site-packages/sklearn/linear_model/coordinate_descent.py:491: ConvergenceWarning: Objective did not converge. You might want to increase the number of iterations. Fitting data with very small alpha may cause precision problems.\n",
      "  ConvergenceWarning)\n"
     ]
    },
    {
     "data": {
      "text/plain": [
       "ElasticNetCV(alphas=None, copy_X=True, cv=10, eps=0.001, fit_intercept=True,\n",
       "       l1_ratio=array([0.1, 0.2, 0.3, 0.4, 0.5, 0.6, 0.7, 0.8, 0.9, 1. ]),\n",
       "       max_iter=1000, n_alphas=50, n_jobs=2, normalize=True,\n",
       "       positive=False, precompute='auto', random_state=None,\n",
       "       selection='cyclic', tol=0.0001, verbose=0)"
      ]
     },
     "execution_count": 179,
     "metadata": {},
     "output_type": "execute_result"
    }
   ],
   "source": [
    "foldid = np.random.choice(list(range(10)), size=len(X))\n",
    "\n",
    "model = ElasticNetCV(l1_ratio=np.linspace(0.1, 1, 10), n_alphas=50,\n",
    "                   fit_intercept=True, normalize=True, cv=10,\n",
    "                   copy_X=True, n_jobs=2)\n",
    "\n",
    "model.fit(X, y)\n",
    "# fit = cvglmnet(x=X.values.copy(), y=y.values.copy(), nlambda=20,\n",
    "#                weights=w.values.copy(),\n",
    "#                alpha=.9, family='gaussian', foldid=foldid)"
   ]
  },
  {
   "cell_type": "code",
   "execution_count": 180,
   "metadata": {},
   "outputs": [
    {
     "data": {
      "text/plain": [
       "<matplotlib.axes._subplots.AxesSubplot at 0x1c29bafa58>"
      ]
     },
     "execution_count": 180,
     "metadata": {},
     "output_type": "execute_result"
    },
    {
     "data": {
      "image/png": "[encoded data removed]",
      "text/plain": [
       "<Figure size 900x600 with 2 Axes>"
      ]
     },
     "metadata": {},
     "output_type": "display_data"
    }
   ],
   "source": [
    "sns.heatmap(new)"
   ]
  },
  {
   "cell_type": "code",
   "execution_count": 181,
   "metadata": {
    "scrolled": true
   },
   "outputs": [
    {
     "data": {
      "text/html": [
       "<style  type=\"text/css\" >\n",
       "    #T_e5aebfe8_e048_11e8_a602_4a000ca0ed01row0_col0 {\n",
       "            background-color:  #4295c3;\n",
       "        }    #T_e5aebfe8_e048_11e8_a602_4a000ca0ed01row1_col0 {\n",
       "            background-color:  #4295c3;\n",
       "        }    #T_e5aebfe8_e048_11e8_a602_4a000ca0ed01row2_col0 {\n",
       "            background-color:  #4295c3;\n",
       "        }    #T_e5aebfe8_e048_11e8_a602_4a000ca0ed01row3_col0 {\n",
       "            background-color:  #4295c3;\n",
       "        }    #T_e5aebfe8_e048_11e8_a602_4a000ca0ed01row4_col0 {\n",
       "            background-color:  #4295c3;\n",
       "        }    #T_e5aebfe8_e048_11e8_a602_4a000ca0ed01row5_col0 {\n",
       "            background-color:  #4295c3;\n",
       "        }    #T_e5aebfe8_e048_11e8_a602_4a000ca0ed01row6_col0 {\n",
       "            background-color:  #4295c3;\n",
       "        }    #T_e5aebfe8_e048_11e8_a602_4a000ca0ed01row7_col0 {\n",
       "            background-color:  #4295c3;\n",
       "        }    #T_e5aebfe8_e048_11e8_a602_4a000ca0ed01row8_col0 {\n",
       "            background-color:  #4295c3;\n",
       "        }    #T_e5aebfe8_e048_11e8_a602_4a000ca0ed01row9_col0 {\n",
       "            background-color:  #4295c3;\n",
       "        }    #T_e5aebfe8_e048_11e8_a602_4a000ca0ed01row10_col0 {\n",
       "            background-color:  #4295c3;\n",
       "        }    #T_e5aebfe8_e048_11e8_a602_4a000ca0ed01row11_col0 {\n",
       "            background-color:  #4094c3;\n",
       "        }    #T_e5aebfe8_e048_11e8_a602_4a000ca0ed01row12_col0 {\n",
       "            background-color:  #4094c3;\n",
       "        }    #T_e5aebfe8_e048_11e8_a602_4a000ca0ed01row13_col0 {\n",
       "            background-color:  #4496c3;\n",
       "        }    #T_e5aebfe8_e048_11e8_a602_4a000ca0ed01row14_col0 {\n",
       "            background-color:  #4496c3;\n",
       "        }    #T_e5aebfe8_e048_11e8_a602_4a000ca0ed01row15_col0 {\n",
       "            background-color:  #4496c3;\n",
       "        }    #T_e5aebfe8_e048_11e8_a602_4a000ca0ed01row16_col0 {\n",
       "            background-color:  #4094c3;\n",
       "        }    #T_e5aebfe8_e048_11e8_a602_4a000ca0ed01row17_col0 {\n",
       "            background-color:  #4496c3;\n",
       "        }    #T_e5aebfe8_e048_11e8_a602_4a000ca0ed01row18_col0 {\n",
       "            background-color:  #4496c3;\n",
       "        }    #T_e5aebfe8_e048_11e8_a602_4a000ca0ed01row19_col0 {\n",
       "            background-color:  #4094c3;\n",
       "        }    #T_e5aebfe8_e048_11e8_a602_4a000ca0ed01row20_col0 {\n",
       "            background-color:  #4496c3;\n",
       "        }    #T_e5aebfe8_e048_11e8_a602_4a000ca0ed01row21_col0 {\n",
       "            background-color:  #4496c3;\n",
       "        }    #T_e5aebfe8_e048_11e8_a602_4a000ca0ed01row22_col0 {\n",
       "            background-color:  #4094c3;\n",
       "        }    #T_e5aebfe8_e048_11e8_a602_4a000ca0ed01row23_col0 {\n",
       "            background-color:  #4094c3;\n",
       "        }    #T_e5aebfe8_e048_11e8_a602_4a000ca0ed01row24_col0 {\n",
       "            background-color:  #4094c3;\n",
       "        }    #T_e5aebfe8_e048_11e8_a602_4a000ca0ed01row25_col0 {\n",
       "            background-color:  #4094c3;\n",
       "        }    #T_e5aebfe8_e048_11e8_a602_4a000ca0ed01row26_col0 {\n",
       "            background-color:  #4496c3;\n",
       "        }    #T_e5aebfe8_e048_11e8_a602_4a000ca0ed01row27_col0 {\n",
       "            background-color:  #4496c3;\n",
       "        }    #T_e5aebfe8_e048_11e8_a602_4a000ca0ed01row28_col0 {\n",
       "            background-color:  #3f93c2;\n",
       "        }    #T_e5aebfe8_e048_11e8_a602_4a000ca0ed01row29_col0 {\n",
       "            background-color:  #4697c4;\n",
       "        }    #T_e5aebfe8_e048_11e8_a602_4a000ca0ed01row30_col0 {\n",
       "            background-color:  #4697c4;\n",
       "        }    #T_e5aebfe8_e048_11e8_a602_4a000ca0ed01row31_col0 {\n",
       "            background-color:  #4697c4;\n",
       "        }    #T_e5aebfe8_e048_11e8_a602_4a000ca0ed01row32_col0 {\n",
       "            background-color:  #3f93c2;\n",
       "        }    #T_e5aebfe8_e048_11e8_a602_4a000ca0ed01row33_col0 {\n",
       "            background-color:  #3f93c2;\n",
       "        }    #T_e5aebfe8_e048_11e8_a602_4a000ca0ed01row34_col0 {\n",
       "            background-color:  #3f93c2;\n",
       "        }    #T_e5aebfe8_e048_11e8_a602_4a000ca0ed01row35_col0 {\n",
       "            background-color:  #3f93c2;\n",
       "        }    #T_e5aebfe8_e048_11e8_a602_4a000ca0ed01row36_col0 {\n",
       "            background-color:  #4697c4;\n",
       "        }    #T_e5aebfe8_e048_11e8_a602_4a000ca0ed01row37_col0 {\n",
       "            background-color:  #4697c4;\n",
       "        }    #T_e5aebfe8_e048_11e8_a602_4a000ca0ed01row38_col0 {\n",
       "            background-color:  #3f93c2;\n",
       "        }    #T_e5aebfe8_e048_11e8_a602_4a000ca0ed01row39_col0 {\n",
       "            background-color:  #3f93c2;\n",
       "        }    #T_e5aebfe8_e048_11e8_a602_4a000ca0ed01row40_col0 {\n",
       "            background-color:  #4897c4;\n",
       "        }    #T_e5aebfe8_e048_11e8_a602_4a000ca0ed01row41_col0 {\n",
       "            background-color:  #3d93c2;\n",
       "        }    #T_e5aebfe8_e048_11e8_a602_4a000ca0ed01row42_col0 {\n",
       "            background-color:  #3d93c2;\n",
       "        }    #T_e5aebfe8_e048_11e8_a602_4a000ca0ed01row43_col0 {\n",
       "            background-color:  #4897c4;\n",
       "        }    #T_e5aebfe8_e048_11e8_a602_4a000ca0ed01row44_col0 {\n",
       "            background-color:  #4897c4;\n",
       "        }    #T_e5aebfe8_e048_11e8_a602_4a000ca0ed01row45_col0 {\n",
       "            background-color:  #4897c4;\n",
       "        }    #T_e5aebfe8_e048_11e8_a602_4a000ca0ed01row46_col0 {\n",
       "            background-color:  #3d93c2;\n",
       "        }    #T_e5aebfe8_e048_11e8_a602_4a000ca0ed01row47_col0 {\n",
       "            background-color:  #4897c4;\n",
       "        }    #T_e5aebfe8_e048_11e8_a602_4a000ca0ed01row48_col0 {\n",
       "            background-color:  #4897c4;\n",
       "        }    #T_e5aebfe8_e048_11e8_a602_4a000ca0ed01row49_col0 {\n",
       "            background-color:  #4897c4;\n",
       "        }    #T_e5aebfe8_e048_11e8_a602_4a000ca0ed01row50_col0 {\n",
       "            background-color:  #3d93c2;\n",
       "        }    #T_e5aebfe8_e048_11e8_a602_4a000ca0ed01row51_col0 {\n",
       "            background-color:  #3d93c2;\n",
       "        }    #T_e5aebfe8_e048_11e8_a602_4a000ca0ed01row52_col0 {\n",
       "            background-color:  #4897c4;\n",
       "        }    #T_e5aebfe8_e048_11e8_a602_4a000ca0ed01row53_col0 {\n",
       "            background-color:  #4897c4;\n",
       "        }    #T_e5aebfe8_e048_11e8_a602_4a000ca0ed01row54_col0 {\n",
       "            background-color:  #3b92c1;\n",
       "        }    #T_e5aebfe8_e048_11e8_a602_4a000ca0ed01row55_col0 {\n",
       "            background-color:  #3b92c1;\n",
       "        }    #T_e5aebfe8_e048_11e8_a602_4a000ca0ed01row56_col0 {\n",
       "            background-color:  #4a98c5;\n",
       "        }    #T_e5aebfe8_e048_11e8_a602_4a000ca0ed01row57_col0 {\n",
       "            background-color:  #3b92c1;\n",
       "        }    #T_e5aebfe8_e048_11e8_a602_4a000ca0ed01row58_col0 {\n",
       "            background-color:  #4a98c5;\n",
       "        }    #T_e5aebfe8_e048_11e8_a602_4a000ca0ed01row59_col0 {\n",
       "            background-color:  #3b92c1;\n",
       "        }    #T_e5aebfe8_e048_11e8_a602_4a000ca0ed01row60_col0 {\n",
       "            background-color:  #3b92c1;\n",
       "        }    #T_e5aebfe8_e048_11e8_a602_4a000ca0ed01row61_col0 {\n",
       "            background-color:  #3b92c1;\n",
       "        }    #T_e5aebfe8_e048_11e8_a602_4a000ca0ed01row62_col0 {\n",
       "            background-color:  #4a98c5;\n",
       "        }    #T_e5aebfe8_e048_11e8_a602_4a000ca0ed01row63_col0 {\n",
       "            background-color:  #4a98c5;\n",
       "        }    #T_e5aebfe8_e048_11e8_a602_4a000ca0ed01row64_col0 {\n",
       "            background-color:  #3991c1;\n",
       "        }    #T_e5aebfe8_e048_11e8_a602_4a000ca0ed01row65_col0 {\n",
       "            background-color:  #3991c1;\n",
       "        }    #T_e5aebfe8_e048_11e8_a602_4a000ca0ed01row66_col0 {\n",
       "            background-color:  #4c99c5;\n",
       "        }    #T_e5aebfe8_e048_11e8_a602_4a000ca0ed01row67_col0 {\n",
       "            background-color:  #4c99c5;\n",
       "        }    #T_e5aebfe8_e048_11e8_a602_4a000ca0ed01row68_col0 {\n",
       "            background-color:  #4c99c5;\n",
       "        }    #T_e5aebfe8_e048_11e8_a602_4a000ca0ed01row69_col0 {\n",
       "            background-color:  #3991c1;\n",
       "        }    #T_e5aebfe8_e048_11e8_a602_4a000ca0ed01row70_col0 {\n",
       "            background-color:  #3991c1;\n",
       "        }    #T_e5aebfe8_e048_11e8_a602_4a000ca0ed01row71_col0 {\n",
       "            background-color:  #4c99c5;\n",
       "        }    #T_e5aebfe8_e048_11e8_a602_4a000ca0ed01row72_col0 {\n",
       "            background-color:  #4e9ac6;\n",
       "        }    #T_e5aebfe8_e048_11e8_a602_4a000ca0ed01row73_col0 {\n",
       "            background-color:  #4e9ac6;\n",
       "        }    #T_e5aebfe8_e048_11e8_a602_4a000ca0ed01row74_col0 {\n",
       "            background-color:  #4e9ac6;\n",
       "        }    #T_e5aebfe8_e048_11e8_a602_4a000ca0ed01row75_col0 {\n",
       "            background-color:  #3790c0;\n",
       "        }    #T_e5aebfe8_e048_11e8_a602_4a000ca0ed01row76_col0 {\n",
       "            background-color:  #3790c0;\n",
       "        }    #T_e5aebfe8_e048_11e8_a602_4a000ca0ed01row77_col0 {\n",
       "            background-color:  #4e9ac6;\n",
       "        }    #T_e5aebfe8_e048_11e8_a602_4a000ca0ed01row78_col0 {\n",
       "            background-color:  #4e9ac6;\n",
       "        }    #T_e5aebfe8_e048_11e8_a602_4a000ca0ed01row79_col0 {\n",
       "            background-color:  #3790c0;\n",
       "        }    #T_e5aebfe8_e048_11e8_a602_4a000ca0ed01row80_col0 {\n",
       "            background-color:  #358fc0;\n",
       "        }    #T_e5aebfe8_e048_11e8_a602_4a000ca0ed01row81_col0 {\n",
       "            background-color:  #509ac6;\n",
       "        }    #T_e5aebfe8_e048_11e8_a602_4a000ca0ed01row82_col0 {\n",
       "            background-color:  #509ac6;\n",
       "        }    #T_e5aebfe8_e048_11e8_a602_4a000ca0ed01row83_col0 {\n",
       "            background-color:  #509ac6;\n",
       "        }    #T_e5aebfe8_e048_11e8_a602_4a000ca0ed01row84_col0 {\n",
       "            background-color:  #509ac6;\n",
       "        }    #T_e5aebfe8_e048_11e8_a602_4a000ca0ed01row85_col0 {\n",
       "            background-color:  #509ac6;\n",
       "        }    #T_e5aebfe8_e048_11e8_a602_4a000ca0ed01row86_col0 {\n",
       "            background-color:  #509ac6;\n",
       "        }    #T_e5aebfe8_e048_11e8_a602_4a000ca0ed01row87_col0 {\n",
       "            background-color:  #348ebf;\n",
       "        }    #T_e5aebfe8_e048_11e8_a602_4a000ca0ed01row88_col0 {\n",
       "            background-color:  #529bc7;\n",
       "        }    #T_e5aebfe8_e048_11e8_a602_4a000ca0ed01row89_col0 {\n",
       "            background-color:  #529bc7;\n",
       "        }    #T_e5aebfe8_e048_11e8_a602_4a000ca0ed01row90_col0 {\n",
       "            background-color:  #529bc7;\n",
       "        }    #T_e5aebfe8_e048_11e8_a602_4a000ca0ed01row91_col0 {\n",
       "            background-color:  #549cc7;\n",
       "        }    #T_e5aebfe8_e048_11e8_a602_4a000ca0ed01row92_col0 {\n",
       "            background-color:  #549cc7;\n",
       "        }    #T_e5aebfe8_e048_11e8_a602_4a000ca0ed01row93_col0 {\n",
       "            background-color:  #328dbf;\n",
       "        }    #T_e5aebfe8_e048_11e8_a602_4a000ca0ed01row94_col0 {\n",
       "            background-color:  #549cc7;\n",
       "        }    #T_e5aebfe8_e048_11e8_a602_4a000ca0ed01row95_col0 {\n",
       "            background-color:  #308cbe;\n",
       "        }    #T_e5aebfe8_e048_11e8_a602_4a000ca0ed01row96_col0 {\n",
       "            background-color:  #308cbe;\n",
       "        }    #T_e5aebfe8_e048_11e8_a602_4a000ca0ed01row97_col0 {\n",
       "            background-color:  #569dc8;\n",
       "        }    #T_e5aebfe8_e048_11e8_a602_4a000ca0ed01row98_col0 {\n",
       "            background-color:  #569dc8;\n",
       "        }    #T_e5aebfe8_e048_11e8_a602_4a000ca0ed01row99_col0 {\n",
       "            background-color:  #2f8bbe;\n",
       "        }    #T_e5aebfe8_e048_11e8_a602_4a000ca0ed01row100_col0 {\n",
       "            background-color:  #2f8bbe;\n",
       "        }    #T_e5aebfe8_e048_11e8_a602_4a000ca0ed01row101_col0 {\n",
       "            background-color:  #2f8bbe;\n",
       "        }    #T_e5aebfe8_e048_11e8_a602_4a000ca0ed01row102_col0 {\n",
       "            background-color:  #589ec8;\n",
       "        }    #T_e5aebfe8_e048_11e8_a602_4a000ca0ed01row103_col0 {\n",
       "            background-color:  #5a9ec9;\n",
       "        }    #T_e5aebfe8_e048_11e8_a602_4a000ca0ed01row104_col0 {\n",
       "            background-color:  #2d8abd;\n",
       "        }    #T_e5aebfe8_e048_11e8_a602_4a000ca0ed01row105_col0 {\n",
       "            background-color:  #5a9ec9;\n",
       "        }    #T_e5aebfe8_e048_11e8_a602_4a000ca0ed01row106_col0 {\n",
       "            background-color:  #2d8abd;\n",
       "        }    #T_e5aebfe8_e048_11e8_a602_4a000ca0ed01row107_col0 {\n",
       "            background-color:  #2d8abd;\n",
       "        }    #T_e5aebfe8_e048_11e8_a602_4a000ca0ed01row108_col0 {\n",
       "            background-color:  #2d8abd;\n",
       "        }    #T_e5aebfe8_e048_11e8_a602_4a000ca0ed01row109_col0 {\n",
       "            background-color:  #2c89bd;\n",
       "        }    #T_e5aebfe8_e048_11e8_a602_4a000ca0ed01row110_col0 {\n",
       "            background-color:  #5c9fc9;\n",
       "        }    #T_e5aebfe8_e048_11e8_a602_4a000ca0ed01row111_col0 {\n",
       "            background-color:  #2c89bd;\n",
       "        }    #T_e5aebfe8_e048_11e8_a602_4a000ca0ed01row112_col0 {\n",
       "            background-color:  #5ea0ca;\n",
       "        }    #T_e5aebfe8_e048_11e8_a602_4a000ca0ed01row113_col0 {\n",
       "            background-color:  #5ea0ca;\n",
       "        }    #T_e5aebfe8_e048_11e8_a602_4a000ca0ed01row114_col0 {\n",
       "            background-color:  #2a88bc;\n",
       "        }    #T_e5aebfe8_e048_11e8_a602_4a000ca0ed01row115_col0 {\n",
       "            background-color:  #2a88bc;\n",
       "        }    #T_e5aebfe8_e048_11e8_a602_4a000ca0ed01row116_col0 {\n",
       "            background-color:  #2987bc;\n",
       "        }    #T_e5aebfe8_e048_11e8_a602_4a000ca0ed01row117_col0 {\n",
       "            background-color:  #2987bc;\n",
       "        }    #T_e5aebfe8_e048_11e8_a602_4a000ca0ed01row118_col0 {\n",
       "            background-color:  #60a1ca;\n",
       "        }    #T_e5aebfe8_e048_11e8_a602_4a000ca0ed01row119_col0 {\n",
       "            background-color:  #60a1ca;\n",
       "        }    #T_e5aebfe8_e048_11e8_a602_4a000ca0ed01row120_col0 {\n",
       "            background-color:  #2786bb;\n",
       "        }    #T_e5aebfe8_e048_11e8_a602_4a000ca0ed01row121_col0 {\n",
       "            background-color:  #62a2cb;\n",
       "        }    #T_e5aebfe8_e048_11e8_a602_4a000ca0ed01row122_col0 {\n",
       "            background-color:  #2786bb;\n",
       "        }    #T_e5aebfe8_e048_11e8_a602_4a000ca0ed01row123_col0 {\n",
       "            background-color:  #62a2cb;\n",
       "        }    #T_e5aebfe8_e048_11e8_a602_4a000ca0ed01row124_col0 {\n",
       "            background-color:  #63a2cb;\n",
       "        }    #T_e5aebfe8_e048_11e8_a602_4a000ca0ed01row125_col0 {\n",
       "            background-color:  #2685bb;\n",
       "        }    #T_e5aebfe8_e048_11e8_a602_4a000ca0ed01row126_col0 {\n",
       "            background-color:  #63a2cb;\n",
       "        }    #T_e5aebfe8_e048_11e8_a602_4a000ca0ed01row127_col0 {\n",
       "            background-color:  #65a3cb;\n",
       "        }    #T_e5aebfe8_e048_11e8_a602_4a000ca0ed01row128_col0 {\n",
       "            background-color:  #67a4cc;\n",
       "        }    #T_e5aebfe8_e048_11e8_a602_4a000ca0ed01row129_col0 {\n",
       "            background-color:  #2383ba;\n",
       "        }    #T_e5aebfe8_e048_11e8_a602_4a000ca0ed01row130_col0 {\n",
       "            background-color:  #69a5cc;\n",
       "        }    #T_e5aebfe8_e048_11e8_a602_4a000ca0ed01row131_col0 {\n",
       "            background-color:  #1e80b8;\n",
       "        }    #T_e5aebfe8_e048_11e8_a602_4a000ca0ed01row132_col0 {\n",
       "            background-color:  #1e80b8;\n",
       "        }    #T_e5aebfe8_e048_11e8_a602_4a000ca0ed01row133_col0 {\n",
       "            background-color:  #71a8ce;\n",
       "        }    #T_e5aebfe8_e048_11e8_a602_4a000ca0ed01row134_col0 {\n",
       "            background-color:  #76aad0;\n",
       "        }    #T_e5aebfe8_e048_11e8_a602_4a000ca0ed01row135_col0 {\n",
       "            background-color:  #76aad0;\n",
       "        }    #T_e5aebfe8_e048_11e8_a602_4a000ca0ed01row136_col0 {\n",
       "            background-color:  #79abd0;\n",
       "        }    #T_e5aebfe8_e048_11e8_a602_4a000ca0ed01row137_col0 {\n",
       "            background-color:  #7dacd1;\n",
       "        }    #T_e5aebfe8_e048_11e8_a602_4a000ca0ed01row138_col0 {\n",
       "            background-color:  #0771b1;\n",
       "        }    #T_e5aebfe8_e048_11e8_a602_4a000ca0ed01row139_col0 {\n",
       "            background-color:  #056faf;\n",
       "        }    #T_e5aebfe8_e048_11e8_a602_4a000ca0ed01row140_col0 {\n",
       "            background-color:  #8fb4d6;\n",
       "        }    #T_e5aebfe8_e048_11e8_a602_4a000ca0ed01row141_col0 {\n",
       "            background-color:  #056dab;\n",
       "        }    #T_e5aebfe8_e048_11e8_a602_4a000ca0ed01row142_col0 {\n",
       "            background-color:  #91b5d6;\n",
       "        }    #T_e5aebfe8_e048_11e8_a602_4a000ca0ed01row143_col0 {\n",
       "            background-color:  #96b6d7;\n",
       "        }    #T_e5aebfe8_e048_11e8_a602_4a000ca0ed01row144_col0 {\n",
       "            background-color:  #9cb9d9;\n",
       "        }    #T_e5aebfe8_e048_11e8_a602_4a000ca0ed01row145_col0 {\n",
       "            background-color:  #0566a0;\n",
       "        }    #T_e5aebfe8_e048_11e8_a602_4a000ca0ed01row146_col0 {\n",
       "            background-color:  #bdc8e1;\n",
       "        }    #T_e5aebfe8_e048_11e8_a602_4a000ca0ed01row147_col0 {\n",
       "            background-color:  #045280;\n",
       "        }    #T_e5aebfe8_e048_11e8_a602_4a000ca0ed01row148_col0 {\n",
       "            background-color:  #034b76;\n",
       "        }    #T_e5aebfe8_e048_11e8_a602_4a000ca0ed01row149_col0 {\n",
       "            background-color:  #d9d8ea;\n",
       "        }    #T_e5aebfe8_e048_11e8_a602_4a000ca0ed01row150_col0 {\n",
       "            background-color:  #023858;\n",
       "        }    #T_e5aebfe8_e048_11e8_a602_4a000ca0ed01row151_col0 {\n",
       "            background-color:  #fff7fb;\n",
       "        }</style>  \n",
       "<table id=\"T_e5aebfe8_e048_11e8_a602_4a000ca0ed01\" > \n",
       "<thead>    <tr> \n",
       "        <th class=\"blank level0\" ></th> \n",
       "        <th class=\"col_heading level0 col0\" >0</th> \n",
       "    </tr></thead> \n",
       "<tbody>    <tr> \n",
       "        <th id=\"T_e5aebfe8_e048_11e8_a602_4a000ca0ed01level0_row0\" class=\"row_heading level0 row0\" >same_as_pres_party_dem_x_Missouri</th> \n",
       "        <td id=\"T_e5aebfe8_e048_11e8_a602_4a000ca0ed01row0_col0\" class=\"data row0 col0\" >0.000161861</td> \n",
       "    </tr>    <tr> \n",
       "        <th id=\"T_e5aebfe8_e048_11e8_a602_4a000ca0ed01level0_row1\" class=\"row_heading level0 row1\" >dem_is_female_x_Indiana</th> \n",
       "        <td id=\"T_e5aebfe8_e048_11e8_a602_4a000ca0ed01row1_col0\" class=\"data row1 col0\" >-0.000333265</td> \n",
       "    </tr>    <tr> \n",
       "        <th id=\"T_e5aebfe8_e048_11e8_a602_4a000ca0ed01level0_row2\" class=\"row_heading level0 row2\" >rep_is_female_x_West Virginia</th> \n",
       "        <td id=\"T_e5aebfe8_e048_11e8_a602_4a000ca0ed01row2_col0\" class=\"data row2 col0\" >0.000394752</td> \n",
       "    </tr>    <tr> \n",
       "        <th id=\"T_e5aebfe8_e048_11e8_a602_4a000ca0ed01level0_row3\" class=\"row_heading level0 row3\" >rep_incumbent_x_Washington</th> \n",
       "        <td id=\"T_e5aebfe8_e048_11e8_a602_4a000ca0ed01row3_col0\" class=\"data row3 col0\" >0.000780849</td> \n",
       "    </tr>    <tr> \n",
       "        <th id=\"T_e5aebfe8_e048_11e8_a602_4a000ca0ed01level0_row4\" class=\"row_heading level0 row4\" >dem_is_female_x_rep_to_tot_oct</th> \n",
       "        <td id=\"T_e5aebfe8_e048_11e8_a602_4a000ca0ed01row4_col0\" class=\"data row4 col0\" >-0.000845664</td> \n",
       "    </tr>    <tr> \n",
       "        <th id=\"T_e5aebfe8_e048_11e8_a602_4a000ca0ed01level0_row5\" class=\"row_heading level0 row5\" >log_med_income_x_Iowa</th> \n",
       "        <td id=\"T_e5aebfe8_e048_11e8_a602_4a000ca0ed01row5_col0\" class=\"data row5 col0\" >-0.000920438</td> \n",
       "    </tr>    <tr> \n",
       "        <th id=\"T_e5aebfe8_e048_11e8_a602_4a000ca0ed01level0_row6\" class=\"row_heading level0 row6\" >rep_incumbent_x_Wisconsin</th> \n",
       "        <td id=\"T_e5aebfe8_e048_11e8_a602_4a000ca0ed01row6_col0\" class=\"data row6 col0\" >0.000987455</td> \n",
       "    </tr>    <tr> \n",
       "        <th id=\"T_e5aebfe8_e048_11e8_a602_4a000ca0ed01level0_row7\" class=\"row_heading level0 row7\" >log_med_income_x_Texas</th> \n",
       "        <td id=\"T_e5aebfe8_e048_11e8_a602_4a000ca0ed01row7_col0\" class=\"data row7 col0\" >-0.00104062</td> \n",
       "    </tr>    <tr> \n",
       "        <th id=\"T_e5aebfe8_e048_11e8_a602_4a000ca0ed01level0_row8\" class=\"row_heading level0 row8\" >dem_incumbent_x_Vermont</th> \n",
       "        <td id=\"T_e5aebfe8_e048_11e8_a602_4a000ca0ed01row8_col0\" class=\"data row8 col0\" >-0.00105389</td> \n",
       "    </tr>    <tr> \n",
       "        <th id=\"T_e5aebfe8_e048_11e8_a602_4a000ca0ed01level0_row9\" class=\"row_heading level0 row9\" >pres_approval_x_Illinois</th> \n",
       "        <td id=\"T_e5aebfe8_e048_11e8_a602_4a000ca0ed01row9_col0\" class=\"data row9 col0\" >-0.00150941</td> \n",
       "    </tr>    <tr> \n",
       "        <th id=\"T_e5aebfe8_e048_11e8_a602_4a000ca0ed01level0_row10\" class=\"row_heading level0 row10\" >dem_is_female_x_percent_bachelor_or_above</th> \n",
       "        <td id=\"T_e5aebfe8_e048_11e8_a602_4a000ca0ed01row10_col0\" class=\"data row10 col0\" >-0.00176288</td> \n",
       "    </tr>    <tr> \n",
       "        <th id=\"T_e5aebfe8_e048_11e8_a602_4a000ca0ed01level0_row11\" class=\"row_heading level0 row11\" >rep_incumbent_x_Oklahoma</th> \n",
       "        <td id=\"T_e5aebfe8_e048_11e8_a602_4a000ca0ed01row11_col0\" class=\"data row11 col0\" >0.00197758</td> \n",
       "    </tr>    <tr> \n",
       "        <th id=\"T_e5aebfe8_e048_11e8_a602_4a000ca0ed01level0_row12\" class=\"row_heading level0 row12\" >log_med_income_x_rep_to_tot_nov</th> \n",
       "        <td id=\"T_e5aebfe8_e048_11e8_a602_4a000ca0ed01row12_col0\" class=\"data row12 col0\" >0.00201271</td> \n",
       "    </tr>    <tr> \n",
       "        <th id=\"T_e5aebfe8_e048_11e8_a602_4a000ca0ed01level0_row13\" class=\"row_heading level0 row13\" >Texas</th> \n",
       "        <td id=\"T_e5aebfe8_e048_11e8_a602_4a000ca0ed01row13_col0\" class=\"data row13 col0\" >-0.00203027</td> \n",
       "    </tr>    <tr> \n",
       "        <th id=\"T_e5aebfe8_e048_11e8_a602_4a000ca0ed01level0_row14\" class=\"row_heading level0 row14\" >rep_is_female_x_New York</th> \n",
       "        <td id=\"T_e5aebfe8_e048_11e8_a602_4a000ca0ed01row14_col0\" class=\"data row14 col0\" >-0.00240183</td> \n",
       "    </tr>    <tr> \n",
       "        <th id=\"T_e5aebfe8_e048_11e8_a602_4a000ca0ed01level0_row15\" class=\"row_heading level0 row15\" >rep_incumbent_x_Florida</th> \n",
       "        <td id=\"T_e5aebfe8_e048_11e8_a602_4a000ca0ed01row15_col0\" class=\"data row15 col0\" >-0.00260751</td> \n",
       "    </tr>    <tr> \n",
       "        <th id=\"T_e5aebfe8_e048_11e8_a602_4a000ca0ed01level0_row16\" class=\"row_heading level0 row16\" >log_med_income_x_log_med_income</th> \n",
       "        <td id=\"T_e5aebfe8_e048_11e8_a602_4a000ca0ed01row16_col0\" class=\"data row16 col0\" >0.00276339</td> \n",
       "    </tr>    <tr> \n",
       "        <th id=\"T_e5aebfe8_e048_11e8_a602_4a000ca0ed01level0_row17\" class=\"row_heading level0 row17\" >dem_is_female_x_Colorado</th> \n",
       "        <td id=\"T_e5aebfe8_e048_11e8_a602_4a000ca0ed01row17_col0\" class=\"data row17 col0\" >-0.00308826</td> \n",
       "    </tr>    <tr> \n",
       "        <th id=\"T_e5aebfe8_e048_11e8_a602_4a000ca0ed01level0_row18\" class=\"row_heading level0 row18\" >dem_is_female_x_Alabama</th> \n",
       "        <td id=\"T_e5aebfe8_e048_11e8_a602_4a000ca0ed01row18_col0\" class=\"data row18 col0\" >-0.00309711</td> \n",
       "    </tr>    <tr> \n",
       "        <th id=\"T_e5aebfe8_e048_11e8_a602_4a000ca0ed01level0_row19\" class=\"row_heading level0 row19\" >rep_is_female_x_Indiana</th> \n",
       "        <td id=\"T_e5aebfe8_e048_11e8_a602_4a000ca0ed01row19_col0\" class=\"data row19 col0\" >0.00335243</td> \n",
       "    </tr>    <tr> \n",
       "        <th id=\"T_e5aebfe8_e048_11e8_a602_4a000ca0ed01level0_row20\" class=\"row_heading level0 row20\" >log_med_income_x_Rhode Island</th> \n",
       "        <td id=\"T_e5aebfe8_e048_11e8_a602_4a000ca0ed01row20_col0\" class=\"data row20 col0\" >-0.00358959</td> \n",
       "    </tr>    <tr> \n",
       "        <th id=\"T_e5aebfe8_e048_11e8_a602_4a000ca0ed01level0_row21\" class=\"row_heading level0 row21\" >dem_is_female_x_North Carolina</th> \n",
       "        <td id=\"T_e5aebfe8_e048_11e8_a602_4a000ca0ed01row21_col0\" class=\"data row21 col0\" >-0.00377749</td> \n",
       "    </tr>    <tr> \n",
       "        <th id=\"T_e5aebfe8_e048_11e8_a602_4a000ca0ed01level0_row22\" class=\"row_heading level0 row22\" >dem_is_female_x_South Carolina</th> \n",
       "        <td id=\"T_e5aebfe8_e048_11e8_a602_4a000ca0ed01row22_col0\" class=\"data row22 col0\" >0.00387129</td> \n",
       "    </tr>    <tr> \n",
       "        <th id=\"T_e5aebfe8_e048_11e8_a602_4a000ca0ed01level0_row23\" class=\"row_heading level0 row23\" >log_med_income_x_rep_to_tot_oct</th> \n",
       "        <td id=\"T_e5aebfe8_e048_11e8_a602_4a000ca0ed01row23_col0\" class=\"data row23 col0\" >0.00402905</td> \n",
       "    </tr>    <tr> \n",
       "        <th id=\"T_e5aebfe8_e048_11e8_a602_4a000ca0ed01level0_row24\" class=\"row_heading level0 row24\" >rep_is_female_x_California</th> \n",
       "        <td id=\"T_e5aebfe8_e048_11e8_a602_4a000ca0ed01row24_col0\" class=\"data row24 col0\" >0.00415876</td> \n",
       "    </tr>    <tr> \n",
       "        <th id=\"T_e5aebfe8_e048_11e8_a602_4a000ca0ed01level0_row25\" class=\"row_heading level0 row25\" >dem_incumbent_x_Mississippi</th> \n",
       "        <td id=\"T_e5aebfe8_e048_11e8_a602_4a000ca0ed01row25_col0\" class=\"data row25 col0\" >0.00474617</td> \n",
       "    </tr>    <tr> \n",
       "        <th id=\"T_e5aebfe8_e048_11e8_a602_4a000ca0ed01level0_row26\" class=\"row_heading level0 row26\" >dem_is_female_x_Tennessee</th> \n",
       "        <td id=\"T_e5aebfe8_e048_11e8_a602_4a000ca0ed01row26_col0\" class=\"data row26 col0\" >-0.00499262</td> \n",
       "    </tr>    <tr> \n",
       "        <th id=\"T_e5aebfe8_e048_11e8_a602_4a000ca0ed01level0_row27\" class=\"row_heading level0 row27\" >rep_to_tot_oct_x_Pennsylvania</th> \n",
       "        <td id=\"T_e5aebfe8_e048_11e8_a602_4a000ca0ed01row27_col0\" class=\"data row27 col0\" >-0.00511939</td> \n",
       "    </tr>    <tr> \n",
       "        <th id=\"T_e5aebfe8_e048_11e8_a602_4a000ca0ed01level0_row28\" class=\"row_heading level0 row28\" >dem_incumbent_x_Florida</th> \n",
       "        <td id=\"T_e5aebfe8_e048_11e8_a602_4a000ca0ed01row28_col0\" class=\"data row28 col0\" >0.00588484</td> \n",
       "    </tr>    <tr> \n",
       "        <th id=\"T_e5aebfe8_e048_11e8_a602_4a000ca0ed01level0_row29\" class=\"row_heading level0 row29\" >dem_is_female_x_Kentucky</th> \n",
       "        <td id=\"T_e5aebfe8_e048_11e8_a602_4a000ca0ed01row29_col0\" class=\"data row29 col0\" >-0.00642557</td> \n",
       "    </tr>    <tr> \n",
       "        <th id=\"T_e5aebfe8_e048_11e8_a602_4a000ca0ed01level0_row30\" class=\"row_heading level0 row30\" >dem_is_female_x_same_as_pres_party_dem</th> \n",
       "        <td id=\"T_e5aebfe8_e048_11e8_a602_4a000ca0ed01row30_col0\" class=\"data row30 col0\" >-0.00663332</td> \n",
       "    </tr>    <tr> \n",
       "        <th id=\"T_e5aebfe8_e048_11e8_a602_4a000ca0ed01level0_row31\" class=\"row_heading level0 row31\" >same_as_pres_party_dem_x_Texas</th> \n",
       "        <td id=\"T_e5aebfe8_e048_11e8_a602_4a000ca0ed01row31_col0\" class=\"data row31 col0\" >-0.00678058</td> \n",
       "    </tr>    <tr> \n",
       "        <th id=\"T_e5aebfe8_e048_11e8_a602_4a000ca0ed01level0_row32\" class=\"row_heading level0 row32\" >pres_approval_x_North Carolina</th> \n",
       "        <td id=\"T_e5aebfe8_e048_11e8_a602_4a000ca0ed01row32_col0\" class=\"data row32 col0\" >0.00689888</td> \n",
       "    </tr>    <tr> \n",
       "        <th id=\"T_e5aebfe8_e048_11e8_a602_4a000ca0ed01level0_row33\" class=\"row_heading level0 row33\" >dem_is_female_x_Arizona</th> \n",
       "        <td id=\"T_e5aebfe8_e048_11e8_a602_4a000ca0ed01row33_col0\" class=\"data row33 col0\" >0.00692377</td> \n",
       "    </tr>    <tr> \n",
       "        <th id=\"T_e5aebfe8_e048_11e8_a602_4a000ca0ed01level0_row34\" class=\"row_heading level0 row34\" >dem_is_female_x_Oregon</th> \n",
       "        <td id=\"T_e5aebfe8_e048_11e8_a602_4a000ca0ed01row34_col0\" class=\"data row34 col0\" >0.00740327</td> \n",
       "    </tr>    <tr> \n",
       "        <th id=\"T_e5aebfe8_e048_11e8_a602_4a000ca0ed01level0_row35\" class=\"row_heading level0 row35\" >rep_to_tot_oct_x_Georgia</th> \n",
       "        <td id=\"T_e5aebfe8_e048_11e8_a602_4a000ca0ed01row35_col0\" class=\"data row35 col0\" >0.00747439</td> \n",
       "    </tr>    <tr> \n",
       "        <th id=\"T_e5aebfe8_e048_11e8_a602_4a000ca0ed01level0_row36\" class=\"row_heading level0 row36\" >rep_is_female_x_Kansas</th> \n",
       "        <td id=\"T_e5aebfe8_e048_11e8_a602_4a000ca0ed01row36_col0\" class=\"data row36 col0\" >-0.00829854</td> \n",
       "    </tr>    <tr> \n",
       "        <th id=\"T_e5aebfe8_e048_11e8_a602_4a000ca0ed01level0_row37\" class=\"row_heading level0 row37\" >rep_to_tot_nov_x_Rhode Island</th> \n",
       "        <td id=\"T_e5aebfe8_e048_11e8_a602_4a000ca0ed01row37_col0\" class=\"data row37 col0\" >-0.00830272</td> \n",
       "    </tr>    <tr> \n",
       "        <th id=\"T_e5aebfe8_e048_11e8_a602_4a000ca0ed01level0_row38\" class=\"row_heading level0 row38\" >rep_to_tot_nov_x_Georgia</th> \n",
       "        <td id=\"T_e5aebfe8_e048_11e8_a602_4a000ca0ed01row38_col0\" class=\"data row38 col0\" >0.00864097</td> \n",
       "    </tr>    <tr> \n",
       "        <th id=\"T_e5aebfe8_e048_11e8_a602_4a000ca0ed01level0_row39\" class=\"row_heading level0 row39\" >rep_incumbent_x_Kentucky</th> \n",
       "        <td id=\"T_e5aebfe8_e048_11e8_a602_4a000ca0ed01row39_col0\" class=\"data row39 col0\" >0.00880589</td> \n",
       "    </tr>    <tr> \n",
       "        <th id=\"T_e5aebfe8_e048_11e8_a602_4a000ca0ed01level0_row40\" class=\"row_heading level0 row40\" >rep_to_tot_oct_x_New Hampshire</th> \n",
       "        <td id=\"T_e5aebfe8_e048_11e8_a602_4a000ca0ed01row40_col0\" class=\"data row40 col0\" >-0.00981532</td> \n",
       "    </tr>    <tr> \n",
       "        <th id=\"T_e5aebfe8_e048_11e8_a602_4a000ca0ed01level0_row41\" class=\"row_heading level0 row41\" >dem_is_female_x_Minnesota</th> \n",
       "        <td id=\"T_e5aebfe8_e048_11e8_a602_4a000ca0ed01row41_col0\" class=\"data row41 col0\" >0.0100542</td> \n",
       "    </tr>    <tr> \n",
       "        <th id=\"T_e5aebfe8_e048_11e8_a602_4a000ca0ed01level0_row42\" class=\"row_heading level0 row42\" >dem_is_female_x_Arkansas</th> \n",
       "        <td id=\"T_e5aebfe8_e048_11e8_a602_4a000ca0ed01row42_col0\" class=\"data row42 col0\" >0.0100599</td> \n",
       "    </tr>    <tr> \n",
       "        <th id=\"T_e5aebfe8_e048_11e8_a602_4a000ca0ed01level0_row43\" class=\"row_heading level0 row43\" >dem_incumbent_x_Colorado</th> \n",
       "        <td id=\"T_e5aebfe8_e048_11e8_a602_4a000ca0ed01row43_col0\" class=\"data row43 col0\" >-0.0103966</td> \n",
       "    </tr>    <tr> \n",
       "        <th id=\"T_e5aebfe8_e048_11e8_a602_4a000ca0ed01level0_row44\" class=\"row_heading level0 row44\" >dem_is_female_x_Wisconsin</th> \n",
       "        <td id=\"T_e5aebfe8_e048_11e8_a602_4a000ca0ed01row44_col0\" class=\"data row44 col0\" >-0.0106747</td> \n",
       "    </tr>    <tr> \n",
       "        <th id=\"T_e5aebfe8_e048_11e8_a602_4a000ca0ed01level0_row45\" class=\"row_heading level0 row45\" >percent_bachelor_or_above_x_Iowa</th> \n",
       "        <td id=\"T_e5aebfe8_e048_11e8_a602_4a000ca0ed01row45_col0\" class=\"data row45 col0\" >-0.0106906</td> \n",
       "    </tr>    <tr> \n",
       "        <th id=\"T_e5aebfe8_e048_11e8_a602_4a000ca0ed01level0_row46\" class=\"row_heading level0 row46\" >rep_incumbent_x_Missouri</th> \n",
       "        <td id=\"T_e5aebfe8_e048_11e8_a602_4a000ca0ed01row46_col0\" class=\"data row46 col0\" >0.0107032</td> \n",
       "    </tr>    <tr> \n",
       "        <th id=\"T_e5aebfe8_e048_11e8_a602_4a000ca0ed01level0_row47\" class=\"row_heading level0 row47\" >same_as_pres_party_dem_x_New York</th> \n",
       "        <td id=\"T_e5aebfe8_e048_11e8_a602_4a000ca0ed01row47_col0\" class=\"data row47 col0\" >-0.0108934</td> \n",
       "    </tr>    <tr> \n",
       "        <th id=\"T_e5aebfe8_e048_11e8_a602_4a000ca0ed01level0_row48\" class=\"row_heading level0 row48\" >dem_incumbent_x_Maine</th> \n",
       "        <td id=\"T_e5aebfe8_e048_11e8_a602_4a000ca0ed01row48_col0\" class=\"data row48 col0\" >-0.0109447</td> \n",
       "    </tr>    <tr> \n",
       "        <th id=\"T_e5aebfe8_e048_11e8_a602_4a000ca0ed01level0_row49\" class=\"row_heading level0 row49\" >Connecticut</th> \n",
       "        <td id=\"T_e5aebfe8_e048_11e8_a602_4a000ca0ed01row49_col0\" class=\"data row49 col0\" >-0.0109807</td> \n",
       "    </tr>    <tr> \n",
       "        <th id=\"T_e5aebfe8_e048_11e8_a602_4a000ca0ed01level0_row50\" class=\"row_heading level0 row50\" >rep_to_tot_oct_x_New York</th> \n",
       "        <td id=\"T_e5aebfe8_e048_11e8_a602_4a000ca0ed01row50_col0\" class=\"data row50 col0\" >0.0117378</td> \n",
       "    </tr>    <tr> \n",
       "        <th id=\"T_e5aebfe8_e048_11e8_a602_4a000ca0ed01level0_row51\" class=\"row_heading level0 row51\" >dem_incumbent_x_Nebraska</th> \n",
       "        <td id=\"T_e5aebfe8_e048_11e8_a602_4a000ca0ed01row51_col0\" class=\"data row51 col0\" >0.0121433</td> \n",
       "    </tr>    <tr> \n",
       "        <th id=\"T_e5aebfe8_e048_11e8_a602_4a000ca0ed01level0_row52\" class=\"row_heading level0 row52\" >rep_is_female_x_New Hampshire</th> \n",
       "        <td id=\"T_e5aebfe8_e048_11e8_a602_4a000ca0ed01row52_col0\" class=\"data row52 col0\" >-0.012291</td> \n",
       "    </tr>    <tr> \n",
       "        <th id=\"T_e5aebfe8_e048_11e8_a602_4a000ca0ed01level0_row53\" class=\"row_heading level0 row53\" >rep_is_female_x_New Jersey</th> \n",
       "        <td id=\"T_e5aebfe8_e048_11e8_a602_4a000ca0ed01row53_col0\" class=\"data row53 col0\" >-0.0123256</td> \n",
       "    </tr>    <tr> \n",
       "        <th id=\"T_e5aebfe8_e048_11e8_a602_4a000ca0ed01level0_row54\" class=\"row_heading level0 row54\" >rep_incumbent_x_Louisiana</th> \n",
       "        <td id=\"T_e5aebfe8_e048_11e8_a602_4a000ca0ed01row54_col0\" class=\"data row54 col0\" >0.0124827</td> \n",
       "    </tr>    <tr> \n",
       "        <th id=\"T_e5aebfe8_e048_11e8_a602_4a000ca0ed01level0_row55\" class=\"row_heading level0 row55\" >Missouri</th> \n",
       "        <td id=\"T_e5aebfe8_e048_11e8_a602_4a000ca0ed01row55_col0\" class=\"data row55 col0\" >0.0129537</td> \n",
       "    </tr>    <tr> \n",
       "        <th id=\"T_e5aebfe8_e048_11e8_a602_4a000ca0ed01level0_row56\" class=\"row_heading level0 row56\" >rep_incumbent_x_Iowa</th> \n",
       "        <td id=\"T_e5aebfe8_e048_11e8_a602_4a000ca0ed01row56_col0\" class=\"data row56 col0\" >-0.0133226</td> \n",
       "    </tr>    <tr> \n",
       "        <th id=\"T_e5aebfe8_e048_11e8_a602_4a000ca0ed01level0_row57\" class=\"row_heading level0 row57\" >dem_incumbent_x_North Carolina</th> \n",
       "        <td id=\"T_e5aebfe8_e048_11e8_a602_4a000ca0ed01row57_col0\" class=\"data row57 col0\" >0.0133387</td> \n",
       "    </tr>    <tr> \n",
       "        <th id=\"T_e5aebfe8_e048_11e8_a602_4a000ca0ed01level0_row58\" class=\"row_heading level0 row58\" >percent_bachelor_or_above_x_Washington</th> \n",
       "        <td id=\"T_e5aebfe8_e048_11e8_a602_4a000ca0ed01row58_col0\" class=\"data row58 col0\" >-0.0142327</td> \n",
       "    </tr>    <tr> \n",
       "        <th id=\"T_e5aebfe8_e048_11e8_a602_4a000ca0ed01level0_row59\" class=\"row_heading level0 row59\" >rep_to_tot_oct_x_Alaska</th> \n",
       "        <td id=\"T_e5aebfe8_e048_11e8_a602_4a000ca0ed01row59_col0\" class=\"data row59 col0\" >0.0146131</td> \n",
       "    </tr>    <tr> \n",
       "        <th id=\"T_e5aebfe8_e048_11e8_a602_4a000ca0ed01level0_row60\" class=\"row_heading level0 row60\" >dem_percent_x_Tennessee</th> \n",
       "        <td id=\"T_e5aebfe8_e048_11e8_a602_4a000ca0ed01row60_col0\" class=\"data row60 col0\" >0.0149251</td> \n",
       "    </tr>    <tr> \n",
       "        <th id=\"T_e5aebfe8_e048_11e8_a602_4a000ca0ed01level0_row61\" class=\"row_heading level0 row61\" >dem_incumbent_x_Virginia</th> \n",
       "        <td id=\"T_e5aebfe8_e048_11e8_a602_4a000ca0ed01row61_col0\" class=\"data row61 col0\" >0.0150707</td> \n",
       "    </tr>    <tr> \n",
       "        <th id=\"T_e5aebfe8_e048_11e8_a602_4a000ca0ed01level0_row62\" class=\"row_heading level0 row62\" >rep_to_tot_oct_x_Delaware</th> \n",
       "        <td id=\"T_e5aebfe8_e048_11e8_a602_4a000ca0ed01row62_col0\" class=\"data row62 col0\" >-0.0153918</td> \n",
       "    </tr>    <tr> \n",
       "        <th id=\"T_e5aebfe8_e048_11e8_a602_4a000ca0ed01level0_row63\" class=\"row_heading level0 row63\" >dem_percent_x_Pennsylvania</th> \n",
       "        <td id=\"T_e5aebfe8_e048_11e8_a602_4a000ca0ed01row63_col0\" class=\"data row63 col0\" >-0.0158453</td> \n",
       "    </tr>    <tr> \n",
       "        <th id=\"T_e5aebfe8_e048_11e8_a602_4a000ca0ed01level0_row64\" class=\"row_heading level0 row64\" >rep_incumbent_x_California</th> \n",
       "        <td id=\"T_e5aebfe8_e048_11e8_a602_4a000ca0ed01row64_col0\" class=\"data row64 col0\" >0.0162966</td> \n",
       "    </tr>    <tr> \n",
       "        <th id=\"T_e5aebfe8_e048_11e8_a602_4a000ca0ed01level0_row65\" class=\"row_heading level0 row65\" >same_as_pres_party_dem_x_Georgia</th> \n",
       "        <td id=\"T_e5aebfe8_e048_11e8_a602_4a000ca0ed01row65_col0\" class=\"data row65 col0\" >0.0163577</td> \n",
       "    </tr>    <tr> \n",
       "        <th id=\"T_e5aebfe8_e048_11e8_a602_4a000ca0ed01level0_row66\" class=\"row_heading level0 row66\" >dem_is_female_x_Iowa</th> \n",
       "        <td id=\"T_e5aebfe8_e048_11e8_a602_4a000ca0ed01row66_col0\" class=\"data row66 col0\" >-0.0172925</td> \n",
       "    </tr>    <tr> \n",
       "        <th id=\"T_e5aebfe8_e048_11e8_a602_4a000ca0ed01level0_row67\" class=\"row_heading level0 row67\" >rep_is_female_x_Oregon</th> \n",
       "        <td id=\"T_e5aebfe8_e048_11e8_a602_4a000ca0ed01row67_col0\" class=\"data row67 col0\" >-0.0174832</td> \n",
       "    </tr>    <tr> \n",
       "        <th id=\"T_e5aebfe8_e048_11e8_a602_4a000ca0ed01level0_row68\" class=\"row_heading level0 row68\" >rep_to_tot_nov_x_Colorado</th> \n",
       "        <td id=\"T_e5aebfe8_e048_11e8_a602_4a000ca0ed01row68_col0\" class=\"data row68 col0\" >-0.0175749</td> \n",
       "    </tr>    <tr> \n",
       "        <th id=\"T_e5aebfe8_e048_11e8_a602_4a000ca0ed01level0_row69\" class=\"row_heading level0 row69\" >dem_is_female_x_Washington</th> \n",
       "        <td id=\"T_e5aebfe8_e048_11e8_a602_4a000ca0ed01row69_col0\" class=\"data row69 col0\" >0.0176152</td> \n",
       "    </tr>    <tr> \n",
       "        <th id=\"T_e5aebfe8_e048_11e8_a602_4a000ca0ed01level0_row70\" class=\"row_heading level0 row70\" >dem_incumbent_x_Maryland</th> \n",
       "        <td id=\"T_e5aebfe8_e048_11e8_a602_4a000ca0ed01row70_col0\" class=\"data row70 col0\" >0.0188677</td> \n",
       "    </tr>    <tr> \n",
       "        <th id=\"T_e5aebfe8_e048_11e8_a602_4a000ca0ed01level0_row71\" class=\"row_heading level0 row71\" >dem_incumbent_x_Ohio</th> \n",
       "        <td id=\"T_e5aebfe8_e048_11e8_a602_4a000ca0ed01row71_col0\" class=\"data row71 col0\" >-0.0192761</td> \n",
       "    </tr>    <tr> \n",
       "        <th id=\"T_e5aebfe8_e048_11e8_a602_4a000ca0ed01level0_row72\" class=\"row_heading level0 row72\" >dem_is_female_x_Ohio</th> \n",
       "        <td id=\"T_e5aebfe8_e048_11e8_a602_4a000ca0ed01row72_col0\" class=\"data row72 col0\" >-0.0197518</td> \n",
       "    </tr>    <tr> \n",
       "        <th id=\"T_e5aebfe8_e048_11e8_a602_4a000ca0ed01level0_row73\" class=\"row_heading level0 row73\" >dem_incumbent_x_Wisconsin</th> \n",
       "        <td id=\"T_e5aebfe8_e048_11e8_a602_4a000ca0ed01row73_col0\" class=\"data row73 col0\" >-0.0199694</td> \n",
       "    </tr>    <tr> \n",
       "        <th id=\"T_e5aebfe8_e048_11e8_a602_4a000ca0ed01level0_row74\" class=\"row_heading level0 row74\" >dem_incumbent_x_Tennessee</th> \n",
       "        <td id=\"T_e5aebfe8_e048_11e8_a602_4a000ca0ed01row74_col0\" class=\"data row74 col0\" >-0.0201446</td> \n",
       "    </tr>    <tr> \n",
       "        <th id=\"T_e5aebfe8_e048_11e8_a602_4a000ca0ed01level0_row75\" class=\"row_heading level0 row75\" >rep_incumbent_x_dem_percent</th> \n",
       "        <td id=\"T_e5aebfe8_e048_11e8_a602_4a000ca0ed01row75_col0\" class=\"data row75 col0\" >0.0202098</td> \n",
       "    </tr>    <tr> \n",
       "        <th id=\"T_e5aebfe8_e048_11e8_a602_4a000ca0ed01level0_row76\" class=\"row_heading level0 row76\" >rep_to_tot_oct_x_Tennessee</th> \n",
       "        <td id=\"T_e5aebfe8_e048_11e8_a602_4a000ca0ed01row76_col0\" class=\"data row76 col0\" >0.0204157</td> \n",
       "    </tr>    <tr> \n",
       "        <th id=\"T_e5aebfe8_e048_11e8_a602_4a000ca0ed01level0_row77\" class=\"row_heading level0 row77\" >dem_incumbent_x_Texas</th> \n",
       "        <td id=\"T_e5aebfe8_e048_11e8_a602_4a000ca0ed01row77_col0\" class=\"data row77 col0\" >-0.0207858</td> \n",
       "    </tr>    <tr> \n",
       "        <th id=\"T_e5aebfe8_e048_11e8_a602_4a000ca0ed01level0_row78\" class=\"row_heading level0 row78\" >same_as_pres_party_dem_x_Michigan</th> \n",
       "        <td id=\"T_e5aebfe8_e048_11e8_a602_4a000ca0ed01row78_col0\" class=\"data row78 col0\" >-0.0209778</td> \n",
       "    </tr>    <tr> \n",
       "        <th id=\"T_e5aebfe8_e048_11e8_a602_4a000ca0ed01level0_row79\" class=\"row_heading level0 row79\" >dem_percent_x_Utah</th> \n",
       "        <td id=\"T_e5aebfe8_e048_11e8_a602_4a000ca0ed01row79_col0\" class=\"data row79 col0\" >0.0229933</td> \n",
       "    </tr>    <tr> \n",
       "        <th id=\"T_e5aebfe8_e048_11e8_a602_4a000ca0ed01level0_row80\" class=\"row_heading level0 row80\" >pres_approval_x_Arkansas</th> \n",
       "        <td id=\"T_e5aebfe8_e048_11e8_a602_4a000ca0ed01row80_col0\" class=\"data row80 col0\" >0.0235004</td> \n",
       "    </tr>    <tr> \n",
       "        <th id=\"T_e5aebfe8_e048_11e8_a602_4a000ca0ed01level0_row81\" class=\"row_heading level0 row81\" >dem_percent_x_percent_bachelor_or_above</th> \n",
       "        <td id=\"T_e5aebfe8_e048_11e8_a602_4a000ca0ed01row81_col0\" class=\"data row81 col0\" >-0.0235357</td> \n",
       "    </tr>    <tr> \n",
       "        <th id=\"T_e5aebfe8_e048_11e8_a602_4a000ca0ed01level0_row82\" class=\"row_heading level0 row82\" >pres_approval_x_percent_bachelor_or_above</th> \n",
       "        <td id=\"T_e5aebfe8_e048_11e8_a602_4a000ca0ed01row82_col0\" class=\"data row82 col0\" >-0.0241862</td> \n",
       "    </tr>    <tr> \n",
       "        <th id=\"T_e5aebfe8_e048_11e8_a602_4a000ca0ed01level0_row83\" class=\"row_heading level0 row83\" >rep_to_tot_nov_x_Iowa</th> \n",
       "        <td id=\"T_e5aebfe8_e048_11e8_a602_4a000ca0ed01row83_col0\" class=\"data row83 col0\" >-0.0248915</td> \n",
       "    </tr>    <tr> \n",
       "        <th id=\"T_e5aebfe8_e048_11e8_a602_4a000ca0ed01level0_row84\" class=\"row_heading level0 row84\" >dem_percent_x_pres_approval</th> \n",
       "        <td id=\"T_e5aebfe8_e048_11e8_a602_4a000ca0ed01row84_col0\" class=\"data row84 col0\" >-0.0249639</td> \n",
       "    </tr>    <tr> \n",
       "        <th id=\"T_e5aebfe8_e048_11e8_a602_4a000ca0ed01level0_row85\" class=\"row_heading level0 row85\" >dem_incumbent_x_Minnesota</th> \n",
       "        <td id=\"T_e5aebfe8_e048_11e8_a602_4a000ca0ed01row85_col0\" class=\"data row85 col0\" >-0.0261278</td> \n",
       "    </tr>    <tr> \n",
       "        <th id=\"T_e5aebfe8_e048_11e8_a602_4a000ca0ed01level0_row86\" class=\"row_heading level0 row86\" >pres_approval_x_Minnesota</th> \n",
       "        <td id=\"T_e5aebfe8_e048_11e8_a602_4a000ca0ed01row86_col0\" class=\"data row86 col0\" >-0.0265839</td> \n",
       "    </tr>    <tr> \n",
       "        <th id=\"T_e5aebfe8_e048_11e8_a602_4a000ca0ed01level0_row87\" class=\"row_heading level0 row87\" >dem_incumbent_x_New Mexico</th> \n",
       "        <td id=\"T_e5aebfe8_e048_11e8_a602_4a000ca0ed01row87_col0\" class=\"data row87 col0\" >0.0267983</td> \n",
       "    </tr>    <tr> \n",
       "        <th id=\"T_e5aebfe8_e048_11e8_a602_4a000ca0ed01level0_row88\" class=\"row_heading level0 row88\" >rep_to_tot_nov_x_Minnesota</th> \n",
       "        <td id=\"T_e5aebfe8_e048_11e8_a602_4a000ca0ed01row88_col0\" class=\"data row88 col0\" >-0.0284808</td> \n",
       "    </tr>    <tr> \n",
       "        <th id=\"T_e5aebfe8_e048_11e8_a602_4a000ca0ed01level0_row89\" class=\"row_heading level0 row89\" >rep_is_female_x_Arizona</th> \n",
       "        <td id=\"T_e5aebfe8_e048_11e8_a602_4a000ca0ed01row89_col0\" class=\"data row89 col0\" >-0.0285696</td> \n",
       "    </tr>    <tr> \n",
       "        <th id=\"T_e5aebfe8_e048_11e8_a602_4a000ca0ed01level0_row90\" class=\"row_heading level0 row90\" >minority_percentage_x_Michigan</th> \n",
       "        <td id=\"T_e5aebfe8_e048_11e8_a602_4a000ca0ed01row90_col0\" class=\"data row90 col0\" >-0.0303391</td> \n",
       "    </tr>    <tr> \n",
       "        <th id=\"T_e5aebfe8_e048_11e8_a602_4a000ca0ed01level0_row91\" class=\"row_heading level0 row91\" >minority_percentage_x_Colorado</th> \n",
       "        <td id=\"T_e5aebfe8_e048_11e8_a602_4a000ca0ed01row91_col0\" class=\"data row91 col0\" >-0.0310844</td> \n",
       "    </tr>    <tr> \n",
       "        <th id=\"T_e5aebfe8_e048_11e8_a602_4a000ca0ed01level0_row92\" class=\"row_heading level0 row92\" >minority_percentage_x_Illinois</th> \n",
       "        <td id=\"T_e5aebfe8_e048_11e8_a602_4a000ca0ed01row92_col0\" class=\"data row92 col0\" >-0.031095</td> \n",
       "    </tr>    <tr> \n",
       "        <th id=\"T_e5aebfe8_e048_11e8_a602_4a000ca0ed01level0_row93\" class=\"row_heading level0 row93\" >dem_percent_x_North Carolina</th> \n",
       "        <td id=\"T_e5aebfe8_e048_11e8_a602_4a000ca0ed01row93_col0\" class=\"data row93 col0\" >0.0311905</td> \n",
       "    </tr>    <tr> \n",
       "        <th id=\"T_e5aebfe8_e048_11e8_a602_4a000ca0ed01level0_row94\" class=\"row_heading level0 row94\" >dem_is_female_x_Connecticut</th> \n",
       "        <td id=\"T_e5aebfe8_e048_11e8_a602_4a000ca0ed01row94_col0\" class=\"data row94 col0\" >-0.031503</td> \n",
       "    </tr>    <tr> \n",
       "        <th id=\"T_e5aebfe8_e048_11e8_a602_4a000ca0ed01level0_row95\" class=\"row_heading level0 row95\" >Oklahoma</th> \n",
       "        <td id=\"T_e5aebfe8_e048_11e8_a602_4a000ca0ed01row95_col0\" class=\"data row95 col0\" >0.0347046</td> \n",
       "    </tr>    <tr> \n",
       "        <th id=\"T_e5aebfe8_e048_11e8_a602_4a000ca0ed01level0_row96\" class=\"row_heading level0 row96\" >rep_is_female_x_Oklahoma</th> \n",
       "        <td id=\"T_e5aebfe8_e048_11e8_a602_4a000ca0ed01row96_col0\" class=\"data row96 col0\" >0.035367</td> \n",
       "    </tr>    <tr> \n",
       "        <th id=\"T_e5aebfe8_e048_11e8_a602_4a000ca0ed01level0_row97\" class=\"row_heading level0 row97\" >dem_incumbent_x_Oklahoma</th> \n",
       "        <td id=\"T_e5aebfe8_e048_11e8_a602_4a000ca0ed01row97_col0\" class=\"data row97 col0\" >-0.0363704</td> \n",
       "    </tr>    <tr> \n",
       "        <th id=\"T_e5aebfe8_e048_11e8_a602_4a000ca0ed01level0_row98\" class=\"row_heading level0 row98\" >minority_percentage_x_rep_to_tot_oct</th> \n",
       "        <td id=\"T_e5aebfe8_e048_11e8_a602_4a000ca0ed01row98_col0\" class=\"data row98 col0\" >-0.0365762</td> \n",
       "    </tr>    <tr> \n",
       "        <th id=\"T_e5aebfe8_e048_11e8_a602_4a000ca0ed01level0_row99\" class=\"row_heading level0 row99\" >pres_approval_x_Kansas</th> \n",
       "        <td id=\"T_e5aebfe8_e048_11e8_a602_4a000ca0ed01row99_col0\" class=\"data row99 col0\" >0.037403</td> \n",
       "    </tr>    <tr> \n",
       "        <th id=\"T_e5aebfe8_e048_11e8_a602_4a000ca0ed01level0_row100\" class=\"row_heading level0 row100\" >dem_incumbent_x_Nevada</th> \n",
       "        <td id=\"T_e5aebfe8_e048_11e8_a602_4a000ca0ed01row100_col0\" class=\"data row100 col0\" >0.0374463</td> \n",
       "    </tr>    <tr> \n",
       "        <th id=\"T_e5aebfe8_e048_11e8_a602_4a000ca0ed01level0_row101\" class=\"row_heading level0 row101\" >rep_incumbent_x_Utah</th> \n",
       "        <td id=\"T_e5aebfe8_e048_11e8_a602_4a000ca0ed01row101_col0\" class=\"data row101 col0\" >0.0392325</td> \n",
       "    </tr>    <tr> \n",
       "        <th id=\"T_e5aebfe8_e048_11e8_a602_4a000ca0ed01level0_row102\" class=\"row_heading level0 row102\" >Maine</th> \n",
       "        <td id=\"T_e5aebfe8_e048_11e8_a602_4a000ca0ed01row102_col0\" class=\"data row102 col0\" >-0.0408909</td> \n",
       "    </tr>    <tr> \n",
       "        <th id=\"T_e5aebfe8_e048_11e8_a602_4a000ca0ed01level0_row103\" class=\"row_heading level0 row103\" >rep_is_female_x_Utah</th> \n",
       "        <td id=\"T_e5aebfe8_e048_11e8_a602_4a000ca0ed01row103_col0\" class=\"data row103 col0\" >-0.0412992</td> \n",
       "    </tr>    <tr> \n",
       "        <th id=\"T_e5aebfe8_e048_11e8_a602_4a000ca0ed01level0_row104\" class=\"row_heading level0 row104\" >pres_approval_x_Mississippi</th> \n",
       "        <td id=\"T_e5aebfe8_e048_11e8_a602_4a000ca0ed01row104_col0\" class=\"data row104 col0\" >0.0417389</td> \n",
       "    </tr>    <tr> \n",
       "        <th id=\"T_e5aebfe8_e048_11e8_a602_4a000ca0ed01level0_row105\" class=\"row_heading level0 row105\" >rep_is_female_x_Connecticut</th> \n",
       "        <td id=\"T_e5aebfe8_e048_11e8_a602_4a000ca0ed01row105_col0\" class=\"data row105 col0\" >-0.0424808</td> \n",
       "    </tr>    <tr> \n",
       "        <th id=\"T_e5aebfe8_e048_11e8_a602_4a000ca0ed01level0_row106\" class=\"row_heading level0 row106\" >dem_percent_x_Arizona</th> \n",
       "        <td id=\"T_e5aebfe8_e048_11e8_a602_4a000ca0ed01row106_col0\" class=\"data row106 col0\" >0.0438153</td> \n",
       "    </tr>    <tr> \n",
       "        <th id=\"T_e5aebfe8_e048_11e8_a602_4a000ca0ed01level0_row107\" class=\"row_heading level0 row107\" >rep_incumbent_x_Oregon</th> \n",
       "        <td id=\"T_e5aebfe8_e048_11e8_a602_4a000ca0ed01row107_col0\" class=\"data row107 col0\" >0.0440222</td> \n",
       "    </tr>    <tr> \n",
       "        <th id=\"T_e5aebfe8_e048_11e8_a602_4a000ca0ed01level0_row108\" class=\"row_heading level0 row108\" >dem_is_female_x_Alaska</th> \n",
       "        <td id=\"T_e5aebfe8_e048_11e8_a602_4a000ca0ed01row108_col0\" class=\"data row108 col0\" >0.044457</td> \n",
       "    </tr>    <tr> \n",
       "        <th id=\"T_e5aebfe8_e048_11e8_a602_4a000ca0ed01level0_row109\" class=\"row_heading level0 row109\" >pres_approval_x_Virginia</th> \n",
       "        <td id=\"T_e5aebfe8_e048_11e8_a602_4a000ca0ed01row109_col0\" class=\"data row109 col0\" >0.0455967</td> \n",
       "    </tr>    <tr> \n",
       "        <th id=\"T_e5aebfe8_e048_11e8_a602_4a000ca0ed01level0_row110\" class=\"row_heading level0 row110\" >percent_bachelor_or_above_x_West Virginia</th> \n",
       "        <td id=\"T_e5aebfe8_e048_11e8_a602_4a000ca0ed01row110_col0\" class=\"data row110 col0\" >-0.0456111</td> \n",
       "    </tr>    <tr> \n",
       "        <th id=\"T_e5aebfe8_e048_11e8_a602_4a000ca0ed01level0_row111\" class=\"row_heading level0 row111\" >pres_approval_x_Idaho</th> \n",
       "        <td id=\"T_e5aebfe8_e048_11e8_a602_4a000ca0ed01row111_col0\" class=\"data row111 col0\" >0.0461</td> \n",
       "    </tr>    <tr> \n",
       "        <th id=\"T_e5aebfe8_e048_11e8_a602_4a000ca0ed01level0_row112\" class=\"row_heading level0 row112\" >pres_approval_x_pres_approval</th> \n",
       "        <td id=\"T_e5aebfe8_e048_11e8_a602_4a000ca0ed01row112_col0\" class=\"data row112 col0\" >-0.0489619</td> \n",
       "    </tr>    <tr> \n",
       "        <th id=\"T_e5aebfe8_e048_11e8_a602_4a000ca0ed01level0_row113\" class=\"row_heading level0 row113\" >pres_approval_x_Delaware</th> \n",
       "        <td id=\"T_e5aebfe8_e048_11e8_a602_4a000ca0ed01row113_col0\" class=\"data row113 col0\" >-0.0497676</td> \n",
       "    </tr>    <tr> \n",
       "        <th id=\"T_e5aebfe8_e048_11e8_a602_4a000ca0ed01level0_row114\" class=\"row_heading level0 row114\" >rep_incumbent_x_same_as_pres_party_dem</th> \n",
       "        <td id=\"T_e5aebfe8_e048_11e8_a602_4a000ca0ed01row114_col0\" class=\"data row114 col0\" >0.0497892</td> \n",
       "    </tr>    <tr> \n",
       "        <th id=\"T_e5aebfe8_e048_11e8_a602_4a000ca0ed01level0_row115\" class=\"row_heading level0 row115\" >minority_percentage_x_Mississippi</th> \n",
       "        <td id=\"T_e5aebfe8_e048_11e8_a602_4a000ca0ed01row115_col0\" class=\"data row115 col0\" >0.0507932</td> \n",
       "    </tr>    <tr> \n",
       "        <th id=\"T_e5aebfe8_e048_11e8_a602_4a000ca0ed01level0_row116\" class=\"row_heading level0 row116\" >dem_percent_x_Kentucky</th> \n",
       "        <td id=\"T_e5aebfe8_e048_11e8_a602_4a000ca0ed01row116_col0\" class=\"data row116 col0\" >0.0518408</td> \n",
       "    </tr>    <tr> \n",
       "        <th id=\"T_e5aebfe8_e048_11e8_a602_4a000ca0ed01level0_row117\" class=\"row_heading level0 row117\" >dem_incumbent_x_Hawaii</th> \n",
       "        <td id=\"T_e5aebfe8_e048_11e8_a602_4a000ca0ed01row117_col0\" class=\"data row117 col0\" >0.052775</td> \n",
       "    </tr>    <tr> \n",
       "        <th id=\"T_e5aebfe8_e048_11e8_a602_4a000ca0ed01level0_row118\" class=\"row_heading level0 row118\" >Vermont</th> \n",
       "        <td id=\"T_e5aebfe8_e048_11e8_a602_4a000ca0ed01row118_col0\" class=\"data row118 col0\" >-0.0532836</td> \n",
       "    </tr>    <tr> \n",
       "        <th id=\"T_e5aebfe8_e048_11e8_a602_4a000ca0ed01level0_row119\" class=\"row_heading level0 row119\" >dem_incumbent</th> \n",
       "        <td id=\"T_e5aebfe8_e048_11e8_a602_4a000ca0ed01row119_col0\" class=\"data row119 col0\" >-0.0540534</td> \n",
       "    </tr>    <tr> \n",
       "        <th id=\"T_e5aebfe8_e048_11e8_a602_4a000ca0ed01level0_row120\" class=\"row_heading level0 row120\" >same_as_pres_party_dem_x_North Dakota</th> \n",
       "        <td id=\"T_e5aebfe8_e048_11e8_a602_4a000ca0ed01row120_col0\" class=\"data row120 col0\" >0.0554949</td> \n",
       "    </tr>    <tr> \n",
       "        <th id=\"T_e5aebfe8_e048_11e8_a602_4a000ca0ed01level0_row121\" class=\"row_heading level0 row121\" >minority_percentage_x_New York</th> \n",
       "        <td id=\"T_e5aebfe8_e048_11e8_a602_4a000ca0ed01row121_col0\" class=\"data row121 col0\" >-0.0562713</td> \n",
       "    </tr>    <tr> \n",
       "        <th id=\"T_e5aebfe8_e048_11e8_a602_4a000ca0ed01level0_row122\" class=\"row_heading level0 row122\" >percent_bachelor_or_above_x_Arkansas</th> \n",
       "        <td id=\"T_e5aebfe8_e048_11e8_a602_4a000ca0ed01row122_col0\" class=\"data row122 col0\" >0.056842</td> \n",
       "    </tr>    <tr> \n",
       "        <th id=\"T_e5aebfe8_e048_11e8_a602_4a000ca0ed01level0_row123\" class=\"row_heading level0 row123\" >dem_incumbent_x_Oregon</th> \n",
       "        <td id=\"T_e5aebfe8_e048_11e8_a602_4a000ca0ed01row123_col0\" class=\"data row123 col0\" >-0.0584495</td> \n",
       "    </tr>    <tr> \n",
       "        <th id=\"T_e5aebfe8_e048_11e8_a602_4a000ca0ed01level0_row124\" class=\"row_heading level0 row124\" >rep_to_tot_nov_x_Washington</th> \n",
       "        <td id=\"T_e5aebfe8_e048_11e8_a602_4a000ca0ed01row124_col0\" class=\"data row124 col0\" >-0.0600988</td> \n",
       "    </tr>    <tr> \n",
       "        <th id=\"T_e5aebfe8_e048_11e8_a602_4a000ca0ed01level0_row125\" class=\"row_heading level0 row125\" >dem_is_female_x_Nebraska</th> \n",
       "        <td id=\"T_e5aebfe8_e048_11e8_a602_4a000ca0ed01row125_col0\" class=\"data row125 col0\" >0.0601428</td> \n",
       "    </tr>    <tr> \n",
       "        <th id=\"T_e5aebfe8_e048_11e8_a602_4a000ca0ed01level0_row126\" class=\"row_heading level0 row126\" >rep_is_female_x_Pennsylvania</th> \n",
       "        <td id=\"T_e5aebfe8_e048_11e8_a602_4a000ca0ed01row126_col0\" class=\"data row126 col0\" >-0.0605938</td> \n",
       "    </tr>    <tr> \n",
       "        <th id=\"T_e5aebfe8_e048_11e8_a602_4a000ca0ed01level0_row127\" class=\"row_heading level0 row127\" >dem_percent_x_Wisconsin</th> \n",
       "        <td id=\"T_e5aebfe8_e048_11e8_a602_4a000ca0ed01row127_col0\" class=\"data row127 col0\" >-0.0629548</td> \n",
       "    </tr>    <tr> \n",
       "        <th id=\"T_e5aebfe8_e048_11e8_a602_4a000ca0ed01level0_row128\" class=\"row_heading level0 row128\" >rep_is_female_x_Texas</th> \n",
       "        <td id=\"T_e5aebfe8_e048_11e8_a602_4a000ca0ed01row128_col0\" class=\"data row128 col0\" >-0.0687848</td> \n",
       "    </tr>    <tr> \n",
       "        <th id=\"T_e5aebfe8_e048_11e8_a602_4a000ca0ed01level0_row129\" class=\"row_heading level0 row129\" >rep_incumbent_x_minority_percentage</th> \n",
       "        <td id=\"T_e5aebfe8_e048_11e8_a602_4a000ca0ed01row129_col0\" class=\"data row129 col0\" >0.0694011</td> \n",
       "    </tr>    <tr> \n",
       "        <th id=\"T_e5aebfe8_e048_11e8_a602_4a000ca0ed01level0_row130\" class=\"row_heading level0 row130\" >minority_percentage_x_New Jersey</th> \n",
       "        <td id=\"T_e5aebfe8_e048_11e8_a602_4a000ca0ed01row130_col0\" class=\"data row130 col0\" >-0.0716579</td> \n",
       "    </tr>    <tr> \n",
       "        <th id=\"T_e5aebfe8_e048_11e8_a602_4a000ca0ed01level0_row131\" class=\"row_heading level0 row131\" >Georgia</th> \n",
       "        <td id=\"T_e5aebfe8_e048_11e8_a602_4a000ca0ed01row131_col0\" class=\"data row131 col0\" >0.077552</td> \n",
       "    </tr>    <tr> \n",
       "        <th id=\"T_e5aebfe8_e048_11e8_a602_4a000ca0ed01level0_row132\" class=\"row_heading level0 row132\" >rep_incumbent_x_Texas</th> \n",
       "        <td id=\"T_e5aebfe8_e048_11e8_a602_4a000ca0ed01row132_col0\" class=\"data row132 col0\" >0.079243</td> \n",
       "    </tr>    <tr> \n",
       "        <th id=\"T_e5aebfe8_e048_11e8_a602_4a000ca0ed01level0_row133\" class=\"row_heading level0 row133\" >minority_percentage_x_Pennsylvania</th> \n",
       "        <td id=\"T_e5aebfe8_e048_11e8_a602_4a000ca0ed01row133_col0\" class=\"data row133 col0\" >-0.0842004</td> \n",
       "    </tr>    <tr> \n",
       "        <th id=\"T_e5aebfe8_e048_11e8_a602_4a000ca0ed01level0_row134\" class=\"row_heading level0 row134\" >pres_approval_x_Vermont</th> \n",
       "        <td id=\"T_e5aebfe8_e048_11e8_a602_4a000ca0ed01row134_col0\" class=\"data row134 col0\" >-0.0952813</td> \n",
       "    </tr>    <tr> \n",
       "        <th id=\"T_e5aebfe8_e048_11e8_a602_4a000ca0ed01level0_row135\" class=\"row_heading level0 row135\" >minority_percentage_x_Iowa</th> \n",
       "        <td id=\"T_e5aebfe8_e048_11e8_a602_4a000ca0ed01row135_col0\" class=\"data row135 col0\" >-0.0955979</td> \n",
       "    </tr>    <tr> \n",
       "        <th id=\"T_e5aebfe8_e048_11e8_a602_4a000ca0ed01level0_row136\" class=\"row_heading level0 row136\" >rep_is_female_x_Hawaii</th> \n",
       "        <td id=\"T_e5aebfe8_e048_11e8_a602_4a000ca0ed01row136_col0\" class=\"data row136 col0\" >-0.104843</td> \n",
       "    </tr>    <tr> \n",
       "        <th id=\"T_e5aebfe8_e048_11e8_a602_4a000ca0ed01level0_row137\" class=\"row_heading level0 row137\" >dem_incumbent_x_percent_bachelor_or_above</th> \n",
       "        <td id=\"T_e5aebfe8_e048_11e8_a602_4a000ca0ed01row137_col0\" class=\"data row137 col0\" >-0.110634</td> \n",
       "    </tr>    <tr> \n",
       "        <th id=\"T_e5aebfe8_e048_11e8_a602_4a000ca0ed01level0_row138\" class=\"row_heading level0 row138\" >pres_approval_x_Tennessee</th> \n",
       "        <td id=\"T_e5aebfe8_e048_11e8_a602_4a000ca0ed01row138_col0\" class=\"data row138 col0\" >0.133327</td> \n",
       "    </tr>    <tr> \n",
       "        <th id=\"T_e5aebfe8_e048_11e8_a602_4a000ca0ed01level0_row139\" class=\"row_heading level0 row139\" >pres_approval_x_South Carolina</th> \n",
       "        <td id=\"T_e5aebfe8_e048_11e8_a602_4a000ca0ed01row139_col0\" class=\"data row139 col0\" >0.140402</td> \n",
       "    </tr>    <tr> \n",
       "        <th id=\"T_e5aebfe8_e048_11e8_a602_4a000ca0ed01level0_row140\" class=\"row_heading level0 row140\" >rep_incumbent_x_New Hampshire</th> \n",
       "        <td id=\"T_e5aebfe8_e048_11e8_a602_4a000ca0ed01row140_col0\" class=\"data row140 col0\" >-0.151705</td> \n",
       "    </tr>    <tr> \n",
       "        <th id=\"T_e5aebfe8_e048_11e8_a602_4a000ca0ed01level0_row141\" class=\"row_heading level0 row141\" >rep_to_tot_oct_x_Louisiana</th> \n",
       "        <td id=\"T_e5aebfe8_e048_11e8_a602_4a000ca0ed01row141_col0\" class=\"data row141 col0\" >0.153556</td> \n",
       "    </tr>    <tr> \n",
       "        <th id=\"T_e5aebfe8_e048_11e8_a602_4a000ca0ed01level0_row142\" class=\"row_heading level0 row142\" >minority_percentage_x_minority_percentage</th> \n",
       "        <td id=\"T_e5aebfe8_e048_11e8_a602_4a000ca0ed01row142_col0\" class=\"data row142 col0\" >-0.155483</td> \n",
       "    </tr>    <tr> \n",
       "        <th id=\"T_e5aebfe8_e048_11e8_a602_4a000ca0ed01level0_row143\" class=\"row_heading level0 row143\" >percent_bachelor_or_above_x_Massachusetts</th> \n",
       "        <td id=\"T_e5aebfe8_e048_11e8_a602_4a000ca0ed01row143_col0\" class=\"data row143 col0\" >-0.167371</td> \n",
       "    </tr>    <tr> \n",
       "        <th id=\"T_e5aebfe8_e048_11e8_a602_4a000ca0ed01level0_row144\" class=\"row_heading level0 row144\" >rep_to_tot_nov_x_Vermont</th> \n",
       "        <td id=\"T_e5aebfe8_e048_11e8_a602_4a000ca0ed01row144_col0\" class=\"data row144 col0\" >-0.182223</td> \n",
       "    </tr>    <tr> \n",
       "        <th id=\"T_e5aebfe8_e048_11e8_a602_4a000ca0ed01level0_row145\" class=\"row_heading level0 row145\" >pres_approval_x_Oklahoma</th> \n",
       "        <td id=\"T_e5aebfe8_e048_11e8_a602_4a000ca0ed01row145_col0\" class=\"data row145 col0\" >0.187379</td> \n",
       "    </tr>    <tr> \n",
       "        <th id=\"T_e5aebfe8_e048_11e8_a602_4a000ca0ed01level0_row146\" class=\"row_heading level0 row146\" >percent_bachelor_or_above_x_percent_bachelor_or_above</th> \n",
       "        <td id=\"T_e5aebfe8_e048_11e8_a602_4a000ca0ed01row146_col0\" class=\"data row146 col0\" >-0.266805</td> \n",
       "    </tr>    <tr> \n",
       "        <th id=\"T_e5aebfe8_e048_11e8_a602_4a000ca0ed01level0_row147\" class=\"row_heading level0 row147\" >rep_to_tot_oct_x_Hawaii</th> \n",
       "        <td id=\"T_e5aebfe8_e048_11e8_a602_4a000ca0ed01row147_col0\" class=\"data row147 col0\" >0.278641</td> \n",
       "    </tr>    <tr> \n",
       "        <th id=\"T_e5aebfe8_e048_11e8_a602_4a000ca0ed01level0_row148\" class=\"row_heading level0 row148\" >percent_bachelor_or_above_x_Alabama</th> \n",
       "        <td id=\"T_e5aebfe8_e048_11e8_a602_4a000ca0ed01row148_col0\" class=\"data row148 col0\" >0.300776</td> \n",
       "    </tr>    <tr> \n",
       "        <th id=\"T_e5aebfe8_e048_11e8_a602_4a000ca0ed01level0_row149\" class=\"row_heading level0 row149\" >minority_percentage</th> \n",
       "        <td id=\"T_e5aebfe8_e048_11e8_a602_4a000ca0ed01row149_col0\" class=\"data row149 col0\" >-0.355149</td> \n",
       "    </tr>    <tr> \n",
       "        <th id=\"T_e5aebfe8_e048_11e8_a602_4a000ca0ed01level0_row150\" class=\"row_heading level0 row150\" >percent_bachelor_or_above_x_Mississippi</th> \n",
       "        <td id=\"T_e5aebfe8_e048_11e8_a602_4a000ca0ed01row150_col0\" class=\"data row150 col0\" >0.365465</td> \n",
       "    </tr>    <tr> \n",
       "        <th id=\"T_e5aebfe8_e048_11e8_a602_4a000ca0ed01level0_row151\" class=\"row_heading level0 row151\" >minority_percentage_x_Maine</th> \n",
       "        <td id=\"T_e5aebfe8_e048_11e8_a602_4a000ca0ed01row151_col0\" class=\"data row151 col0\" >-0.547498</td> \n",
       "    </tr></tbody> \n",
       "</table> "
      ],
      "text/plain": [
       "<pandas.io.formats.style.Styler at 0x1c2a8579e8>"
      ]
     },
     "execution_count": 181,
     "metadata": {},
     "output_type": "execute_result"
    }
   ],
   "source": [
    "coefs = pd.Series(model.coef_, index=X.columns)\n",
    "nonzero_coefs = coefs[coefs != 0]\n",
    "nonzero_coefs[nonzero_coefs.abs().argsort()].to_frame().style.background_gradient()"
   ]
  },
  {
   "cell_type": "code",
   "execution_count": 182,
   "metadata": {},
   "outputs": [
    {
     "data": {
      "text/plain": [
       "(1530,)"
      ]
     },
     "execution_count": 182,
     "metadata": {},
     "output_type": "execute_result"
    }
   ],
   "source": [
    "model.predict(X).shape"
   ]
  },
  {
   "cell_type": "code",
   "execution_count": 183,
   "metadata": {},
   "outputs": [],
   "source": [
    "predict = model.predict(X)\n",
    "train_info['residual_sq'] = (train['rep_score'] - predict) ** 2\n",
    "train_info['residual'] = (train['rep_score'] - predict)\n"
   ]
  },
  {
   "cell_type": "code",
   "execution_count": 184,
   "metadata": {},
   "outputs": [],
   "source": [
    "emp_cov = train_info.pivot_table(index=['state','district'], columns='raceyear', values='residual').T.corr().fillna(0)"
   ]
  },
  {
   "cell_type": "code",
   "execution_count": 185,
   "metadata": {},
   "outputs": [],
   "source": [
    "# state_cov_matrix = (train_info.groupby(['state_fips', 'district', 'raceyear'])['residual']\n",
    "#                     .mean().unstack('raceyear').T.corr())\n",
    "# for i in (range(len(state_cov_matrix))):\n",
    "#     state_cov_matrix.iloc[i, i] = np.nan\n",
    "# state_cov_matrix = state_cov_matrix.groupby('state_fips').mean().T.groupby('state_fips').mean()"
   ]
  },
  {
   "cell_type": "code",
   "execution_count": 186,
   "metadata": {},
   "outputs": [],
   "source": [
    "# state_cov_matrix = state_cov_matrix.fillna(0)"
   ]
  },
  {
   "cell_type": "code",
   "execution_count": 187,
   "metadata": {},
   "outputs": [],
   "source": [
    "res = train['rep_score'] - predict\n",
    "res_normal = ((res - res.mean()) / res.std()).values"
   ]
  },
  {
   "cell_type": "code",
   "execution_count": null,
   "metadata": {},
   "outputs": [],
   "source": []
  },
  {
   "cell_type": "code",
   "execution_count": 265,
   "metadata": {},
   "outputs": [
    {
     "data": {
      "image/png": "[encoded data removed]",
      "text/plain": [
       "<Figure size 450x450 with 1 Axes>"
      ]
     },
     "metadata": {},
     "output_type": "display_data"
    },
    {
     "data": {
      "image/png": "[encoded data removed]",
      "text/plain": [
       "<Figure size 750x450 with 1 Axes>"
      ]
     },
     "metadata": {},
     "output_type": "display_data"
    }
   ],
   "source": [
    "plt.figure(figsize=(3,3))\n",
    "plt.scatter(ECDF(res_normal)(res_normal), norm.cdf(res_normal), marker='.', s=.5, alpha=1)\n",
    "plt.plot([0,1],[0,1], 'k--', alpha=.5)\n",
    "plt.xlabel('Empirical Quantiles')\n",
    "plt.ylabel('Theoretical Quantiles')\n",
    "plt.title('Normal quantile-quantile plot of fitted residuals')\n",
    "sns.despine()\n",
    "plt.savefig('report/qq.pdf', bbox_inches='tight')\n",
    "\n",
    "plt.figure(figsize=(5,3))\n",
    "sns.regplot(predict, res, lowess=True, scatter_kws={'s':1})\n",
    "plt.ylabel('Residuals')\n",
    "plt.xlabel('Fitted Values')\n",
    "plt.title('Residuals vs. fitted values (Lowess fit)')\n",
    "plt.axhline(0, color='k', alpha=.5)\n",
    "sns.despine()\n",
    "plt.savefig('report/diagnostics.pdf', bbox_inches='tight')"
   ]
  },
  {
   "cell_type": "code",
   "execution_count": 189,
   "metadata": {},
   "outputs": [
    {
     "data": {
      "application/vnd.jupyter.widget-view+json": {
       "model_id": "49c5bc8a9e3d44c3a2c52a9475ee1dc1",
       "version_major": 2,
       "version_minor": 0
      },
      "text/plain": [
       "HBox(children=(IntProgress(value=0, max=393), HTML(value='')))"
      ]
     },
     "metadata": {},
     "output_type": "display_data"
    },
    {
     "name": "stdout",
     "output_type": "stream",
     "text": [
      "\n"
     ]
    }
   ],
   "source": [
    "# Generate mu0 and sigma0 for the test set\n",
    "mu_0 = model.predict(test_contest.loc[:, 'rep_incumbent':].values)\n",
    "sigma2_0 = train_info.groupby('state')['residual_sq'].mean()\n",
    "test_info['sigma2_0'] = test_info['state'].apply(lambda x: sigma2_0[x])\n",
    "sigma2_0 = test_info['sigma2_0'][test_contest.index]\n",
    "Sigma_0 = np.diag(sigma2_0.values)\n",
    "\n",
    "s_d = test_info.loc[test_contest.index][['state', 'district']]\n",
    "\n",
    "for i in tqdm(range(len(Sigma_0))):\n",
    "    for j in range(len(Sigma_0)):\n",
    "        if i != j:\n",
    "            (st, dis) = s_d.iloc[i]\n",
    "            (st2, dis2) = s_d.iloc[j]\n",
    "            Sigma_0[i, j] = emp_cov.loc[(st, dis), (st2, dis2)] * Sigma_0[i,i] * Sigma_0[j,j]\n",
    "            "
   ]
  },
  {
   "cell_type": "code",
   "execution_count": 208,
   "metadata": {},
   "outputs": [
    {
     "data": {
      "text/plain": [
       "0.4954233365527225"
      ]
     },
     "execution_count": 208,
     "metadata": {},
     "output_type": "execute_result"
    }
   ],
   "source": [
    "mu_0.mean()"
   ]
  },
  {
   "cell_type": "markdown",
   "metadata": {},
   "source": [
    "# First update - Generic ballot"
   ]
  },
  {
   "cell_type": "code",
   "execution_count": 266,
   "metadata": {},
   "outputs": [],
   "source": [
    "old_prior = mu_0.copy(), Sigma_0.copy()"
   ]
  },
  {
   "cell_type": "code",
   "execution_count": 283,
   "metadata": {},
   "outputs": [],
   "source": [
    "mu_0 = .5 + np.zeros_like(mu_0)\n",
    "Sigma_0 = 10 * np.eye(len(mu_0))"
   ]
  },
  {
   "cell_type": "code",
   "execution_count": 284,
   "metadata": {},
   "outputs": [],
   "source": [
    "generic_ballot = (pd.read_csv('https://projects.fivethirtyeight.com/generic-ballot-data/generic_ballot.csv')\n",
    "                  .sort_values('date', ascending=False))\n",
    "generic_ballot = generic_ballot.iloc[0]\n",
    "z_thresh = 1.644854\n",
    "sigma2_G = ((generic_ballot['rep_hi']/100 - generic_ballot['rep_lo']/100) / 2 / z_thresh) ** 2"
   ]
  },
  {
   "cell_type": "code",
   "execution_count": 285,
   "metadata": {},
   "outputs": [],
   "source": [
    "gen_ballot = feather.read_dataframe('generic_ballot.feather')\n",
    "gen_ballot = gen_ballot[gen_ballot['created_at'] >= '2018-10-15'].copy()"
   ]
  },
  {
   "cell_type": "code",
   "execution_count": 286,
   "metadata": {},
   "outputs": [
    {
     "data": {
      "application/vnd.jupyter.widget-view+json": {
       "model_id": "71f1810abf9648bd905b98e1a6041b62",
       "version_major": 2,
       "version_minor": 0
      },
      "text/plain": [
       "HBox(children=(IntProgress(value=1, bar_style='info', max=1), HTML(value='')))"
      ]
     },
     "metadata": {},
     "output_type": "display_data"
    },
    {
     "name": "stdout",
     "output_type": "stream",
     "text": [
      "\n"
     ]
    }
   ],
   "source": [
    "def normal_conditioning(mu0, mu1, v0, v1, v01, observed):\n",
    "    new_mu = mu0 + v01 @ np.linalg.inv(v1) @ (observed - mu1)\n",
    "    new_v = v0 - v01 @ np.linalg.inv(v1) @ v01.T\n",
    "    return new_mu, new_v\n",
    "\n",
    "mu_after_gen, sigma_after_gen = mu_0, Sigma_0\n",
    "for _, x in tqdm(gen_ballot.iterrows()):\n",
    "    n = len(Sigma_0)\n",
    "    observed = x['rep_score']\n",
    "    observed = np.array([observed])\n",
    "    mu1 = np.array([mu_after_gen.mean()])\n",
    "    v1 = np.array([[1/(4 * x['sampleSize']) + sigma2_G + Sigma_0.sum() / (n ** 2)]])\n",
    "    v01 = (sigma_after_gen / n @ np.ones(n))[:, np.newaxis]\n",
    "    mu_after_gen, sigma_after_gen = normal_conditioning(mu_after_gen, mu1, sigma_after_gen, v1, v01, observed)"
   ]
  },
  {
   "cell_type": "code",
   "execution_count": 287,
   "metadata": {},
   "outputs": [
    {
     "data": {
      "text/plain": [
       "0.45897677042809715"
      ]
     },
     "execution_count": 287,
     "metadata": {},
     "output_type": "execute_result"
    }
   ],
   "source": [
    "mu_after_gen.mean()"
   ]
  },
  {
   "cell_type": "markdown",
   "metadata": {},
   "source": [
    "# Second update - Polls"
   ]
  },
  {
   "cell_type": "code",
   "execution_count": 323,
   "metadata": {},
   "outputs": [],
   "source": [
    "polls = feather.read_dataframe('polls.feather')\n",
    "sigma2_poll = polls.groupby(['state', 'fivethirtyeight_district'])['rep_score'].std() ** 2\n",
    "sigma2_poll = sigma2_poll.fillna(sigma2_poll.mean()).reset_index()\n",
    "sigma2_poll.columns = ['state','fivethirtyeight_district','sigma2_poll']\n",
    "polls = polls.merge(sigma2_poll)"
   ]
  },
  {
   "cell_type": "code",
   "execution_count": 324,
   "metadata": {},
   "outputs": [],
   "source": [
    "polls = (test_info.reset_index()\n",
    "         .merge(polls, how='left').dropna()\n",
    "         .sort_values('created_at').groupby('index')\n",
    "         .apply(lambda x: x.iloc[-3:])\n",
    "         .reset_index(drop=True).drop(['sigma2_0','id','created_at'], axis=1))"
   ]
  },
  {
   "cell_type": "code",
   "execution_count": 325,
   "metadata": {},
   "outputs": [],
   "source": [
    "def update_poll(poll, mu, Sigma):\n",
    "    m = pd.Series(mu, index=test_contest.index)\n",
    "    ind = poll['index']\n",
    "    mu1 = np.array([m[ind]])\n",
    "    ej = pd.Series(np.zeros(len(test_contest)), \n",
    "                  index=test_contest.index)\n",
    "    ej[ind] = 1\n",
    "    ej = ej.values\n",
    "    cov = (Sigma @ ej)[:, np.newaxis]\n",
    "    v1 = np.array([[1/4/poll['sampleSize'] + poll['sigma2_poll'] + ej.dot(Sigma @ ej)]])\n",
    "    observation = poll['rep_score']\n",
    "    \n",
    "    return normal_conditioning(mu, mu1, Sigma, v1, cov, observation)"
   ]
  },
  {
   "cell_type": "code",
   "execution_count": 326,
   "metadata": {},
   "outputs": [],
   "source": [
    "mu, Sigma = mu_after_gen.copy(), sigma_after_gen.copy()"
   ]
  },
  {
   "cell_type": "code",
   "execution_count": 327,
   "metadata": {},
   "outputs": [
    {
     "data": {
      "text/plain": [
       "0.45897677042809715"
      ]
     },
     "execution_count": 327,
     "metadata": {},
     "output_type": "execute_result"
    }
   ],
   "source": [
    "mu.mean()"
   ]
  },
  {
   "cell_type": "code",
   "execution_count": 328,
   "metadata": {},
   "outputs": [
    {
     "data": {
      "application/vnd.jupyter.widget-view+json": {
       "model_id": "54b924ad70974e13a80c43e7407418bd",
       "version_major": 2,
       "version_minor": 0
      },
      "text/plain": [
       "HBox(children=(IntProgress(value=1, bar_style='info', max=1), HTML(value='')))"
      ]
     },
     "metadata": {},
     "output_type": "display_data"
    },
    {
     "name": "stdout",
     "output_type": "stream",
     "text": [
      "\n"
     ]
    }
   ],
   "source": [
    "for _, poll in tqdm(polls.iterrows()):\n",
    "    mu, Sigma = update_poll(poll, mu, Sigma)"
   ]
  },
  {
   "cell_type": "code",
   "execution_count": 329,
   "metadata": {},
   "outputs": [
    {
     "data": {
      "text/plain": [
       "0.6878980891719745"
      ]
     },
     "execution_count": 329,
     "metadata": {},
     "output_type": "execute_result"
    }
   ],
   "source": [
    "(mu[np.diag(Sigma) < 1] > .5).mean()"
   ]
  },
  {
   "cell_type": "code",
   "execution_count": 330,
   "metadata": {},
   "outputs": [
    {
     "data": {
      "text/plain": [
       "array([0.00024998, 9.95874328, 9.95874328, 9.95874328, 9.95874328,\n",
       "       9.95874328, 9.95874328, 0.00185225, 0.00184535, 0.0002755 ,\n",
       "       0.00185365, 9.95874328, 0.00052016, 0.00038418, 9.95874328,\n",
       "       0.00193688, 9.95874328, 0.00040086, 0.00027586, 9.95874328,\n",
       "       0.00188622, 9.95874328, 9.95874328, 9.95874328, 0.0004402 ,\n",
       "       0.00070867, 0.00037006, 9.95874328, 9.95874328, 0.00040874,\n",
       "       9.95874328, 9.95874328, 9.95874328, 0.00155895, 0.00061882,\n",
       "       9.95874328, 9.95874328, 9.95874328, 9.95874328, 9.95874328,\n",
       "       9.95874328, 9.95874328, 9.95874328, 9.95874328, 9.95874328,\n",
       "       9.95874328, 9.95874328, 0.00060834, 0.00188004, 9.95874328,\n",
       "       0.00021131, 0.00171173, 9.95874328, 9.95874328, 9.95874328,\n",
       "       9.95874328, 0.00174671, 9.95874328, 9.95874328, 9.95874328,\n",
       "       9.95874328, 0.00031307, 9.95874328, 9.95874328, 0.00062663,\n",
       "       9.95874328, 9.95874328, 0.00177673, 9.95874328, 9.95874328,\n",
       "       9.95874328, 9.95874328, 9.95874328, 9.95874328, 9.95874328,\n",
       "       0.00198884, 0.00172857, 9.95874328, 0.00183595, 0.0002225 ,\n",
       "       9.95874328, 9.95874328, 9.95874328, 0.0007852 , 0.00031219,\n",
       "       0.00022901, 9.95874328, 9.95874328, 9.95874328, 0.00179544,\n",
       "       0.00059561, 9.95874328, 0.00022339, 0.00033282, 9.95874328,\n",
       "       0.0016678 , 9.95874328, 9.95874328, 9.95874328, 0.0024568 ,\n",
       "       0.00018946, 9.95874328, 9.95874328, 9.95874328, 9.95874328,\n",
       "       9.95874328, 9.95874328, 9.95874328, 9.95874328, 9.95874328,\n",
       "       9.95874328, 9.95874328, 0.00090978, 0.00081355, 0.00256102,\n",
       "       0.00054032, 0.00213831, 0.00205481, 9.95874328, 9.95874328,\n",
       "       9.95874328, 0.00035531, 9.95874328, 9.95874328, 9.95874328,\n",
       "       9.95874328, 9.95874328, 9.95874328, 0.00171255, 9.95874328,\n",
       "       0.0001919 , 0.0004204 , 0.00034033, 9.95874328, 9.95874328,\n",
       "       9.95874328, 0.00172339, 9.95874328, 9.95874328, 9.95874328,\n",
       "       0.00173566, 9.95874328, 0.00188466, 9.95874328, 9.95874328,\n",
       "       0.00214914, 0.00045016, 0.00040568, 0.00257203, 0.0007367 ,\n",
       "       9.95874328, 9.95874328, 9.95874328, 9.95874328, 9.95874328,\n",
       "       9.95874328, 9.95874328, 9.95874328, 9.95874328, 9.95874328,\n",
       "       9.95874328, 9.95874328, 9.95874328, 9.95874328, 9.95874328,\n",
       "       9.95874328, 9.95874328, 9.95874328, 9.95874328, 9.95874328,\n",
       "       9.95874328, 9.95874328, 9.95874328, 0.00040471, 0.00036183,\n",
       "       9.95874328, 0.00026989, 0.00188622, 0.0001469 , 9.95874328,\n",
       "       9.95874328, 9.95874328, 0.00321087, 9.95874328, 9.95874328,\n",
       "       0.0003632 , 9.95874328, 0.00169683, 0.00117925, 0.00176127,\n",
       "       9.95874328, 9.95874328, 9.95874328, 0.00030811, 0.0005501 ,\n",
       "       0.00268041, 9.95874328, 9.95874328, 9.95874328, 9.95874328,\n",
       "       9.95874328, 9.95874328, 0.00152172, 9.95874328, 0.00173747,\n",
       "       0.00173747, 0.00173747, 0.00066484, 0.00034643, 9.95874328,\n",
       "       0.00176127, 9.95874328, 9.95874328, 9.95874328, 0.0005202 ,\n",
       "       0.00030622, 9.95874328, 9.95874328, 9.95874328, 9.95874328,\n",
       "       0.00026691, 9.95874328, 0.00028687, 0.00159825, 0.00118685,\n",
       "       0.00101329, 9.95874328, 9.95874328, 0.00033988, 9.95874328,\n",
       "       0.00164233, 9.95874328, 0.00060878, 0.00064113, 9.95874328,\n",
       "       0.00033188, 9.95874328, 9.95874328, 0.00059305, 0.00054453,\n",
       "       0.00026301, 0.00065755, 0.00266536, 0.00274011, 0.00332658,\n",
       "       9.95874328, 9.95874328, 9.95874328, 0.00065031, 9.95874328,\n",
       "       0.00078729, 0.00127027, 0.00175147, 0.00048037, 0.00177043,\n",
       "       9.95874328, 9.95874328, 0.00038909, 9.95874328, 9.95874328,\n",
       "       9.95874328, 9.95874328, 9.95874328, 0.00046495, 9.95874328,\n",
       "       0.00041774, 9.95874328, 9.95874328, 0.00025532, 9.95874328,\n",
       "       9.95874328, 9.95874328, 9.95874328, 0.00184128, 0.00185086,\n",
       "       9.95874328, 9.95874328, 9.95874328, 0.0001558 , 9.95874328,\n",
       "       9.95874328, 0.00032101, 0.00021487, 0.00212023, 0.00219742,\n",
       "       0.00228146, 0.00207814, 0.00195757, 9.95874328, 0.00188622,\n",
       "       9.95874328, 0.00218361, 0.00023169, 0.00035726, 9.95874328,\n",
       "       9.95874328, 9.95874328, 9.95874328, 9.95874328, 0.00025231,\n",
       "       0.00052803, 9.95874328, 9.95874328, 0.00208622, 9.95874328,\n",
       "       0.00062845, 0.00020367, 0.00043041, 9.95874328, 9.95874328,\n",
       "       9.95874328, 9.95874328, 9.95874328, 9.95874328, 9.95874328,\n",
       "       9.95874328, 0.00165939, 0.00061432, 9.95874328, 9.95874328,\n",
       "       9.95874328, 9.95874328, 9.95874328, 9.95874328, 9.95874328,\n",
       "       9.95874328, 9.95874328, 9.95874328, 0.0002609 , 0.00169532,\n",
       "       9.95874328, 9.95874328, 9.95874328, 9.95874328, 9.95874328,\n",
       "       9.95874328, 0.00022134, 0.00073287, 9.95874328, 9.95874328,\n",
       "       9.95874328, 9.95874328, 9.95874328, 9.95874328, 0.001035  ,\n",
       "       9.95874328, 0.00030963, 0.00183595, 9.95874328, 9.95874328,\n",
       "       0.00152149, 9.95874328, 9.95874328, 9.95874328, 9.95874328,\n",
       "       0.00168502, 9.95874328, 0.00173837, 9.95874328, 0.00030917,\n",
       "       0.00148995, 0.00083798, 0.00047218, 0.00188622, 9.95874328,\n",
       "       0.00041231, 9.95874328, 0.00031551, 9.95874328, 0.00052931,\n",
       "       9.95874328, 0.00034098, 9.95874328, 0.00176632, 0.00048439,\n",
       "       9.95874328, 9.95874328, 0.00021877, 9.95874328, 0.00109297,\n",
       "       9.95874328, 9.95874328, 9.95874328, 9.95874328, 0.00173747,\n",
       "       9.95874328, 9.95874328, 9.95874328, 0.00032592, 0.0006553 ,\n",
       "       0.00053438, 0.00127006, 9.95874328])"
      ]
     },
     "execution_count": 330,
     "metadata": {},
     "output_type": "execute_result"
    }
   ],
   "source": [
    "np.diag(Sigma)"
   ]
  },
  {
   "cell_type": "code",
   "execution_count": 337,
   "metadata": {},
   "outputs": [
    {
     "name": "stdout",
     "output_type": "stream",
     "text": [
      "Probability of Democratic House for Prior = 0.96554\n",
      "Probability of Democratic House for Posterior after generic ballot = 0.99962\n",
      "Probability of Democratic House for Posterior = 0.3378\n"
     ]
    },
    {
     "data": {
      "image/png": "[encoded data removed]",
      "text/plain": [
       "<Figure size 750x300 with 1 Axes>"
      ]
     },
     "metadata": {},
     "output_type": "display_data"
    }
   ],
   "source": [
    "rep_uncon = df.query('raceyear==2018')['rep_uncontested'].sum()\n",
    "\n",
    "plt.figure(figsize=(5,2))\n",
    "plt.axvline(0, color='k', label='Majority')\n",
    "\n",
    "for (lab, mu_, Sigma_) in [['Prior', mu_0, Sigma_0], ['Posterior after generic ballot', mu_after_gen, sigma_after_gen], \n",
    "                           ['Posterior', mu, Sigma]]:\n",
    "    sim = np.random.multivariate_normal(mu_, Sigma_, size=50000)\n",
    "    sns.distplot((sim > .5).sum(axis=1) + rep_uncon - 217, bins=53,\n",
    "                 kde_kws={'bw':1}, label=lab)\n",
    "    print(f'Probability of Democratic House for {lab} = {1-((sim > .5).sum(axis=1) + 3 > 217.5).mean()}')\n",
    "plt.xlabel('Republican Majority')\n",
    "sns.despine()\n",
    "plt.legend(frameon=False, loc=(1.05,0))\n",
    "plt.savefig('report/rep_seats_with_diffused_prior.pdf', bbox_inches='tight')"
   ]
  },
  {
   "cell_type": "code",
   "execution_count": 205,
   "metadata": {},
   "outputs": [
    {
     "data": {
      "text/plain": [
       "0.97662"
      ]
     },
     "execution_count": 205,
     "metadata": {},
     "output_type": "execute_result"
    }
   ],
   "source": [
    "1-((sim > .5).sum(axis=1) + 3 > 217.5).mean()"
   ]
  },
  {
   "cell_type": "code",
   "execution_count": null,
   "metadata": {},
   "outputs": [],
   "source": [
    "(sim > .5).sum(axis=1).std()"
   ]
  },
  {
   "cell_type": "code",
   "execution_count": null,
   "metadata": {},
   "outputs": [],
   "source": [
    "test_info['mu'] = mu\n",
    "test_info['sigma'] = np.diag(Sigma) ** .5"
   ]
  },
  {
   "cell_type": "code",
   "execution_count": null,
   "metadata": {},
   "outputs": [],
   "source": [
    "test_info['edge'] = (test_info['mu'] - .5) / test_info['sigma']"
   ]
  },
  {
   "cell_type": "code",
   "execution_count": null,
   "metadata": {},
   "outputs": [],
   "source": [
    "maps = gpd.read_file('data/kx-us-116th-congressional-districts-SHP (1)/us-116th-congressional-districts.shp')"
   ]
  },
  {
   "cell_type": "code",
   "execution_count": null,
   "metadata": {},
   "outputs": [],
   "source": [
    "def wrapper(func, x):\n",
    "    try:\n",
    "        return func(x)\n",
    "    except:\n",
    "        return None"
   ]
  },
  {
   "cell_type": "code",
   "execution_count": null,
   "metadata": {},
   "outputs": [],
   "source": [
    "maps['state_fips'] = maps['GEOID'].apply(lambda x : int(x[:2]))\n",
    "maps['district'] = maps['GEOID'].apply(lambda x : wrapper(int, x[2:]))"
   ]
  },
  {
   "cell_type": "code",
   "execution_count": null,
   "metadata": {},
   "outputs": [],
   "source": [
    "maps = maps[['state_fips', 'district', 'geometry']].copy()"
   ]
  },
  {
   "cell_type": "code",
   "execution_count": null,
   "metadata": {},
   "outputs": [],
   "source": [
    "uncon = df.loc[test_uncontest.index, ['state_fips', 'district', 'rep_uncontested']].copy()"
   ]
  },
  {
   "cell_type": "code",
   "execution_count": null,
   "metadata": {},
   "outputs": [],
   "source": [
    "uncon['mu'] = uncon['rep_uncontested'].astype(float)"
   ]
  },
  {
   "cell_type": "code",
   "execution_count": null,
   "metadata": {},
   "outputs": [],
   "source": [
    "uncon['sigma'] = 0\n",
    "uncon['edge'] = (uncon['mu'] - .5) * 40"
   ]
  },
  {
   "cell_type": "code",
   "execution_count": null,
   "metadata": {},
   "outputs": [],
   "source": [
    "preds = pd.concat([test_info, uncon.drop('rep_uncontested', axis=1)], sort=False)"
   ]
  },
  {
   "cell_type": "code",
   "execution_count": null,
   "metadata": {},
   "outputs": [],
   "source": [
    "final_map = maps.merge(preds, how='right', on=['state_fips', 'district'])"
   ]
  },
  {
   "cell_type": "code",
   "execution_count": null,
   "metadata": {},
   "outputs": [],
   "source": [
    "f, ax = plt.subplots(1, figsize=(7, 5))\n",
    "final_map.query('state not in [\"Alaska\", \"Hawaii\"]')[['geometry', 'mu']]\\\n",
    ".plot('mu', cmap='coolwarm', vmin=0.3, vmax=.7, \n",
    "      linewidth=0, figsize=(5,5), ax=ax)\n",
    "\n",
    "ax.set_aspect(aspect=1.3)\n",
    "ax.axis('off')\n",
    "\n",
    "# plt.savefig('report/projected_map.eps')"
   ]
  },
  {
   "cell_type": "markdown",
   "metadata": {},
   "source": [
    "# Produce a table of predictions"
   ]
  },
  {
   "cell_type": "code",
   "execution_count": null,
   "metadata": {},
   "outputs": [],
   "source": [
    "preds['state'] = preds['state_fips'].apply(lambda x: us.states.lookup(str(x).zfill(2)).name)"
   ]
  },
  {
   "cell_type": "code",
   "execution_count": null,
   "metadata": {},
   "outputs": [],
   "source": [
    "from scipy.stats import norm"
   ]
  },
  {
   "cell_type": "code",
   "execution_count": null,
   "metadata": {},
   "outputs": [],
   "source": [
    "def compute_prob_republican(x):\n",
    "    if x['sigma'] == 0:\n",
    "        return x['mu']\n",
    "    else:\n",
    "        return 1 - norm.cdf((.5 - x['mu']) / x['sigma'])"
   ]
  },
  {
   "cell_type": "code",
   "execution_count": null,
   "metadata": {},
   "outputs": [],
   "source": [
    "preds['republican_win_prob'] = preds.apply(compute_prob_republican, axis=1)"
   ]
  },
  {
   "cell_type": "code",
   "execution_count": null,
   "metadata": {},
   "outputs": [],
   "source": [
    "preds = preds.merge(df.query('raceyear == 2018')[['state_fips', 'district', 'rep_lastname', 'dem_lastname']])"
   ]
  },
  {
   "cell_type": "code",
   "execution_count": null,
   "metadata": {},
   "outputs": [],
   "source": [
    "preds['projected_winning_candidate'] = preds.apply(lambda x : x['rep_lastname']  + ' (R)'\n",
    "                                                   if x['republican_win_prob'] > .5 \n",
    "                                                   else x['dem_lastname'] + ' (D)', axis=1)\n"
   ]
  },
  {
   "cell_type": "code",
   "execution_count": null,
   "metadata": {},
   "outputs": [],
   "source": [
    "preds['winner_prob'] = np.maximum(preds['republican_win_prob'], 1-preds['republican_win_prob'])"
   ]
  },
  {
   "cell_type": "code",
   "execution_count": null,
   "metadata": {},
   "outputs": [],
   "source": [
    "preds['cong_district'] = preds['state'].astype(str) + '-' + preds['district'].astype(str).str.zfill(2)"
   ]
  },
  {
   "cell_type": "code",
   "execution_count": null,
   "metadata": {},
   "outputs": [],
   "source": [
    "winners = preds.sort_values(['state', 'district'])[['cong_district', 'projected_winning_candidate', 'winner_prob']].copy()\n",
    "winners.columns = ['District', 'Projected Winner', 'Probability']"
   ]
  },
  {
   "cell_type": "code",
   "execution_count": null,
   "metadata": {},
   "outputs": [],
   "source": [
    "with open('report/projected_results.tex', 'w') as f:\n",
    "    f.write(winners.to_latex(index=False, longtable=True))"
   ]
  },
  {
   "cell_type": "code",
   "execution_count": null,
   "metadata": {},
   "outputs": [],
   "source": [
    "winners.to_csv('report/projections.csv', index=False)"
   ]
  },
  {
   "cell_type": "code",
   "execution_count": null,
   "metadata": {},
   "outputs": [],
   "source": []
  }
 ],
 "metadata": {
  "kernelspec": {
   "display_name": "Python 3",
   "language": "python",
   "name": "python3"
  },
  "language_info": {
   "codemirror_mode": {
    "name": "ipython",
    "version": 3
   },
   "file_extension": ".py",
   "mimetype": "text/x-python",
   "name": "python",
   "nbconvert_exporter": "python",
   "pygments_lexer": "ipython3",
   "version": "3.6.6"
  }
 },
 "nbformat": 4,
 "nbformat_minor": 2
}
