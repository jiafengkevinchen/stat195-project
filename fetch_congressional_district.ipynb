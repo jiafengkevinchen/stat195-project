{
 "cells": [
  {
   "cell_type": "code",
   "execution_count": 28,
   "metadata": {},
   "outputs": [],
   "source": [
    "from tqdm import tqdm_notebook as tqdm"
   ]
  },
  {
   "cell_type": "code",
   "execution_count": 29,
   "metadata": {},
   "outputs": [],
   "source": [
    "import requests, json"
   ]
  },
  {
   "cell_type": "code",
   "execution_count": 66,
   "metadata": {},
   "outputs": [],
   "source": [
    "dfs = []\n",
    "years = [2010, 2011, 2012, 2014, 2016]"
   ]
  },
  {
   "cell_type": "code",
   "execution_count": 67,
   "metadata": {},
   "outputs": [
    {
     "data": {
      "application/vnd.jupyter.widget-view+json": {
       "model_id": "90b598273db2491ab838d10b637782da",
       "version_major": 2,
       "version_minor": 0
      },
      "text/plain": [
       "HBox(children=(IntProgress(value=0, max=5), HTML(value='')))"
      ]
     },
     "metadata": {},
     "output_type": "display_data"
    },
    {
     "name": "stdout",
     "output_type": "stream",
     "text": [
      "\n"
     ]
    }
   ],
   "source": [
    "for year in tqdm(years):\n",
    "    try:\n",
    "        url = \"https://api.census.gov/data/{}/acs/acs5/profile?get=DP02_0067PE,NAME&for=congressional%20district:*\".format(year)\n",
    "        df = pd.read_json((requests.get(url).content))\n",
    "        df.columns = df.iloc[0].values\n",
    "        df = df.iloc[1:].copy()\n",
    "        df['year'] = year\n",
    "        dfs.append(df)\n",
    "    except:\n",
    "        pass"
   ]
  },
  {
   "cell_type": "code",
   "execution_count": 68,
   "metadata": {},
   "outputs": [],
   "source": [
    "df = pd.concat(dfs)"
   ]
  },
  {
   "cell_type": "code",
   "execution_count": 69,
   "metadata": {},
   "outputs": [],
   "source": [
    "df.columns = ['percent_bachelor_or_above', 'name', 'state_fips', 'district', 'year']"
   ]
  },
  {
   "cell_type": "code",
   "execution_count": 113,
   "metadata": {},
   "outputs": [],
   "source": [
    "df1 = pd.read_csv('ACS_06_EST_S1501/ACS_06_EST_S1501_with_ann.csv')\n",
    "\n",
    "col = ['HC01_EST_VC05', 'GEO.id2', 'GEO.display-label']\n",
    "\n",
    "df1 = df1[col].iloc[1:].copy()\n",
    "df1['year'] = 2006\n",
    "\n",
    "df2 = pd.read_csv('ACS_08_3YR_S1501/ACS_08_3YR_S1501_with_ann.csv')\n",
    "\n",
    "df2 = df2[col].iloc[1:].copy()\n",
    "df2['year'] = 2008\n",
    "\n",
    "df3 = pd.read_csv('DEC_00_SF3_DP2/DEC_00_SF3_DP2_with_ann.csv')\n",
    "\n",
    "col = ['HC01_VC18', 'GEO.id2', 'GEO.display-label']\n",
    "df3 = df3[col].iloc[1:].copy()\n",
    "df3['year'] = 2000\n",
    "\n",
    "col += ['year']\n",
    "df1.columns = col\n",
    "df2.columns = col\n",
    "df3.columns = col"
   ]
  },
  {
   "cell_type": "code",
   "execution_count": 114,
   "metadata": {},
   "outputs": [],
   "source": [
    "df_other = pd.concat([df1, df2, df3])"
   ]
  },
  {
   "cell_type": "code",
   "execution_count": 115,
   "metadata": {},
   "outputs": [],
   "source": [
    "df_other['state_fips'] = df_other['GEO.id2'].apply(lambda x : x[:2])\n",
    "df_other['district'] = df_other['GEO.id2'].apply(lambda x : x[2:])"
   ]
  },
  {
   "cell_type": "code",
   "execution_count": 116,
   "metadata": {},
   "outputs": [],
   "source": [
    "df_other = df_other.drop('GEO.id2', axis=1)"
   ]
  },
  {
   "cell_type": "code",
   "execution_count": 117,
   "metadata": {},
   "outputs": [],
   "source": [
    "df_other.columns = ['percent_bachelor_or_above', 'name', 'year', 'state_fips', 'district']"
   ]
  },
  {
   "cell_type": "code",
   "execution_count": 119,
   "metadata": {},
   "outputs": [],
   "source": [
    "df = pd.concat([df, df_other], sort=False)"
   ]
  },
  {
   "cell_type": "code",
   "execution_count": 135,
   "metadata": {},
   "outputs": [
    {
     "data": {
      "text/plain": [
       "110th Congress    437\n",
       "115th Congress    437\n",
       "111th Congress    437\n",
       "113th Congress    437\n",
       "112th Congress    437\n",
       "109th Congress    437\n",
       "114th Congress    437\n",
       "106th Congress    436\n",
       "Name: name, dtype: int64"
      ]
     },
     "execution_count": 135,
     "metadata": {},
     "output_type": "execute_result"
    }
   ],
   "source": [
    "df['name'].str.findall(r'\\(([^\\)]+?th.+?)\\)').apply(lambda x : x[0]).value_counts()"
   ]
  },
  {
   "cell_type": "code",
   "execution_count": 126,
   "metadata": {},
   "outputs": [],
   "source": [
    "df.reset_index().to_feather('percent_bachelor_or_above.feather')"
   ]
  }
 ],
 "metadata": {
  "kernelspec": {
   "display_name": "Python 3",
   "language": "python",
   "name": "python3"
  },
  "language_info": {
   "codemirror_mode": {
    "name": "ipython",
    "version": 3
   },
   "file_extension": ".py",
   "mimetype": "text/x-python",
   "name": "python",
   "nbconvert_exporter": "python",
   "pygments_lexer": "ipython3",
   "version": "3.6.5"
  }
 },
 "nbformat": 4,
 "nbformat_minor": 2
}
