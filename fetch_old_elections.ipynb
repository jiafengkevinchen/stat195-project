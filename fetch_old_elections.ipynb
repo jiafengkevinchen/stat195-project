{
 "cells": [
  {
   "cell_type": "code",
   "execution_count": 34,
   "metadata": {},
   "outputs": [],
   "source": [
    "import selenium\n",
    "from selenium import webdriver\n",
    "import os, time\n",
    "wd = webdriver.Chrome()"
   ]
  },
  {
   "cell_type": "code",
   "execution_count": 26,
   "metadata": {},
   "outputs": [],
   "source": [
    "os.chdir('/Users/jiafengchen/Downloads/')"
   ]
  },
  {
   "cell_type": "code",
   "execution_count": 29,
   "metadata": {},
   "outputs": [],
   "source": [
    "years = [\"2012-2020\",\n",
    "\"2002-2010\",\n",
    "\"1992-2000\",\n",
    "\"1982-1990\",\n",
    "\"1972-1980\",\n",
    "\"1968-1970\"]\n",
    "states = [\"1\",\"10\",\"17\",\"12\",\"24\",\"81\",\"88\",\"95\",\"97\",\n",
    "          \"121\",\"133\",\"143\",\"146\",\"167\",\"136\",\"179\",\"184\",\"191\",\"199\",\n",
    "          \"221\",\"210\",\"230\",\"247\",\"266\",\"256\",\"272\",\"289\",\"314\",\"293\",\"296\",\"310\",\"317\",\n",
    "          \"274\",\"287\",\"349\",\"369\",\"376\",\"382\",\"403\",\"406\",\"498\",\"413\",\"423\",\"454\",\"470\",\"458\",\n",
    "          \"472\",\"492\",\"482\",\"496\",]"
   ]
  },
  {
   "cell_type": "code",
   "execution_count": 35,
   "metadata": {},
   "outputs": [
    {
     "data": {
      "application/vnd.jupyter.widget-view+json": {
       "model_id": "6c5bb84b980448bda86936c19b44e11e",
       "version_major": 2,
       "version_minor": 0
      },
      "text/plain": [
       "HBox(children=(IntProgress(value=0, max=6), HTML(value='')))"
      ]
     },
     "metadata": {},
     "output_type": "display_data"
    }
   ],
   "source": [
    "for y in tqdm(years):\n",
    "    for s in states:\n",
    "        url = \"http://library.cqpress.com.ezp-prod1.hul.harvard.edu/elections/download-data-results.php?filetype=1&office=3&areatype=3&year={}&states%5B%5D={}&format=3&license=on&emailto=&emailfrom=&filename=\\\"file.csv\\\"\".format(y,s)\n",
    "        wd.get(url)\n",
    "        while 'export.csv' not in os.listdir():\n",
    "            time.sleep(1)\n",
    "        os.rename('export.csv', 'export_{}_{}.csv'.format(y,s))"
   ]
  },
  {
   "cell_type": "code",
   "execution_count": 69,
   "metadata": {},
   "outputs": [],
   "source": [
    "df = []\n",
    "for file in os.listdir():\n",
    "    if 'csv' in file:\n",
    "        df.append(pd.read_csv(file, header=2, encoding='latin-1', \n",
    "                              thousands=',').dropna(how='all'))\n"
   ]
  },
  {
   "cell_type": "code",
   "execution_count": 80,
   "metadata": {},
   "outputs": [],
   "source": [
    "df = pd.concat(df)\n",
    "df['RedistrictedDate'] = pd.to_datetime(df['RedistrictedDate'].apply(lambda x: str(int(x)) if not np.isnan(x) else x))\n",
    "df = df.dropna(axis=1, how='all')\n",
    "df = df.reset_index(drop=True).drop('Office', axis=1)\n",
    "df.columns = [s.lower() for s in df.columns]"
   ]
  },
  {
   "cell_type": "code",
   "execution_count": 101,
   "metadata": {},
   "outputs": [],
   "source": [
    "up = df['repvotes'] == 'Unopposed'\n",
    "df.loc[up, 'rep_unopposed'] = True\n",
    "df.loc[up, 'repvotes'] = np.nan\n",
    "\n",
    "up = df['demvotes'] == 'Unopposed'\n",
    "df.loc[up, 'dem_unopposed'] = True\n",
    "df.loc[up, 'demvotes'] = np.nan\n"
   ]
  },
  {
   "cell_type": "code",
   "execution_count": 106,
   "metadata": {},
   "outputs": [],
   "source": [
    "def clean_number(x):\n",
    "    if type(x) is str:\n",
    "        return float(x.replace(',', ''))\n",
    "    return x"
   ]
  },
  {
   "cell_type": "code",
   "execution_count": 108,
   "metadata": {},
   "outputs": [],
   "source": [
    "df['repvotes'] = df['repvotes'].apply(clean_number)\n",
    "df['demvotes'] = df['demvotes'].apply(clean_number)"
   ]
  },
  {
   "cell_type": "code",
   "execution_count": 110,
   "metadata": {},
   "outputs": [],
   "source": [
    "df.sort_values(['state','raceyear'], ascending=[True,False]).reset_index(drop=True).to_feather('/Users/jiafengchen/Documents/Senior/Stat 195/project/past_house.feather')"
   ]
  },
  {
   "cell_type": "code",
   "execution_count": null,
   "metadata": {},
   "outputs": [],
   "source": []
  },
  {
   "cell_type": "code",
   "execution_count": null,
   "metadata": {},
   "outputs": [],
   "source": []
  }
 ],
 "metadata": {
  "kernelspec": {
   "display_name": "Python 3",
   "language": "python",
   "name": "python3"
  },
  "language_info": {
   "codemirror_mode": {
    "name": "ipython",
    "version": 3
   },
   "file_extension": ".py",
   "mimetype": "text/x-python",
   "name": "python",
   "nbconvert_exporter": "python",
   "pygments_lexer": "ipython3",
   "version": "3.6.5"
  }
 },
 "nbformat": 4,
 "nbformat_minor": 2
}
